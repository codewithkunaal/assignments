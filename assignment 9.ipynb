{
 "cells": [
  {
   "cell_type": "markdown",
   "id": "ac9bbadd",
   "metadata": {},
   "source": [
    "1.To what does a relative path refer?\n",
    "> relative path refer to files in current working directory \n",
    "\n",
    "2.What does an absolute path start with your operating system?  \n",
    ">Absolute paths start with the root folder.  for linux its  / ,for windows C:\\.\n",
    "                                                            \n",
    "3.What do the functions os.getcwd() and os.chdir() do? \n",
    "> os.getcwd() method tells us location of current working directory (CWD). Whereas os.chdir() method is used to change the current working directory to specified path.                                                    \n",
    "\n",
    "4.What are the . and .. folders?\n",
    ">The . folder is the current folder, and .. is the parent folder.                                              \n",
    "\n",
    "5.In C:\\bacon\\eggs\\spam.txt, which part is the dir name, and which part is the base name?                                   \n",
    "> C:\\bacon\\eggs is the dir name, while spam.txt is the base name.                                                           \n",
    "\n",
    "6.What are the three “mode” arguments that can be passed to the open() function?                              \n",
    ">The string \"r\",\"w\",\"a\" are arguments passed to open file in read , write and append mode respectively.                       \n",
    "\n",
    "7.What happens if an existing file is opened in write mode?\n",
    ">If an existing file opened in write mode then all text will be erased and completely overwritten.\n",
    "\n",
    "8.How do you tell the difference between read() and readlines()?\n",
    ">The read() method returns the file’s entire contents as a single string value. The readlines() method returns a list of strings, where each string is a line from the file’s contents.                              \n",
    "\n",
    "9.What data structure does a shelf value resemble?\n",
    "> A shelf value resembles a dictionary values. It has key value pairs.\n",
    "\n"
   ]
  },
  {
   "cell_type": "markdown",
   "id": "c20d211b",
   "metadata": {},
   "source": []
  }
 ],
 "metadata": {
  "kernelspec": {
   "display_name": "Python 3 (ipykernel)",
   "language": "python",
   "name": "python3"
  },
  "language_info": {
   "codemirror_mode": {
    "name": "ipython",
    "version": 3
   },
   "file_extension": ".py",
   "mimetype": "text/x-python",
   "name": "python",
   "nbconvert_exporter": "python",
   "pygments_lexer": "ipython3",
   "version": "3.9.6"
  }
 },
 "nbformat": 4,
 "nbformat_minor": 5
}
