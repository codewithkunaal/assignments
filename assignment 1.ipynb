{
 "cells": [
  {
   "cell_type": "markdown",
   "id": "61953974",
   "metadata": {},
   "source": [
    "## ineuron assignment - 1"
   ]
  },
  {
   "cell_type": "markdown",
   "id": "6df1d1fb",
   "metadata": {},
   "source": [
    "Q1- In the below elements which of them are values or an expression? eg:- values can be\n",
    "integer or string and expressions will be mathematical operators.\n",
    "\n",
    "Ans = 1.string , 2.float, 3.operators, 4.int"
   ]
  },
  {
   "cell_type": "code",
   "execution_count": 6,
   "id": "5d152eef",
   "metadata": {},
   "outputs": [
    {
     "name": "stdout",
     "output_type": "stream",
     "text": [
      "<class 'str'>\n",
      "<class 'float'>\n",
      "<class 'int'>\n"
     ]
    },
    {
     "data": {
      "text/plain": [
       "(None, None, None)"
      ]
     },
     "execution_count": 6,
     "metadata": {},
     "output_type": "execute_result"
    }
   ],
   "source": [
    "print(type(\"hello\")), print(type(-87.8)),print(type(6))"
   ]
  },
  {
   "cell_type": "markdown",
   "id": "035b69cf",
   "metadata": {},
   "source": [
    "Q2. What is the difference between string and variable?\n",
    "\n",
    "Ans = A variable is a value that stores information wheather it can be int,float,strings,iteratables.\n",
    "        whereas the string is  any value that is inside double quotations like, \"this\". "
   ]
  },
  {
   "cell_type": "markdown",
   "id": "b4a365ce",
   "metadata": {},
   "source": [
    "Q3. Describe three different data types.\n",
    "\n",
    "\n",
    "\n",
    "Ans = 1.int - it is a descrete numerical value\n",
    "    2. float -  it is a decimal value\n",
    "    3.string - string is set of characters \n",
    "    4.dict - it has key value pairs"
   ]
  },
  {
   "cell_type": "markdown",
   "id": "9b42a16b",
   "metadata": {},
   "source": [
    "Q4. What is an expression made up of? What do all expressions do?\n",
    "\n",
    "\n",
    "Ans = expressions are made up of values and mathematical operators that leads to single output value \n",
    "        like adding values together will give one big value "
   ]
  },
  {
   "cell_type": "markdown",
   "id": "e8255d23",
   "metadata": {},
   "source": [
    "Q5. This assignment statements, like spam = 10. What is the difference between an\n",
    "expression and a statement?\n",
    "\n",
    "\n",
    "Ans = expressions represent values calculated from certain set of values while statement is a single value that is assigned to something or it doesnt return when executed."
   ]
  },
  {
   "cell_type": "markdown",
   "id": "5378c200",
   "metadata": {},
   "source": [
    "Q6. After running the following code, what does the variable bacon contain?\n",
    "\n",
    "ans = 23"
   ]
  },
  {
   "cell_type": "code",
   "execution_count": 7,
   "id": "edf7faf9",
   "metadata": {},
   "outputs": [
    {
     "data": {
      "text/plain": [
       "23"
      ]
     },
     "execution_count": 7,
     "metadata": {},
     "output_type": "execute_result"
    }
   ],
   "source": [
    "bacon = 22\n",
    "bacon + 1"
   ]
  },
  {
   "cell_type": "markdown",
   "id": "e5f05125",
   "metadata": {},
   "source": [
    "7. What should the values of the following two terms be?\n",
    "\n",
    "\n",
    "ans = 'spamspamspam'"
   ]
  },
  {
   "cell_type": "code",
   "execution_count": 8,
   "id": "8edb57c0",
   "metadata": {},
   "outputs": [
    {
     "data": {
      "text/plain": [
       "'spamspamspam'"
      ]
     },
     "execution_count": 8,
     "metadata": {},
     "output_type": "execute_result"
    }
   ],
   "source": [
    "\"spam\"+\"spamspam\"\n",
    "\"spam\"*3"
   ]
  },
  {
   "cell_type": "markdown",
   "id": "eb22f073",
   "metadata": {},
   "source": [
    "Q8. Why is eggs a valid variable name while 100 is invalid?\n",
    "\n",
    "\n",
    "ans= the value \"eggs\" is a string while \"100\" is not and python dont allow variables to start with numbers.\n"
   ]
  },
  {
   "cell_type": "markdown",
   "id": "4ce2f10a",
   "metadata": {},
   "source": [
    "Q9. What three functions can be used to get the integer, floating-point number, or string\n",
    "version of a value?\n",
    "\n",
    "\n",
    "Ans = typecast them to get into desired version\n",
    "        for integer - int()\n",
    "            floating point - float()\n",
    "            string - str() "
   ]
  },
  {
   "cell_type": "markdown",
   "id": "6ea61f92",
   "metadata": {},
   "source": [
    "10. Why does this expression cause an error? How can you fix it?\n",
    "\n",
    "\n",
    "ans = because 99 is treated as int not str so str cant be added to and int value"
   ]
  },
  {
   "cell_type": "code",
   "execution_count": 10,
   "id": "4d30f681",
   "metadata": {},
   "outputs": [
    {
     "ename": "TypeError",
     "evalue": "can only concatenate str (not \"int\") to str",
     "output_type": "error",
     "traceback": [
      "\u001b[1;31m---------------------------------------------------------------------------\u001b[0m",
      "\u001b[1;31mTypeError\u001b[0m                                 Traceback (most recent call last)",
      "\u001b[1;32m~\\AppData\\Local\\Temp/ipykernel_8544/1014227214.py\u001b[0m in \u001b[0;36m<module>\u001b[1;34m\u001b[0m\n\u001b[1;32m----> 1\u001b[1;33m \u001b[1;34m\"i have eaten \"\u001b[0m\u001b[1;33m+\u001b[0m\u001b[1;36m99\u001b[0m\u001b[1;33m+\u001b[0m\u001b[1;34m\"burritos\"\u001b[0m\u001b[1;33m\u001b[0m\u001b[1;33m\u001b[0m\u001b[0m\n\u001b[0m",
      "\u001b[1;31mTypeError\u001b[0m: can only concatenate str (not \"int\") to str"
     ]
    }
   ],
   "source": [
    "\"i have eaten \"+99+\"burritos.\""
   ]
  },
  {
   "cell_type": "code",
   "execution_count": 13,
   "id": "61c6e753",
   "metadata": {},
   "outputs": [
    {
     "data": {
      "text/plain": [
       "('i have eaten 99burritos.', 'or', 'i have eaten 99burritos')"
      ]
     },
     "execution_count": 13,
     "metadata": {},
     "output_type": "execute_result"
    }
   ],
   "source": [
    "\"i have eaten \"+\"99\"+\"burritos.\" ,\"or\", \"i have eaten \"+str(99)+\"burritos\""
   ]
  },
  {
   "cell_type": "code",
   "execution_count": null,
   "id": "8f129693",
   "metadata": {},
   "outputs": [],
   "source": []
  }
 ],
 "metadata": {
  "kernelspec": {
   "display_name": "Python 3 (ipykernel)",
   "language": "python",
   "name": "python3"
  },
  "language_info": {
   "codemirror_mode": {
    "name": "ipython",
    "version": 3
   },
   "file_extension": ".py",
   "mimetype": "text/x-python",
   "name": "python",
   "nbconvert_exporter": "python",
   "pygments_lexer": "ipython3",
   "version": "3.9.6"
  }
 },
 "nbformat": 4,
 "nbformat_minor": 5
}
