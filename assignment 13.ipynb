{
 "cells": [
  {
   "cell_type": "markdown",
   "id": "f30b7f25",
   "metadata": {},
   "source": [
    "### 1.What advantages do Excel spreadsheets have over CSV spreadsheets?"
   ]
  },
  {
   "cell_type": "markdown",
   "id": "51d7d9f7",
   "metadata": {},
   "source": [
    "Ans =\n",
    "1.Excel file formats are better for storing and analysing complex data.\n",
    "2.An Excel not only stores data but can also do operations on the data using macros, formulas etc.\n",
    "3.CSV files are plain-text files, Does not contain formatting, formulas, macros, etc. It is also known as flat files"
   ]
  },
  {
   "cell_type": "markdown",
   "id": "dedd9f2d",
   "metadata": {},
   "source": [
    "### 2.What do you pass to csv.reader() and csv.writer() to create reader and writer objects?\n"
   ]
  },
  {
   "cell_type": "code",
   "execution_count": 7,
   "id": "970c2254",
   "metadata": {},
   "outputs": [
    {
     "name": "stdout",
     "output_type": "stream",
     "text": [
      "['fruit', 'colour']\n",
      "[]\n",
      "['mango', 'yellow']\n",
      "[]\n",
      "['apple', 'red']\n",
      "[]\n",
      "['kiwi', 'green']\n",
      "[]\n"
     ]
    }
   ],
   "source": [
    "import csv\n",
    "with open('text.csv','r') as f:\n",
    "    csv = csv.reader(f,delimiter=',')\n",
    "    for i in csv:\n",
    "        print(i)\n",
    "#this  output is from another question im using same file here"
   ]
  },
  {
   "cell_type": "markdown",
   "id": "fe0c4a92",
   "metadata": {},
   "source": [
    "### 3.What modes do File objects for reader and writer objects need to be opened in?\n"
   ]
  },
  {
   "cell_type": "markdown",
   "id": "22ce5d4c",
   "metadata": {},
   "source": [
    "Ans = For csv.reader(iterable_file_object), the file objects needed to be opened in read mode mode='r'                         \n",
    "Whereas for csv.writer(iterable_file_object) the file objects needed to be opened in write mode mode='w"
   ]
  },
  {
   "cell_type": "markdown",
   "id": "8a835693",
   "metadata": {},
   "source": [
    "### 4.What method takes a list argument and writes it to a CSV file?\n"
   ]
  },
  {
   "cell_type": "markdown",
   "id": "4cb90199",
   "metadata": {},
   "source": [
    " Ans = csv.writer class provides two methods for writing to CSV.                                     \n",
    " They are writerow() and writerows().                                  \n",
    " writerow() method writes a single row at a time. Whereas writerows() method is used to write multiple rows at a time."
   ]
  },
  {
   "cell_type": "code",
   "execution_count": 2,
   "id": "ee794792",
   "metadata": {},
   "outputs": [],
   "source": [
    "# writting data in text.csv\n",
    "# Example Program\n",
    "import csv      \n",
    "fields = ['fruit', 'colour']  \n",
    "rows = [ \n",
    "            ['mango', 'yellow'],  # data rows of csv file \n",
    "            ['apple', 'red'], \n",
    "            ['kiwi', 'green']\n",
    "       ] \n",
    "with open(\"text.csv\", 'w') as f: \n",
    "    csvwriter = csv.writer(f)  \n",
    "    csvwriter.writerow(fields) \n",
    "    csvwriter.writerows(rows)  "
   ]
  },
  {
   "cell_type": "code",
   "execution_count": 5,
   "id": "ab2fc6c8",
   "metadata": {},
   "outputs": [],
   "source": [
    "import pandas as pd\n",
    "df = pd.read_csv(\"text.csv\")"
   ]
  },
  {
   "cell_type": "code",
   "execution_count": 6,
   "id": "04385728",
   "metadata": {},
   "outputs": [
    {
     "data": {
      "text/html": [
       "<div>\n",
       "<style scoped>\n",
       "    .dataframe tbody tr th:only-of-type {\n",
       "        vertical-align: middle;\n",
       "    }\n",
       "\n",
       "    .dataframe tbody tr th {\n",
       "        vertical-align: top;\n",
       "    }\n",
       "\n",
       "    .dataframe thead th {\n",
       "        text-align: right;\n",
       "    }\n",
       "</style>\n",
       "<table border=\"1\" class=\"dataframe\">\n",
       "  <thead>\n",
       "    <tr style=\"text-align: right;\">\n",
       "      <th></th>\n",
       "      <th>fruit</th>\n",
       "      <th>colour</th>\n",
       "    </tr>\n",
       "  </thead>\n",
       "  <tbody>\n",
       "    <tr>\n",
       "      <th>0</th>\n",
       "      <td>mango</td>\n",
       "      <td>yellow</td>\n",
       "    </tr>\n",
       "    <tr>\n",
       "      <th>1</th>\n",
       "      <td>apple</td>\n",
       "      <td>red</td>\n",
       "    </tr>\n",
       "    <tr>\n",
       "      <th>2</th>\n",
       "      <td>kiwi</td>\n",
       "      <td>green</td>\n",
       "    </tr>\n",
       "  </tbody>\n",
       "</table>\n",
       "</div>"
      ],
      "text/plain": [
       "   fruit  colour\n",
       "0  mango  yellow\n",
       "1  apple     red\n",
       "2   kiwi   green"
      ]
     },
     "execution_count": 6,
     "metadata": {},
     "output_type": "execute_result"
    }
   ],
   "source": [
    "df"
   ]
  },
  {
   "cell_type": "markdown",
   "id": "aab9d849",
   "metadata": {},
   "source": [
    "### 5. What do the keyword arguments delimiter and line terminator do?\n"
   ]
  },
  {
   "cell_type": "markdown",
   "id": "e6db026f",
   "metadata": {},
   "source": [
    "(comma) ',' is Delimiter. like in above eg.                \n",
    "It is used commas to separate the words from each other                           \n",
    "We can use any Character as per our needs if required.      \n",
    "Similarly Line Terminator comes at end of line by default it is newline and can be changed accourding to Requirement."
   ]
  },
  {
   "cell_type": "markdown",
   "id": "54193ef6",
   "metadata": {},
   "source": [
    "### 6.What function takes a string of JSON data and returns a Python data structure?\n"
   ]
  },
  {
   "cell_type": "markdown",
   "id": "5f4d10c7",
   "metadata": {},
   "source": [
    "json.loads() method takes a string of JSON data and returns a Python data structure"
   ]
  },
  {
   "cell_type": "markdown",
   "id": "aa82fea9",
   "metadata": {},
   "source": [
    "### 7.What function takes a Python data structure and returns a string of JSON data?\n"
   ]
  },
  {
   "cell_type": "markdown",
   "id": "c6020125",
   "metadata": {},
   "source": [
    "json.dumps() method takes a python data structure and returns a string of JSON data"
   ]
  },
  {
   "cell_type": "code",
   "execution_count": null,
   "id": "a0554383",
   "metadata": {},
   "outputs": [],
   "source": []
  }
 ],
 "metadata": {
  "kernelspec": {
   "display_name": "Python 3 (ipykernel)",
   "language": "python",
   "name": "python3"
  },
  "language_info": {
   "codemirror_mode": {
    "name": "ipython",
    "version": 3
   },
   "file_extension": ".py",
   "mimetype": "text/x-python",
   "name": "python",
   "nbconvert_exporter": "python",
   "pygments_lexer": "ipython3",
   "version": "3.9.6"
  }
 },
 "nbformat": 4,
 "nbformat_minor": 5
}
