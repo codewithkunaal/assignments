{
 "cells": [
  {
   "cell_type": "markdown",
   "id": "aaa2f3a0",
   "metadata": {},
   "source": [
    "1. What is the concept of human learning? Please give two examples."
   ]
  },
  {
   "cell_type": "markdown",
   "id": "70855cb9",
   "metadata": {},
   "source": [
    "Ans- Human Learning is the process of gaining information. This information gain can be in form of a behavioural, educational or personal.Two types of Human learning can be visual learning where we see things, and then learn and retain information. Second is reading or writing based."
   ]
  },
  {
   "cell_type": "markdown",
   "id": "8c3569d7",
   "metadata": {},
   "source": [
    "\n",
    "2. What different forms of human learning are there? Are there any machine learning equivalents?"
   ]
  },
  {
   "cell_type": "markdown",
   "id": "f29153e1",
   "metadata": {},
   "source": [
    "Ans - Studying under supervision, studying without supervision are some of the forms of human learning. Equivalents of this are supervised, unsupervised machine learning."
   ]
  },
  {
   "cell_type": "markdown",
   "id": "dc3a33b1",
   "metadata": {},
   "source": [
    "\n",
    "3. What is machine learning, and how does it work? What are the key responsibilities of machine\n",
    "learning?"
   ]
  },
  {
   "cell_type": "markdown",
   "id": "ab111b68",
   "metadata": {},
   "source": [
    "Ans - Machine Learning is a subset of AI which provides mathematical tools to analyze data, do Exploratory Data Analysis, make predictive models and exposed APIs and more. Machine Learning works by providing the computer capability to make predictions or help analysis of data by creating complex algorithmic models that are trained to work within constraints that have to be specified in training data.\n",
    "\n",
    "Key Responsibilities of Machine Leaning are highly specific to the domain in which it is being used."
   ]
  },
  {
   "cell_type": "markdown",
   "id": "95f77941",
   "metadata": {},
   "source": [
    "\n",
    "4.Define the terms &quot;penalty&quot; and &quot;reward&quot; in the context of reinforcement learning."
   ]
  },
  {
   "cell_type": "markdown",
   "id": "72e1b6be",
   "metadata": {},
   "source": [
    "Ans - Penalty is just like regularization term in logistic Regression function that penalizes overfitting and underfitting. In reinforcement learning, a penalty is imposed in the training phase for every wrong prediction or classification, in other words it sets the algorithm one step back. A reward is gained for every correct prediction or classification, which means the algorithm goes one step ahead towards making itself more effective. Hundreds of such iterations are performed over and over for the model to become ready."
   ]
  },
  {
   "cell_type": "markdown",
   "id": "1b438976",
   "metadata": {},
   "source": [
    "\n",
    "5.Explain the term &quot;learning as a search&quot;?"
   ]
  },
  {
   "cell_type": "markdown",
   "id": "962f853f",
   "metadata": {},
   "source": [
    "Ans - Parsing through a universal set of high cardinality, consisting of hypothesis that can be fit over a training data to find the best hypothesis is concept of learning as a search"
   ]
  },
  {
   "cell_type": "markdown",
   "id": "13cb22f1",
   "metadata": {},
   "source": [
    "\n",
    "6.What are the various goals of machine learning? What is the relationship between these and\n",
    "human learning?"
   ]
  },
  {
   "cell_type": "markdown",
   "id": "f66719c1",
   "metadata": {},
   "source": [
    "Ans - Goals of machine learning are to implement current existing algorithms over data to help analyze, explore, visualize data and create interpretable and generalizable algorithmic models for making predictions over unseen data"
   ]
  },
  {
   "cell_type": "markdown",
   "id": "e0cb3208",
   "metadata": {},
   "source": [
    "\n",
    "7.Illustrate the various elements of machine learning using a real-life illustration."
   ]
  },
  {
   "cell_type": "markdown",
   "id": "66065ef7",
   "metadata": {},
   "source": [
    "Ans - student learning for a math exam may be the best example or illustration for this question. A side-by-side comparison is done below\n",
    "\n",
    "Machine Learning starts with defining a problem statement, a student too starts with an objective to study specified syllabus\n",
    "\n",
    "Data has to be acquired for Machine Learning. A student gathers books and other materials for study\n",
    "\n",
    "Data is then refined and cleaned to be used for EDA. A student also seperates or highlights out points and questions that are important Machine Learning model then learns using training data. A student also uses example questions, mcq already discussed to learn Then, Machine Learning model is tested over unseen data using an evaluation metric. A student also takes an exam and scores in evaluation metrics that can be GPA, percentile or percentage"
   ]
  },
  {
   "cell_type": "markdown",
   "id": "af187b83",
   "metadata": {},
   "source": [
    "\n",
    "8.Provide an example of the abstraction method."
   ]
  },
  {
   "cell_type": "markdown",
   "id": "db00efeb",
   "metadata": {},
   "source": [
    "Ans - Feature selection is done to reduce dimensionality by only selecting the most relevant and important features for our machine learning model to become more efficient, effective and interpretable. This removal of irrelevant or unimportant features from the dataset is one example of abstraction in machine learning"
   ]
  },
  {
   "cell_type": "markdown",
   "id": "310c49e2",
   "metadata": {},
   "source": [
    "\n",
    "9.What is the concept of generalization? What function does it play in the machine learning\n",
    "process?"
   ]
  },
  {
   "cell_type": "markdown",
   "id": "a726fbb5",
   "metadata": {},
   "source": [
    "Ans - Generalization is the characteristic of a machine learning model that dictates how much variations in the input data regarding problem statement can a model handle. Low generalization would mean that the model will not be able to give correct results over varied data, meaning overfitting or high variance. High generalization would mean that the model will be able to give correct results over varied data."
   ]
  },
  {
   "cell_type": "markdown",
   "id": "4a221c1e",
   "metadata": {},
   "source": [
    "10.What is classification, exactly? What are the main distinctions between classification and regression?"
   ]
  },
  {
   "cell_type": "markdown",
   "id": "9cf81cb6",
   "metadata": {},
   "source": [
    "Ans - Classification is successful labeling of a datapoint out of a finite set of labels available for a dataset, using the independent features that have direct impact over what label a datapoint would get."
   ]
  },
  {
   "cell_type": "markdown",
   "id": "aaaae68d",
   "metadata": {},
   "source": [
    "\n",
    "11.What is regression, and how does it work? Give an example of a real-world problem that was\n",
    "solved using regression."
   ]
  },
  {
   "cell_type": "markdown",
   "id": "20c29a0d",
   "metadata": {},
   "source": [
    "Ans - Regression is defined as prediction of a value of a target variable out of an infinite set of possible values, using one or more independent variables."
   ]
  },
  {
   "cell_type": "markdown",
   "id": "880d35d5",
   "metadata": {},
   "source": [
    "\n",
    "12.Describe the clustering mechanism in detail."
   ]
  },
  {
   "cell_type": "markdown",
   "id": "c8e57e54",
   "metadata": {},
   "source": [
    "Clustering mechanism can different based on the algorithm used.*\n",
    "\n",
    "a. For K means clustering, Lloyd's algorithm as a mathematical approximation. First we pick K random data points and call them our centroids.\n",
    "\n",
    "b. for each data point nearest to a centroid, assign that data point to that centroid and recompute centroid values.\n",
    "\n",
    "c. If old and calculated centroid values are the same or similar, then the old centroid goes on. Else, the calculated centroid becomes the new centroid.\n",
    "\n",
    "d. The above 2 steps are repeated until convergence is reached and every data point is successfully assigned to a cluster."
   ]
  },
  {
   "cell_type": "markdown",
   "id": "5a12a8cd",
   "metadata": {},
   "source": [
    "\n",
    "13. Make brief observations on two of the following topics:\n"
   ]
  },
  {
   "cell_type": "markdown",
   "id": "8f6ddf4e",
   "metadata": {},
   "source": [
    "i. Machine learning algorithms are used                 \n",
    "ii. Studying under supervision                   \n",
    "iii. Studying without supervision                                    \n",
    "iv. Reinforcement learning is a form of learning based on positive reinforcement.                        \n",
    "\n",
    "iii. Studying without supervision involves learning or training without direct supervision. Self goal building is promoted and self correction is required by using certain metrics to ensure correct path of progress. This also comes with its drawback in the form of slow progress and lack of input from supervisor to guide.\n",
    "\n",
    "iv. Reinforcement learning requires reward in mathematical terms for the algorithm to incorporate the correct predictions made and progress further to get more effective. Incorrect predictions only hinder the growth of the algorithm as penalties are imposed. Hence, True progress of reinforcement learning comes from positive reinforcement."
   ]
  }
 ],
 "metadata": {
  "kernelspec": {
   "display_name": "Python 3 (ipykernel)",
   "language": "python",
   "name": "python3"
  },
  "language_info": {
   "codemirror_mode": {
    "name": "ipython",
    "version": 3
   },
   "file_extension": ".py",
   "mimetype": "text/x-python",
   "name": "python",
   "nbconvert_exporter": "python",
   "pygments_lexer": "ipython3",
   "version": "3.9.6"
  }
 },
 "nbformat": 4,
 "nbformat_minor": 5
}
