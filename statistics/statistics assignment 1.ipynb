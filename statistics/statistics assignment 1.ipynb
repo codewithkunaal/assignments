{
 "cells": [
  {
   "cell_type": "markdown",
   "id": "5ef9c87f",
   "metadata": {},
   "source": [
    "Harvard Law School courses often have assigned seating to facilitate the “Socratic method.”             \n",
    "Suppose that there are 100 first year Harvard Law students, and each takes two courses:                    \n",
    "Torts and Contracts. Both are held in the same lecture hall (which has 100 seats), and the   \n",
    "seating is uniformly random and independent for the two courses.                                \n",
    "(a) Find the probability that no one has the same seat for both courses (exactly; you should\n",
    "leave your answer as a sum).                        \n",
    "(b) Find a simple but accurate approximation to the probability that no one has the same\n",
    "seat for both courses.                             \n",
    "(c) Find a simple but accurate approximation to the probability that at least two students\n",
    "have the same seat for both courses.                \n"
   ]
  },
  {
   "attachments": {},
   "cell_type": "markdown",
   "id": "840e5923",
   "metadata": {},
   "source": [
    "Ans - given, 100 first year law students         \n",
    "    each take 2 courses (torts and contracts)\n",
    "    hall - 100 seats \n",
    "    \n",
    "    \n",
    "    \n",
    "a) probability that no one has same seat for both cources?\n",
    "    say one student seat at any random seat out of 100 then next seat they take is 1/99 leaving the 100th chair/seat\n",
    "    now lets define X be random variable which denote number of students in class that take same seats in both class\n",
    "    now for student S occupy i'th seat has same seat so                        \n",
    "        p(X=0)=1-p(X>=1)= 1 - P (U,Si)\n",
    "\n",
    "Using the inclusion-exclusion formula and the symmetry, we have\n",
    "P (US)) = sum(-1)exp(i-1)*(100-i) P(n(k=1 to i Sk))\n",
    "\n",
    "\n",
    "The probability that first i students sit on their seats is simply\n",
    " (100 - i)!/100!\n",
    "\n",
    "hence we have ,\n",
    "sum (i=1 to 100) [(-1)exp(i-1)/i!]\n",
    " \n",
    "\n",
    "so the ans will be \n",
    "P(X=0) = 1- sum (i= 1 to 100 ) [(-1)exp(i-1)/i!]\n",
    "\n",
    "\n",
    "\n",
    "which means \n",
    "sum (i= 0 to 100)[(-1)exp i /i!]"
   ]
  },
  {
   "cell_type": "markdown",
   "id": "3ef612b9",
   "metadata": {},
   "source": [
    " (b) Find a simple but accurate approximation to the probability that no one has the same\n",
    "seat for both courses."
   ]
  },
  {
   "cell_type": "markdown",
   "id": "1491d775",
   "metadata": {},
   "source": [
    "ans = for this we need a variable that check if Si has occured or not \n",
    "we will denote it as Ji\n",
    "\n",
    "so X= sum of (i=1 to 100)[Ji]"
   ]
  },
  {
   "cell_type": "markdown",
   "id": "ea8e9999",
   "metadata": {},
   "source": [
    "and occurance of Ji is 1/100 by approximaation\n",
    "so thier interssection will be given as 1/100*1/99 lets take this as (1/100)**2"
   ]
  },
  {
   "cell_type": "markdown",
   "id": "5a14d3ea",
   "metadata": {},
   "source": [
    "considering these are independent random variable \n",
    "X can be stated by poisson distribution so var = E(X) = 100E(J1)=1\n",
    "\n",
    "\n",
    "therefore P(X=0) = 1exp0/0!*e**-1 which gives \n",
    "`37x 10**-2`\n",
    "or 0.37"
   ]
  },
  {
   "cell_type": "markdown",
   "id": "4793b1fb",
   "metadata": {},
   "source": [
    "(c) Find a simple but accurate approximation to the probability that at least two students\n",
    "have the same seat for both courses.  "
   ]
  },
  {
   "cell_type": "markdown",
   "id": "a8d3e836",
   "metadata": {},
   "source": [
    "two students having same seat can be expressed by poisson distribution as \n",
    "p(X>=2) 1-P(x=0)-P(X=1)\n",
    "\n",
    "1-e**-1- e**-1                    \n",
    "1- 2e**-1                              \n",
    "= 0.26       \n"
   ]
  },
  {
   "cell_type": "markdown",
   "id": "e6788a86",
   "metadata": {},
   "source": [
    "2.There are 100 passengers lined up to board an airplane with 100 seats (with each seat       \n",
    "assigned to one of the passengers). The first passenger in line crazily decides to sit in a                    \n",
    "randomly chosen seat (with all seats equally likely). Each subsequent passenger takes his or                    \n",
    "her assigned seat if available, and otherwise sits in a random available seat. What is the                 \n",
    "probability that the last passenger in line gets to sit in his or her assigned seat?                                               "
   ]
  },
  {
   "cell_type": "markdown",
   "id": "b86bcee8",
   "metadata": {},
   "source": [
    "we have 100 passengers lined up with 100 seats\n",
    "lets assume we have two people A and B as final passengers so     \n",
    "if only A picks seat at random B will be picking thier assigned seat\n",
    "\n",
    "so B picks correct seat  = A pick any seat = 1/2\n",
    "\n",
    "\n",
    "now if we have 3rd passenger C and they want to pick their assigned seat then both A and B have to pick each others seat  \n",
    "or at leat A have to pick their assigned seat so the probability will be\n",
    "\n",
    "P(C gets assigned seat)=A pick their seat + B pick A's seat * A pick B's seat\n",
    "=1/3+(1/3)∗(1/2)\n",
    "=(1/3+1/6)\n",
    "=1/2."
   ]
  },
  {
   "cell_type": "code",
   "execution_count": null,
   "id": "f594268b",
   "metadata": {},
   "outputs": [],
   "source": []
  }
 ],
 "metadata": {
  "kernelspec": {
   "display_name": "Python 3 (ipykernel)",
   "language": "python",
   "name": "python3"
  },
  "language_info": {
   "codemirror_mode": {
    "name": "ipython",
    "version": 3
   },
   "file_extension": ".py",
   "mimetype": "text/x-python",
   "name": "python",
   "nbconvert_exporter": "python",
   "pygments_lexer": "ipython3",
   "version": "3.9.6"
  }
 },
 "nbformat": 4,
 "nbformat_minor": 5
}
