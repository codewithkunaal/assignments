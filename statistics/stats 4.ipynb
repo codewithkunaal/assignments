{
 "cells": [
  {
   "cell_type": "markdown",
   "id": "3ff1b009",
   "metadata": {},
   "source": [
    "1.Is it possible that an event is independent of itself? If so, when?"
   ]
  },
  {
   "cell_type": "markdown",
   "id": "78bebc0b",
   "metadata": {},
   "source": [
    "ans - a event is independent of itself only when probability is either 0 or 1\n",
    "so p(a)=0 and p(a)=1                        \n",
    "The only way a random variable X can be independent of itself is,\n",
    "if for every measurable set A, either P(X=A)=1 or P(X=A)=0.  "
   ]
  },
  {
   "cell_type": "markdown",
   "id": "1e43d7bf",
   "metadata": {},
   "source": [
    "2. Is it always true that if A and B are independent events, then Ac and Bc are independent\n",
    "events? Show that it is, or give a counterexample."
   ]
  },
  {
   "cell_type": "markdown",
   "id": "5590934f",
   "metadata": {},
   "source": [
    "ans - Let A and B be independent events, and let Ac and Bc are the complements of these function                    \n",
    "        what we know,                         \n",
    "        P(A∩B)=P(A)P(B)                 \n",
    "        P(AC)=1−P(A)                            \n",
    "        P(BC) =1−P(B)      \n",
    "                 "
   ]
  },
  {
   "cell_type": "markdown",
   "id": "bf20e76a",
   "metadata": {},
   "source": [
    "since a and b are independent                     \n",
    "P(Ac∩Bc)=1−P(A∪B)     \n",
    "=1−P(A)−P(B)+P(A∩B)                                               \n",
    "=1−P(A)−P(B)+P(A)P(B)                 \n",
    "=(1−P(A))(1−P(B))                       \n",
    "=P(Ac)P(Bc).              "
   ]
  },
  {
   "cell_type": "code",
   "execution_count": null,
   "id": "36c03ea9",
   "metadata": {},
   "outputs": [],
   "source": []
  },
  {
   "cell_type": "code",
   "execution_count": null,
   "id": "27e7aeeb",
   "metadata": {},
   "outputs": [],
   "source": []
  }
 ],
 "metadata": {
  "kernelspec": {
   "display_name": "Python 3 (ipykernel)",
   "language": "python",
   "name": "python3"
  },
  "language_info": {
   "codemirror_mode": {
    "name": "ipython",
    "version": 3
   },
   "file_extension": ".py",
   "mimetype": "text/x-python",
   "name": "python",
   "nbconvert_exporter": "python",
   "pygments_lexer": "ipython3",
   "version": "3.9.6"
  }
 },
 "nbformat": 4,
 "nbformat_minor": 5
}
