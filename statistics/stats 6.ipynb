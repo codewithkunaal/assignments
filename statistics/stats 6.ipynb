{
 "cells": [
  {
   "cell_type": "markdown",
   "id": "93eccb85",
   "metadata": {},
   "source": [
    "A group of n 2 people decide to play an exciting game of Rock-Paper Scissors. As you may\n",
    "recall, Rock smashes Scissors, Scissors cuts Paper, and Paper covers Rock (despite Bart\n",
    "Simpson saying “Good old rock, nothing beats that!”). Usually, this game is played with 2\n",
    "players, but it can be extended to more players as follows. If exactly 2 of the 3 choices\n",
    "appear when everyone reveals their choice, say a, b 2 {Rock, P aper, Scissors} where a beats\n",
    "b, the game is decisive: the players who chose a win, and the players who chose b lose.\n",
    "Otherwise, the game is indecisive and the players play again. For example, with 5 players, if\n",
    "one player picks Rock, two pick Scissors, and two pick Paper, the round is indecisive and they\n",
    "play again. But if 3 pick Rock and 2 pick Scissors, then the Rock players win and the Scissors\n",
    "players lose the game. 1 Assume that the n players independently and randomly choose\n",
    "between Rock, Scissors, and Paper, with equal probabilities. Let X, Y, Z be the number of\n",
    "players who pick Rock, Scissors, Paper, respectively in one game.\n",
    "(a) Find the joint PMF of X, Y, Z.\n",
    "(b) Find the probability that the game is decisive. Simplify your answer (it should not involve\n",
    "a sum of many terms).\n",
    "(c) What is the probability that the game is decisive for n = 5? What is the limiting probability\n",
    "that a game is decisive as n ! 1? Explain briefly why your answer makes sense."
   ]
  },
  {
   "cell_type": "markdown",
   "id": "696cf22c",
   "metadata": {},
   "source": [
    "ANS = The joint distribution of X, Y, Z is\n",
    "P(X = a, Y = b, Z = c) = n!/a!b!c!*(1/3)^a+b+c\n",
    "\n",
    "\n",
    "\n",
    "\n",
    "where a, b, c are any non negative integers with a+b+c = n, since (1/3)^a+b+c is\n",
    "the probability of any specific configuration of choices for each player with the\n",
    "right numbers in each category, and the coecient in front counts the number\n",
    "of distinct ways to permute such a configuration.\n",
    "\n",
    "\n",
    "other way to give joint PMF as\n",
    "P(X = a, Y = b, Z = c) = P(X = a)P(Y = b|X = a)P(Z = c|X = a, Y = b),\n",
    "\n",
    "where for a + b + c = n, \n",
    "P(X = a) can be found from the Bin(n, 1/3) PMF,\n",
    "\n",
    "P(Y = b|X = a) can be found from the Bin(n  a, 1/2) PMF,\n",
    "and P(Z =c|X = a, Y = b) = 1.\n",
    "This is a Multinomial(n,( 1/3 , 1/3 , 1/3 )). distribution.\n",
    "\n",
    "\n",
    "                                \n",
    "(b) Find the probability that the game is decisive. Simplify your answer (it\n",
    "should not involve a sum of many terms).                                                         \n",
    "\n",
    "The game is decisive if and only if exactly one of X, Y, Z is 0.                        \n",
    "These cases are disjoint so by symmetry, the probability is 3 times the probability that X is                          \n",
    "zero and Y and Z are non-zero. Note that if X = 0 and Y = k, then Z = nk.\n",
    "This gives\n",
    "P(decisive) = 3*sum (k = 1 to n-1)n!/k!(n - k)! *(1/3)^n\n",
    "which on simplifying further gives \n",
    " \n",
    "          \n",
    "(2^n) - 2/(3^n)- 1\n",
    "\n",
    "when n = 2 this\n",
    "reduces to 2/3, which makes sense since for 2 players, the game is decisive if\n",
    "and only if the two players do not pick the same choice.\n",
    "\n",
    "\n",
    "\n",
    "\n",
    "(c) What is the probability that the game is decisive for n = 5? What is the\n",
    "limiting probability that a game is decisive as n ! 1? Explain briefly why\n",
    "your answer makes sense.\n",
    "                     \n",
    "For n = 5, the probability is (2^5 - 2)/3^4 = 30/81  = 0.37. \n",
    "\n",
    "As n become large by large i mean very large then ,above equation tends to gravitate towards 0, which make sense since if the number of players is very large, it is very likely that there will be at least one of each of Rock, Paper, and Scissors."
   ]
  },
  {
   "cell_type": "code",
   "execution_count": null,
   "id": "3147b5f6",
   "metadata": {},
   "outputs": [],
   "source": []
  }
 ],
 "metadata": {
  "kernelspec": {
   "display_name": "Python 3 (ipykernel)",
   "language": "python",
   "name": "python3"
  },
  "language_info": {
   "codemirror_mode": {
    "name": "ipython",
    "version": 3
   },
   "file_extension": ".py",
   "mimetype": "text/x-python",
   "name": "python",
   "nbconvert_exporter": "python",
   "pygments_lexer": "ipython3",
   "version": "3.9.6"
  }
 },
 "nbformat": 4,
 "nbformat_minor": 5
}
