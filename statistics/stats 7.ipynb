{
 "cells": [
  {
   "cell_type": "markdown",
   "id": "748ecdf9",
   "metadata": {},
   "source": [
    "A spam filter is designed by looking at commonly occurring phrases in spam. Suppose that\n",
    "80% of email is spam. In 10% of the spam emails, the phrase “free money” is used, whereas\n",
    "this phrase is only used in 1% of non-spam emails. A new email has just arrived, which does\n",
    "mention “free money”. What is the probability that it is spam?"
   ]
  },
  {
   "cell_type": "markdown",
   "id": "de526ccc",
   "metadata": {},
   "source": [
    "ans -\n",
    "\n",
    "80% of email is spam means 80/100 = 0.8            \n",
    "0.2 is not spam                               \n",
    "out of 80% spams 10% has \"free money\" = 0.1                   \n",
    "also \"free money \" does occure outside of spam which is 1% = 0.01                                    \n",
    "0.2*0.1 = has \"free money\"                       \n",
    "to solve this we need baye's rule \n",
    "\n",
    "say, S be spam and M has free money in it so \n",
    "proba(S/M) =  all the spams mails having \"free money\" * all spam mails /  all mails that has \"free money\""
   ]
  },
  {
   "cell_type": "code",
   "execution_count": 23,
   "id": "139c5541",
   "metadata": {},
   "outputs": [
    {
     "data": {
      "text/plain": [
       "0.08000000000000002"
      ]
     },
     "execution_count": 23,
     "metadata": {},
     "output_type": "execute_result"
    }
   ],
   "source": [
    "#all spam mails that has free money and all mails which are spam\n",
    "(0.8 * 0.1)"
   ]
  },
  {
   "cell_type": "code",
   "execution_count": 24,
   "id": "e7684228",
   "metadata": {},
   "outputs": [
    {
     "data": {
      "text/plain": [
       "0.08000000000000002"
      ]
     },
     "execution_count": 24,
     "metadata": {},
     "output_type": "execute_result"
    }
   ],
   "source": [
    "0.1*0.8"
   ]
  },
  {
   "cell_type": "code",
   "execution_count": 25,
   "id": "67c6bba6",
   "metadata": {},
   "outputs": [
    {
     "data": {
      "text/plain": [
       "0.002"
      ]
     },
     "execution_count": 25,
     "metadata": {},
     "output_type": "execute_result"
    }
   ],
   "source": [
    "# all non spam mails having free money \n",
    "0.01*0.2"
   ]
  },
  {
   "cell_type": "code",
   "execution_count": 26,
   "id": "cf78e705",
   "metadata": {},
   "outputs": [
    {
     "data": {
      "text/plain": [
       "0.975609756097561"
      ]
     },
     "execution_count": 26,
     "metadata": {},
     "output_type": "execute_result"
    }
   ],
   "source": [
    "0.08/(0.08+0.002)"
   ]
  },
  {
   "cell_type": "markdown",
   "id": "92923f5d",
   "metadata": {},
   "source": [
    "there are 97.5% chances that the new mail is spam"
   ]
  },
  {
   "cell_type": "code",
   "execution_count": null,
   "id": "9be77e13",
   "metadata": {},
   "outputs": [],
   "source": []
  }
 ],
 "metadata": {
  "kernelspec": {
   "display_name": "Python 3 (ipykernel)",
   "language": "python",
   "name": "python3"
  },
  "language_info": {
   "codemirror_mode": {
    "name": "ipython",
    "version": 3
   },
   "file_extension": ".py",
   "mimetype": "text/x-python",
   "name": "python",
   "nbconvert_exporter": "python",
   "pygments_lexer": "ipython3",
   "version": "3.9.6"
  }
 },
 "nbformat": 4,
 "nbformat_minor": 5
}
