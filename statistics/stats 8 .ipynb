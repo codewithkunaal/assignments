{
 "cells": [
  {
   "cell_type": "markdown",
   "id": "071e1fba",
   "metadata": {},
   "source": [
    "A crime is committed by one of two suspects, A and B. Initially, there is equal evidence\n",
    "against both of them. In further investigation at the crime scene, it is found that the guilty\n",
    "party had a blood type found in 10% of the population. Suspect A does match this blood\n",
    "type, whereas the blood type of Suspect B is unknown. (a) Given this new information, what\n",
    "is the probability that A is the guilty party? (b) Given this new information, what is the\n",
    "probability that B’s blood type matches that found at the crime scene?`"
   ]
  },
  {
   "cell_type": "markdown",
   "id": "b58b4e03",
   "metadata": {},
   "source": [
    "ans = given \n",
    "\n",
    "\n",
    "A or B commited crime \n",
    "0.1 of population has same blood type as suspect\n",
    "A matches blood type \n",
    "blood type of B is unknown\n",
    "\n",
    "\n",
    "\n",
    "\n",
    "considering cases   blood at crime scene is X\n",
    "                    G = guilty \n",
    "                    N  =  not guilty\n",
    "                    \n",
    "say A is guilty before the new evidence = 1 - p(B)\n",
    "\n",
    "because one of them is guilty already and we dont have any info for B\n",
    "lets consider B is halfway guilty then A is guilty is given as \n",
    "\n",
    "\n",
    "P(A) =  1-0.5 = 0.5                               \n",
    "P(B)\n",
    "\n",
    "now probabilty that the blood found matches to A so \n",
    "P(X/A) = 1\n",
    "\n",
    "now \n",
    "B is already under suspicion for the crime. before we discovered that the suspect has blood type X, there was a 50% chance that B was guilty. Hence B's chances of having blood type X are higher than 10%, since, as I understand it, B's likelihood of having the guilty blood type isn't independent of his being under suspicion.\n",
    "considering that B's blood type is under the 10% of total population \n",
    "P(X/B) = 0.1\n",
    "\n",
    "\n",
    "probability that A is guilty = \n",
    "\n",
    "P(A/X) = P(X/A).P(A)/P(X)\n",
    "\n",
    "=P(X/A).P(A)/P(X/A).P(A)+P(X/B).P(B)\n",
    "\n"
   ]
  },
  {
   "cell_type": "code",
   "execution_count": 4,
   "id": "e1efd7c9",
   "metadata": {},
   "outputs": [
    {
     "data": {
      "text/plain": [
       "0.8681818181818183"
      ]
     },
     "execution_count": 4,
     "metadata": {},
     "output_type": "execute_result"
    }
   ],
   "source": [
    "1/2*1/10+1*9/11"
   ]
  },
  {
   "cell_type": "markdown",
   "id": "61534fd1",
   "metadata": {},
   "source": [
    "probability that B matches blood type found at crime scene i X =\n",
    "proba of B having same 10% blood type as population / all the blood i.e.(blood of B,blood of population excluding B and including B is guilty as well \n",
    "\n",
    "\n",
    "\n",
    "\n",
    "(1/10)/(1/10)+(9/10)∗(1/2)=2/11"
   ]
  },
  {
   "cell_type": "code",
   "execution_count": 8,
   "id": "3ba5e421",
   "metadata": {},
   "outputs": [
    {
     "data": {
      "text/plain": [
       "0.18181818181818182"
      ]
     },
     "execution_count": 8,
     "metadata": {},
     "output_type": "execute_result"
    }
   ],
   "source": [
    "2/11"
   ]
  },
  {
   "cell_type": "markdown",
   "id": "a5170b6a",
   "metadata": {},
   "source": [
    "since we have probability of B being the guilty one we can modify the previous equation "
   ]
  },
  {
   "cell_type": "code",
   "execution_count": 10,
   "id": "9e15dda9",
   "metadata": {},
   "outputs": [
    {
     "data": {
      "text/plain": [
       "0.9090909090909092"
      ]
     },
     "execution_count": 10,
     "metadata": {},
     "output_type": "execute_result"
    }
   ],
   "source": [
    "#probability of A being guilty one\n",
    "2/11*1/2+9/11"
   ]
  },
  {
   "cell_type": "markdown",
   "id": "b3850e17",
   "metadata": {},
   "source": [
    "`P(A/X) = 10/11`"
   ]
  },
  {
   "cell_type": "code",
   "execution_count": null,
   "id": "78267247",
   "metadata": {},
   "outputs": [],
   "source": []
  }
 ],
 "metadata": {
  "kernelspec": {
   "display_name": "Python 3 (ipykernel)",
   "language": "python",
   "name": "python3"
  },
  "language_info": {
   "codemirror_mode": {
    "name": "ipython",
    "version": 3
   },
   "file_extension": ".py",
   "mimetype": "text/x-python",
   "name": "python",
   "nbconvert_exporter": "python",
   "pygments_lexer": "ipython3",
   "version": "3.9.6"
  }
 },
 "nbformat": 4,
 "nbformat_minor": 5
}
