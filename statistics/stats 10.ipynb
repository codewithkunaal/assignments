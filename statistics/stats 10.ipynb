{
 "cells": [
  {
   "cell_type": "markdown",
   "id": "32448165",
   "metadata": {},
   "source": [
    "A chicken lays n eggs. Each egg independently does or doesn’t hatch, with probability p of\n",
    "hatching. For each egg that hatches, the chick does or doesn’t survive (independently of the\n",
    "other eggs), with probability s of survival. Let N ⇠ Bin(n, p) be the number of eggs which\n",
    "hatch, X be the number of chicks which survive, and Y be the number of chicks which hatch\n",
    "but don’t survive (so X + Y = N). Find the marginal PMF of X, and the joint PMF of X and Y .\n",
    "Are they independent?"
   ]
  },
  {
   "cell_type": "markdown",
   "id": "15190d3e",
   "metadata": {},
   "source": [
    "Ans - A chicken lays n eggs\n",
    "\n",
    "probability that a egg will hatch is P           \n",
    "probability that chicken will survive is S                       \n",
    "the probability that a egg hatches and chick survives is psps                             \n",
    "We can consider each egg as a Bernoulli trial each with a success (hatching and surviving) probability psps.                       \n",
    "There are nn independent trials, so X∼Bin(n,ps)X∼Bin(n,ps).  \n",
    "\n",
    "\n",
    "\n",
    "\n",
    "\n",
    "\n",
    "\n",
    "\n",
    "X and Y are not independent.This\n",
    "follows immediately from thinking about\n",
    "extreme case: if X = n, then\n",
    "clearly Y = 0. So they are not independent: P(Y = 0) < 1, while P(Y = 0|X = n) = 1.\n",
    "    \n",
    "    \n",
    "                                 \n",
    "P(X = i, Y = j) = P(X = i, Y = j|N = i + j)P(N = i + j)                  \n",
    "= P(X = i|N = i + j)P(N = i + j)                         \n",
    "[ n! / i!j! (n - i - j)!] (ps)^i (p(1 - s))^j(1 - p)^(n-i-j)                      \n",
    "   "
   ]
  },
  {
   "cell_type": "markdown",
   "id": "705099c2",
   "metadata": {},
   "source": [
    "If we let Z be the number of eggs which don’t hatch, then from the above\n",
    "we have that (X, Y, Z) has a Multinomial(n,(ps, p(1 - s),(1 -  p)) distribution,\n",
    "which makes sense intuitively since each egg independently falls into 1 of 3\n",
    "categories: hatch-and-survive, hatch-and-dont-survive, and dont-hatch, with\n",
    "probabilities ps, p(1 -  s), 1 - p respectively."
   ]
  },
  {
   "cell_type": "code",
   "execution_count": null,
   "id": "0eeb7cd6",
   "metadata": {},
   "outputs": [],
   "source": []
  }
 ],
 "metadata": {
  "kernelspec": {
   "display_name": "Python 3 (ipykernel)",
   "language": "python",
   "name": "python3"
  },
  "language_info": {
   "codemirror_mode": {
    "name": "ipython",
    "version": 3
   },
   "file_extension": ".py",
   "mimetype": "text/x-python",
   "name": "python",
   "nbconvert_exporter": "python",
   "pygments_lexer": "ipython3",
   "version": "3.9.6"
  }
 },
 "nbformat": 4,
 "nbformat_minor": 5
}
