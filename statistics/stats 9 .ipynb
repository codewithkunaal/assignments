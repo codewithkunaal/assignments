{
 "cells": [
  {
   "cell_type": "markdown",
   "id": "84337a3a",
   "metadata": {},
   "source": [
    "You are going to play 2 games of chess with an opponent whom you have never played\n",
    "against before (for the sake of this problem). Your opponent is equally likely to be a\n",
    "beginner, intermediate, or a master. Depending on\n",
    "(a) What is your probability of winning the first game?\n",
    "(b) Congratulations: you won the first game! Given this information, what is the probability\n",
    "that you will also win the second game\n",
    "(c) Explain the distinction between assuming that the outcomes of the games are\n",
    "independent and assuming that they are conditionally independent given the opponent’s\n",
    "skill level. Which of these assumptions seems more reasonable, and why?"
   ]
  },
  {
   "cell_type": "markdown",
   "id": "1acefcb3",
   "metadata": {},
   "source": [
    "Ans = 2 games independent\n",
    "\n",
    "\n",
    " let probability of playing beginner, intermediate or master as Pb,Pi,Pm\n",
    "    and winning games be Wi where i is ith game \n",
    "    \n",
    "    \n",
    "    \n",
    "    \n",
    "       Pr(pb)=Pr(pi)=Pr(pm)=1/3        \n",
    "        probability of winning first game \n",
    "        \n",
    "        P(W1) = Pr(W1/Pb)*Pb+Pr(W1/Pi)*Pi+Pr(W1/Pm)*Pm\n",
    "                1/3(0.9+0.5+0.3)\n",
    "                17/30\n",
    "                \n",
    "                \n",
    "            "
   ]
  },
  {
   "cell_type": "markdown",
   "id": "4d8252d5",
   "metadata": {},
   "source": [
    "B)   P(W1,W2)  = P(W1,W2/Pb)+P(W1,W2/Pb)+P(W1,W2/Pb)\n",
    "\n",
    "                1/3(0.9^2+0.5^2+0.3^2                         \n",
    "                23/60                                  "
   ]
  },
  {
   "cell_type": "markdown",
   "id": "30f022a1",
   "metadata": {},
   "source": [
    "P(W2/W1) = P(W2,W1)/P(W1)   =  23/34"
   ]
  },
  {
   "cell_type": "markdown",
   "id": "c23784d6",
   "metadata": {},
   "source": [
    "C) word independent event refers to one event do not affect outcome of other event\n",
    "here our one game do not affect the other game whereas conditional independence means \n",
    "situations where in an observation is irrelevant when evaluating the certainty of a hypothesis.\n",
    "\n",
    "so in conclusion using conditonal independence in this scenario is fruitful because after winning the first game \n",
    "we are more likely to know the information about what level of  opponent we might face."
   ]
  },
  {
   "cell_type": "code",
   "execution_count": null,
   "id": "0af8f9a3",
   "metadata": {},
   "outputs": [],
   "source": []
  }
 ],
 "metadata": {
  "kernelspec": {
   "display_name": "Python 3 (ipykernel)",
   "language": "python",
   "name": "python3"
  },
  "language_info": {
   "codemirror_mode": {
    "name": "ipython",
    "version": 3
   },
   "file_extension": ".py",
   "mimetype": "text/x-python",
   "name": "python",
   "nbconvert_exporter": "python",
   "pygments_lexer": "ipython3",
   "version": "3.9.6"
  }
 },
 "nbformat": 4,
 "nbformat_minor": 5
}
