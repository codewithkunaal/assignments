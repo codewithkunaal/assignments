{
 "cells": [
  {
   "cell_type": "markdown",
   "id": "ecb5e24b",
   "metadata": {},
   "source": [
    "que - For a group of 7 people, find the probability that all 4 seasons (winter, spring, summer, fall)\n",
    "occur at least once each among their birthdays, assuming that all seasons are equally likely.\n"
   ]
  },
  {
   "cell_type": "markdown",
   "id": "9778c807",
   "metadata": {},
   "source": [
    "ans- say  7 people has b'day in W(winter),S(spring),U(summer),F(fall) as follows:\n",
    "    W,S,U,F,S,F,W would be our optimal picks for season \n",
    "    first person would have 4 picks 2nd have 4 picks and so on ..\n",
    "    lets assume these 4 people chose distinct season as (WSUF) but it is possible that the combination of season may vary as we could also select the third, fifth, sixth, and seventh people (U,S,F,W) as the ones to have distinct seasons. \n",
    "    \n",
    " \n",
    "\n",
    "\n",
    "where there are  (4|3) ways to select three distinct seasons out of the four, and 3^7 represents the number of ordered outcomes using those three seasons.we are double-counting outcomes where at most two seasons are represented. So we subtract out\n",
    "(4|2)2^7\n",
    "\n",
    "\n",
    "of these, but now we have to add back in those outcomes where exactly one season is represented, of which there are\n",
    "(4|1)1^7.\n",
    "\n",
    "So the total number of desired outcomes is\n",
    "4|7−(4|3)3^7+(4|2)2^7−(4|1)1^7=8400\n",
    "and the resultant probability is\n",
    "8400/4^7=525/1024≈0.512695."
   ]
  },
  {
   "cell_type": "markdown",
   "id": "94e57527",
   "metadata": {},
   "source": [
    "alternative ans - think of it this way we want to put 7 different balls in 4 pockets but\n",
    "with condion having at least one ball in the each pocket\n",
    "\n",
    "so if we find S(7,4), we can find the number of dispersing 7 different balls into 4 pockets,\n",
    "but they are different so we should multiply by 4! to make them different again.\n",
    "\n",
    "So , S(7,4)×4!=350×24=8400\n",
    "\n",
    "Moreover , the number of ways distributing 7 different balls into 4 pockets without restriction is 4|7=16384\n",
    "\n",
    "So ;  8400/16384=0.5126.. as our probability"
   ]
  },
  {
   "cell_type": "markdown",
   "id": "875bb96e",
   "metadata": {},
   "source": []
  },
  {
   "cell_type": "markdown",
   "id": "0d09cc1b",
   "metadata": {},
   "source": [
    "2. Alice attends a small college in which each class meets only once a week. She is deciding\n",
    "between 30 non-overlapping classes. There are 6 classes to choose from for each day of the\n",
    "week, Monday through Friday. Trusting in the benevolence of randomness, Alice decides to\n",
    "register for 7 randomly selected classes out of the 30, with all choices equally likely. What is\n",
    "the probability that she will have classes every day, Monday through Friday?"
   ]
  },
  {
   "cell_type": "markdown",
   "id": "bb1929e2",
   "metadata": {},
   "source": [
    "ans- monday to friday  6 days and 6 classes  \n",
    "ways alice can have classes every day is : 2 class 2 days, 3 class 1 day or 1 class 3 days , one class each day \n",
    "    \n",
    "    \n",
    "    \n",
    "so probability that she has 2 classes 2 days then select 2 classes on those days and 1 class for other days\n",
    "\n",
    "**5C2 *(6C2)^2 6^3 and 5C1 6C3 6^4**\n",
    "\n",
    " \n",
    "\n",
    "for probability (**5C2 *(6C2)^2 6^3 + 5C1 6C3 6^4**)/30C7\n",
    "\n",
    "0.30"
   ]
  },
  {
   "cell_type": "code",
   "execution_count": null,
   "id": "18d44e0d",
   "metadata": {},
   "outputs": [],
   "source": []
  },
  {
   "cell_type": "code",
   "execution_count": null,
   "id": "5b6fa2f7",
   "metadata": {},
   "outputs": [],
   "source": []
  },
  {
   "cell_type": "code",
   "execution_count": null,
   "id": "174d0678",
   "metadata": {},
   "outputs": [],
   "source": []
  }
 ],
 "metadata": {
  "kernelspec": {
   "display_name": "Python 3 (ipykernel)",
   "language": "python",
   "name": "python3"
  },
  "language_info": {
   "codemirror_mode": {
    "name": "ipython",
    "version": 3
   },
   "file_extension": ".py",
   "mimetype": "text/x-python",
   "name": "python",
   "nbconvert_exporter": "python",
   "pygments_lexer": "ipython3",
   "version": "3.9.6"
  }
 },
 "nbformat": 4,
 "nbformat_minor": 5
}
