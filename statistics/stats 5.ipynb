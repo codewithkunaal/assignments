{
 "cells": [
  {
   "cell_type": "markdown",
   "id": "014b8145",
   "metadata": {},
   "source": [
    "Q.Give an example of 3 events A, B, C which are pairwise independent but not independent.\n",
    "Hint: find an example where whether C occurs is completely determined if we know whether\n",
    "A occurred and whether B occurred, but completely undetermined if we know only one of\n",
    "these things."
   ]
  },
  {
   "cell_type": "markdown",
   "id": "2aa340a9",
   "metadata": {},
   "source": [
    "Ans = Consider two fair,        \n",
    "independent coin tosses, and let A be the event that the first toss is Heads,                         \n",
    "B be the event that the second toss is Heads            \n",
    "and C be the event that the two tosses have the same result.                \n",
    "Then A,B,C are dependent since \n",
    "P(A∩B∩C)=P(A∩B) . And of course P(A∩B)=14.                 \n",
    "\n",
    "P(A∩B∩C)=1/4                     \n",
    "P(A)P(B)P(C)=1/8                          \n",
    "P(A∩B∩C)=P(A∩B) = P(A)P(B)\n",
    "=1/4≠1/8\n",
    "=P(A)P(B)P(C),                                   \n",
    "but they are pairwise independent:                 \n",
    "A and B are independent by definition; \n",
    "A and C are independent since P(A∩C)=P(A∩B)=1/4=P(A)P(C), and similarly B and C are independent.              "
   ]
  },
  {
   "cell_type": "markdown",
   "id": "d80e669d",
   "metadata": {},
   "source": [
    "2.A bag contains one marble which is either green or blue, with equal probabilities. A green\n",
    "marble is put in the bag (so there are 2 marbles now), and then a random marble is taken\n",
    "out. The marble taken out is green. What is the probability that the remaining marble is also\n",
    "green?"
   ]
  },
  {
   "cell_type": "markdown",
   "id": "1a630e87",
   "metadata": {},
   "source": [
    "ans = a bag contain green/blue marble so probability that we will get green marble when picked is (assuming we have green marble in bag ) is 1\n",
    "but if one extra green marble is added then chances of picking green is out of 2 is 1.                               \n",
    "once we have green marble out of the bag the probability that remaining \n",
    "marble is green is 0 so required probability is 0+1 = 1"
   ]
  },
  {
   "cell_type": "markdown",
   "id": "a091d496",
   "metadata": {},
   "source": []
  },
  {
   "cell_type": "code",
   "execution_count": null,
   "id": "ab644376",
   "metadata": {},
   "outputs": [],
   "source": []
  },
  {
   "cell_type": "code",
   "execution_count": null,
   "id": "a55d3867",
   "metadata": {},
   "outputs": [],
   "source": []
  }
 ],
 "metadata": {
  "kernelspec": {
   "display_name": "Python 3 (ipykernel)",
   "language": "python",
   "name": "python3"
  },
  "language_info": {
   "codemirror_mode": {
    "name": "ipython",
    "version": 3
   },
   "file_extension": ".py",
   "mimetype": "text/x-python",
   "name": "python",
   "nbconvert_exporter": "python",
   "pygments_lexer": "ipython3",
   "version": "3.9.6"
  }
 },
 "nbformat": 4,
 "nbformat_minor": 5
}
