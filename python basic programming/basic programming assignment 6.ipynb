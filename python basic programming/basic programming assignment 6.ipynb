{
 "cells": [
  {
   "cell_type": "markdown",
   "id": "12d0a640",
   "metadata": {},
   "source": [
    "1. Write a Python Program to Display Fibonacci Sequence Using Recursion?"
   ]
  },
  {
   "cell_type": "code",
   "execution_count": 2,
   "id": "1eb9ca13",
   "metadata": {},
   "outputs": [],
   "source": [
    "def rec(n):\n",
    "    if n <= 1:\n",
    "        return n\n",
    "    else:\n",
    "        return(rec(n-1) + rec(n-2))"
   ]
  },
  {
   "cell_type": "code",
   "execution_count": 11,
   "id": "406ac8e5",
   "metadata": {},
   "outputs": [
    {
     "name": "stdout",
     "output_type": "stream",
     "text": [
      "0\n",
      "1\n",
      "2\n",
      "3\n",
      "4\n",
      "5\n",
      "6\n",
      "7\n"
     ]
    }
   ],
   "source": [
    "for i in range(rec(6)):\n",
    "    print(i)"
   ]
  },
  {
   "cell_type": "markdown",
   "id": "560a595b",
   "metadata": {},
   "source": [
    "\n",
    "2. Write a Python Program to Find Factorial of Number Using Recursion?"
   ]
  },
  {
   "cell_type": "code",
   "execution_count": 14,
   "id": "97f34324",
   "metadata": {},
   "outputs": [],
   "source": [
    "def fact(n):\n",
    "    if n <= 1:\n",
    "        return n\n",
    "    else:\n",
    "        return n*fact(n-1)"
   ]
  },
  {
   "cell_type": "code",
   "execution_count": 18,
   "id": "6c9910e0",
   "metadata": {},
   "outputs": [
    {
     "data": {
      "text/plain": [
       "40320"
      ]
     },
     "execution_count": 18,
     "metadata": {},
     "output_type": "execute_result"
    }
   ],
   "source": [
    "fact(8)"
   ]
  },
  {
   "cell_type": "markdown",
   "id": "96d44044",
   "metadata": {},
   "source": [
    "\n",
    "3. Write a Python Program to calculate your Body Mass Index?"
   ]
  },
  {
   "cell_type": "code",
   "execution_count": 25,
   "id": "e225abb1",
   "metadata": {},
   "outputs": [
    {
     "name": "stdout",
     "output_type": "stream",
     "text": [
      "Enter your height(in meter):  2\n",
      "Enter you weight(in kilogram):  76\n",
      "your BMI is : 19.0\n"
     ]
    }
   ],
   "source": [
    "h = float(input(\"Enter your height(in meter):  \"))\n",
    "w = float(input(\"Enter you weight(in kilogram):  \"))\n",
    "print(f\"your BMI is : {w/(h*h)}\")"
   ]
  },
  {
   "cell_type": "markdown",
   "id": "4a2b5dfc",
   "metadata": {},
   "source": []
  },
  {
   "cell_type": "markdown",
   "id": "b1ade9c6",
   "metadata": {},
   "source": [
    "\n",
    "4. Write a Python Program to calculate the natural logarithm of any number?"
   ]
  },
  {
   "cell_type": "code",
   "execution_count": 26,
   "id": "95b11d6e",
   "metadata": {},
   "outputs": [
    {
     "name": "stdout",
     "output_type": "stream",
     "text": [
      "Enter the number:   888\n",
      "log of 888, is 6.78897174299217\n"
     ]
    }
   ],
   "source": [
    "import math\n",
    "\n",
    "n = int(input(\"Enter the number:   \"))\n",
    "print(f\"log of {n}, is {math.log(n)}\")\n"
   ]
  },
  {
   "cell_type": "markdown",
   "id": "fb9824ce",
   "metadata": {},
   "source": [
    "\n",
    "5. Write a Python Program for cube sum of first n natural numbers?"
   ]
  },
  {
   "cell_type": "code",
   "execution_count": 30,
   "id": "97839b02",
   "metadata": {},
   "outputs": [
    {
     "name": "stdout",
     "output_type": "stream",
     "text": [
      "Enter the number:  10\n",
      "The cube of 1, is 1\n",
      "The cube of 3, is 27\n",
      "The cube of 5, is 125\n",
      "The cube of 7, is 343\n",
      "The cube of 9, is 729\n"
     ]
    }
   ],
   "source": [
    "\n",
    "n = int(input(\"Enter the number:  \"))\n",
    "\n",
    "for i in range(1,n,2):\n",
    "    print(f\"The cube of {i}, is {i**3}\")\n",
    "    \n",
    "    "
   ]
  }
 ],
 "metadata": {
  "kernelspec": {
   "display_name": "Python 3 (ipykernel)",
   "language": "python",
   "name": "python3"
  },
  "language_info": {
   "codemirror_mode": {
    "name": "ipython",
    "version": 3
   },
   "file_extension": ".py",
   "mimetype": "text/x-python",
   "name": "python",
   "nbconvert_exporter": "python",
   "pygments_lexer": "ipython3",
   "version": "3.9.6"
  }
 },
 "nbformat": 4,
 "nbformat_minor": 5
}
