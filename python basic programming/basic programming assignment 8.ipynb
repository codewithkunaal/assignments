{
 "cells": [
  {
   "cell_type": "markdown",
   "id": "f81ed8bb",
   "metadata": {},
   "source": [
    "1. Write a Python Program to Add Two Matrices?"
   ]
  },
  {
   "cell_type": "code",
   "execution_count": 6,
   "id": "6d9fd65e",
   "metadata": {},
   "outputs": [],
   "source": [
    "X = [[12,7,3],\n",
    "    [4 ,5,6],\n",
    "    [7 ,8,9]]\n",
    "\n",
    "Y = [[5,8,1],\n",
    "    [6,7,3],\n",
    "    [4,5,9]]\n",
    "\n",
    "result = [[0,0,0],\n",
    "         [0,0,0],\n",
    "         [0,0,0]]"
   ]
  },
  {
   "cell_type": "code",
   "execution_count": 7,
   "id": "428c1eff",
   "metadata": {},
   "outputs": [
    {
     "name": "stdout",
     "output_type": "stream",
     "text": [
      "[17, 15, 4]\n",
      "[10, 12, 9]\n",
      "[11, 13, 18]\n"
     ]
    }
   ],
   "source": [
    "for i in range(len(X)):\n",
    "    for j in range(len(X[0])):\n",
    "        result[i][j] = X[i][j] + Y[i][j]\n",
    "        \n",
    "        \n",
    "        \n",
    "for re in result:\n",
    "    print(re)"
   ]
  },
  {
   "cell_type": "code",
   "execution_count": null,
   "id": "5f5f4e57",
   "metadata": {},
   "outputs": [],
   "source": []
  },
  {
   "cell_type": "markdown",
   "id": "0abb1e9b",
   "metadata": {},
   "source": [
    "\n",
    "2. Write a Python Program to Multiply Two Matrices?"
   ]
  },
  {
   "cell_type": "code",
   "execution_count": 9,
   "id": "24cfc141",
   "metadata": {},
   "outputs": [
    {
     "name": "stdout",
     "output_type": "stream",
     "text": [
      "[174, 216, 63]\n",
      "[98, 132, 91]\n",
      "[147, 197, 193]\n"
     ]
    }
   ],
   "source": [
    "for i in range(len(X)):\n",
    "    for j in range(len(Y[0])):\n",
    "        for k in range(len(Y)):\n",
    "            result[i][j] += X[i][k] * Y[k][j]\n",
    "        \n",
    "for re in result:\n",
    "    print(re)"
   ]
  },
  {
   "cell_type": "markdown",
   "id": "cc36cc51",
   "metadata": {},
   "source": [
    "\n",
    "3. Write a Python Program to Transpose a Matrix?"
   ]
  },
  {
   "cell_type": "code",
   "execution_count": 11,
   "id": "950a9400",
   "metadata": {},
   "outputs": [
    {
     "name": "stdout",
     "output_type": "stream",
     "text": [
      "[12, 4, 3]\n",
      "[7, 5, 8]\n"
     ]
    }
   ],
   "source": [
    "\n",
    "\n",
    "X = [[12,7],\n",
    "    [4 ,5],\n",
    "    [3 ,8]]\n",
    "\n",
    "result = [[0,0,0],\n",
    "         [0,0,0]]\n",
    "\n",
    "for i in range(len(X)):\n",
    "    for j in range(len(X[0])):\n",
    "            result[j][i] = X[i][j]\n",
    "\n",
    "for r in result:\n",
    "    print(r)"
   ]
  },
  {
   "cell_type": "markdown",
   "id": "6816f99e",
   "metadata": {},
   "source": [
    "\n",
    "4. Write a Python Program to Sort Words in Alphabetic Order?"
   ]
  },
  {
   "cell_type": "code",
   "execution_count": 17,
   "id": "ecb6d3c5",
   "metadata": {},
   "outputs": [
    {
     "name": "stdout",
     "output_type": "stream",
     "text": [
      "sorted words are as follows :   \n",
      "any\n",
      "for\n",
      "is\n",
      "its\n",
      "point?\n",
      "there\n",
      "what\n",
      "worth\n"
     ]
    }
   ],
   "source": [
    "string = \"for what its worth is there any point?\"\n",
    "\n",
    "\n",
    "words = [word.lower() for word in string.split()]\n",
    "\n",
    "\n",
    "words.sort()\n",
    "\n",
    "\n",
    "print(f\"sorted words are as follows :   \")\n",
    "\n",
    "\n",
    "for i in words:\n",
    "    print(i)"
   ]
  },
  {
   "cell_type": "markdown",
   "id": "a1f8443e",
   "metadata": {},
   "source": [
    "\n",
    "5. Write a Python Program to Remove Punctuation From a String?"
   ]
  },
  {
   "cell_type": "code",
   "execution_count": 19,
   "id": "337f5c1c",
   "metadata": {},
   "outputs": [],
   "source": [
    "punk = '''!()-[]{};:'''\",.<>?/\\|@#$%^&*\"\n",
    "\n",
    "string = '''Something() reminds \\\\\\//me\n",
    "Sweet dreams inside me][][][][]\n",
    "Limits shifting//./././\n",
    "Colors l<><><>iving through me\n",
    "Just like days are ending\n",
    "Just like#@$%@^^^ we're pret&^&^&^ending\n",
    "At the window, let the light go\n",
    "T***hrough me'''"
   ]
  },
  {
   "cell_type": "code",
   "execution_count": 20,
   "id": "551d49b5",
   "metadata": {},
   "outputs": [
    {
     "name": "stdout",
     "output_type": "stream",
     "text": [
      "Something reminds me\n",
      "Sweet dreams inside me\n",
      "Limits shifting\n",
      "Colors living through me\n",
      "Just like days are ending\n",
      "Just like we're pretending\n",
      "At the window let the light go\n",
      "Through me\n"
     ]
    }
   ],
   "source": [
    "punknt = \"\"\n",
    "for i in string:\n",
    "    if i not in punk:\n",
    "        punknt = punknt + i\n",
    "        \n",
    "        \n",
    "        \n",
    "        \n",
    "        \n",
    "print(punknt)"
   ]
  },
  {
   "cell_type": "code",
   "execution_count": null,
   "id": "b0fb9c00",
   "metadata": {},
   "outputs": [],
   "source": []
  },
  {
   "cell_type": "code",
   "execution_count": null,
   "id": "b097765c",
   "metadata": {},
   "outputs": [],
   "source": []
  }
 ],
 "metadata": {
  "kernelspec": {
   "display_name": "Python 3 (ipykernel)",
   "language": "python",
   "name": "python3"
  },
  "language_info": {
   "codemirror_mode": {
    "name": "ipython",
    "version": 3
   },
   "file_extension": ".py",
   "mimetype": "text/x-python",
   "name": "python",
   "nbconvert_exporter": "python",
   "pygments_lexer": "ipython3",
   "version": "3.9.6"
  }
 },
 "nbformat": 4,
 "nbformat_minor": 5
}
