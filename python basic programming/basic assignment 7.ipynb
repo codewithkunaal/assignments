{
 "cells": [
  {
   "cell_type": "markdown",
   "id": "d574c0e9",
   "metadata": {},
   "source": [
    "1. Write a Python Program to find sum of array?"
   ]
  },
  {
   "cell_type": "code",
   "execution_count": 1,
   "id": "2bbef955",
   "metadata": {},
   "outputs": [
    {
     "name": "stdout",
     "output_type": "stream",
     "text": [
      "84\n"
     ]
    }
   ],
   "source": [
    "arr = [1,4,5,7,8,9,0,5,8,4,33]\n",
    "\n",
    "print(sum(arr))"
   ]
  },
  {
   "cell_type": "markdown",
   "id": "f53429c8",
   "metadata": {},
   "source": [
    "\n",
    "2. Write a Python Program to find largest element in an array?"
   ]
  },
  {
   "cell_type": "code",
   "execution_count": 22,
   "id": "4e1e1cb2",
   "metadata": {},
   "outputs": [
    {
     "name": "stdout",
     "output_type": "stream",
     "text": [
      "largest element in arr is : 785\n",
      "max element in array : 785\n"
     ]
    }
   ],
   "source": [
    "arr = [12,44,56,77,82,91,101,785,508,454,337]\n",
    "arr.sort()\n",
    "print(f\"largest element in arr is : {arr[-1]}\")\n",
    "\n",
    "print(f\"max element in array : {max(arr)}\")\n"
   ]
  },
  {
   "cell_type": "markdown",
   "id": "51ede761",
   "metadata": {},
   "source": [
    "\n",
    "3. Write a Python Program for array rotation?"
   ]
  },
  {
   "cell_type": "code",
   "execution_count": 24,
   "id": "b3fbaf40",
   "metadata": {},
   "outputs": [
    {
     "name": "stdout",
     "output_type": "stream",
     "text": [
      "[1, 2, 3, 4, 5, 6]\n",
      "Rotated array is\n",
      "[3, 4, 5, 6, 1, 2]\n"
     ]
    }
   ],
   "source": [
    "\n",
    "def rotatearr(arr,d,n):\n",
    "    arr[:]=arr[d:n]+arr[0:d]\n",
    "    return arr\n",
    "#\n",
    "arr = [1, 2, 3, 4, 5, 6]\n",
    "print(arr)\n",
    "print(\"Rotated array is\")\n",
    "print(rotatearr(arr,2,len(arr))) "
   ]
  },
  {
   "cell_type": "markdown",
   "id": "b9c22a08",
   "metadata": {},
   "source": [
    "\n",
    "4. Write a Python Program to Split the array and add the first part to the end?"
   ]
  },
  {
   "cell_type": "code",
   "execution_count": 30,
   "id": "97bff031",
   "metadata": {},
   "outputs": [],
   "source": [
    "\n",
    "  \n",
    "def splitArr(a, n, k): \n",
    "    b = a[:k]\n",
    "    return (a[k::]+b[::])\n",
    "          \n",
    "  \n"
   ]
  },
  {
   "cell_type": "code",
   "execution_count": 31,
   "id": "7e6e8852",
   "metadata": {},
   "outputs": [
    {
     "name": "stdout",
     "output_type": "stream",
     "text": [
      "795 6253 1352 436 112 110 "
     ]
    }
   ],
   "source": [
    "\n",
    "arr = [112, 110, 795, 6253, 1352, 436]\n",
    "n = len(arr)\n",
    "position = 2\n",
    "arr = splitArr(arr, n, position)\n",
    "for i in range(0, n): \n",
    "    print(arr[i], end = ' ')"
   ]
  },
  {
   "cell_type": "markdown",
   "id": "8e837a9e",
   "metadata": {},
   "source": [
    "\n",
    "5. Write a Python Program to check if given array is Monotonic?"
   ]
  },
  {
   "cell_type": "code",
   "execution_count": 33,
   "id": "30f1ec84",
   "metadata": {},
   "outputs": [
    {
     "name": "stdout",
     "output_type": "stream",
     "text": [
      "True\n"
     ]
    }
   ],
   "source": [
    "def Mono(c):\n",
    "  \n",
    "    return (all(c[i] <= c[i + 1] for i in range(len(c) - 1)) or all(c[i] >= c[i + 1] for i in range(len(c) - 1)))\n",
    "  \n",
    "\n",
    "c = [6, 5, 4, 4]\n",
    "  \n",
    "\n",
    "print(Mono(c))"
   ]
  },
  {
   "cell_type": "code",
   "execution_count": null,
   "id": "73386a8f",
   "metadata": {},
   "outputs": [],
   "source": []
  }
 ],
 "metadata": {
  "kernelspec": {
   "display_name": "Python 3 (ipykernel)",
   "language": "python",
   "name": "python3"
  },
  "language_info": {
   "codemirror_mode": {
    "name": "ipython",
    "version": 3
   },
   "file_extension": ".py",
   "mimetype": "text/x-python",
   "name": "python",
   "nbconvert_exporter": "python",
   "pygments_lexer": "ipython3",
   "version": "3.9.6"
  }
 },
 "nbformat": 4,
 "nbformat_minor": 5
}
