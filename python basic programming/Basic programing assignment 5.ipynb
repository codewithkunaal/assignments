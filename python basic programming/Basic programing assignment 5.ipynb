{
 "cells": [
  {
   "cell_type": "markdown",
   "id": "f9d23a6a",
   "metadata": {},
   "source": [
    "1. Write a Python Program to Find LCM?\n"
   ]
  },
  {
   "cell_type": "code",
   "execution_count": 1,
   "id": "0dc4af74",
   "metadata": {},
   "outputs": [],
   "source": [
    "def Lcm(a,b):\n",
    "    if a > b:\n",
    "        largest = a\n",
    "    else:\n",
    "        largest = b\n",
    "    while (True):\n",
    "        if((largest %a == 0) and (largest%b == 0)):\n",
    "            llm = largest\n",
    "            break\n",
    "        largest +=1\n",
    "    return llm"
   ]
  },
  {
   "cell_type": "code",
   "execution_count": 2,
   "id": "5b28ecc6",
   "metadata": {},
   "outputs": [
    {
     "data": {
      "text/plain": [
       "216"
      ]
     },
     "execution_count": 2,
     "metadata": {},
     "output_type": "execute_result"
    }
   ],
   "source": [
    "a = 54\n",
    "b = 24 \n",
    "Lcm(a,b)"
   ]
  },
  {
   "cell_type": "markdown",
   "id": "f6ed3dca",
   "metadata": {},
   "source": [
    "2. Write a Python Program to Find HCF?"
   ]
  },
  {
   "cell_type": "code",
   "execution_count": 3,
   "id": "e849606f",
   "metadata": {},
   "outputs": [],
   "source": [
    "def hhh(x,y):\n",
    "    if x > y:\n",
    "        smaller = y\n",
    "    else:\n",
    "        smaller = x\n",
    "    for i in range(1, smaller+1):\n",
    "        if((x % i == 0) and (y % i == 0)):\n",
    "            hcf = i \n",
    "    return hcf"
   ]
  },
  {
   "cell_type": "code",
   "execution_count": 4,
   "id": "2746c63c",
   "metadata": {},
   "outputs": [
    {
     "data": {
      "text/plain": [
       "2"
      ]
     },
     "execution_count": 4,
     "metadata": {},
     "output_type": "execute_result"
    }
   ],
   "source": [
    "hhh(54,4)"
   ]
  },
  {
   "cell_type": "markdown",
   "id": "0245abfe",
   "metadata": {},
   "source": [
    "\n",
    "3. Write a Python Program to Convert Decimal to Binary, Octal and Hexadecimal?"
   ]
  },
  {
   "cell_type": "code",
   "execution_count": 7,
   "id": "747237bf",
   "metadata": {},
   "outputs": [],
   "source": [
    "def converter():\n",
    "    d = int(input(\"enter the number:  \"))\n",
    "    print(f\"your number after conversion is as follows\")\n",
    "    print(f\"Binary : {bin(d)}\")\n",
    "    print(f\"Octal : {oct(d)}\")\n",
    "    print(f\"Hexadeximal : {hex(d)}\")\n",
    "    "
   ]
  },
  {
   "cell_type": "code",
   "execution_count": 8,
   "id": "9472528e",
   "metadata": {},
   "outputs": [
    {
     "name": "stdout",
     "output_type": "stream",
     "text": [
      "enter the number:  91849\n",
      "your number after conversion is as follows\n",
      "Binary : 0b10110011011001001\n",
      "Octal : 0o263311\n",
      "Hexadeximal : 0x166c9\n"
     ]
    }
   ],
   "source": [
    "converter()"
   ]
  },
  {
   "cell_type": "markdown",
   "id": "4b2c373c",
   "metadata": {},
   "source": [
    "\n",
    "4. Write a Python Program To Find ASCII value of a character?"
   ]
  },
  {
   "cell_type": "code",
   "execution_count": 9,
   "id": "929a34db",
   "metadata": {},
   "outputs": [],
   "source": [
    "def asc(c):\n",
    "    print(f\"ASCII value of {c} is  {ord(c)}\")\n"
   ]
  },
  {
   "cell_type": "code",
   "execution_count": 12,
   "id": "4c2bded4",
   "metadata": {},
   "outputs": [
    {
     "name": "stdout",
     "output_type": "stream",
     "text": [
      "ASCII value of c is  99\n"
     ]
    }
   ],
   "source": [
    "asc(\"c\")\n"
   ]
  },
  {
   "cell_type": "markdown",
   "id": "cdf369df",
   "metadata": {},
   "source": [
    "\n",
    "Q5. Write a Python Program to Make a Simple Calculator with 4 basic mathematical operations?"
   ]
  },
  {
   "cell_type": "code",
   "execution_count": 31,
   "id": "7a3e4c6d",
   "metadata": {},
   "outputs": [
    {
     "name": "stdout",
     "output_type": "stream",
     "text": [
      "Enter the first value:  9\n",
      "Enter the second value:  99\n"
     ]
    }
   ],
   "source": [
    "class calculator():\n",
    "    def __init__(self,a,b):\n",
    "        self.a = a\n",
    "        self.b = b\n",
    "    def add(self):\n",
    "        return (f\"addition of two numbers is : {self.a+self.b}\")\n",
    "    def mul(self):\n",
    "        return (f\"multiplication of two numbers is : {(self.a*self.b)}\")\n",
    "    \n",
    "    def sub(self):\n",
    "        return (f\"substration of two numbers is : {self.a - self.b}\")\n",
    "    def div(self):\n",
    "        return (f\"division of two numbers is : {round(self.a / self.b,4)}\")\n",
    "            \n",
    "            \n",
    "            \n",
    "            \n",
    "a = int(input(\"Enter the first value:  \"))\n",
    "b = int(input(\"Enter the second value:  \"))\n",
    "\n",
    "\n",
    "\n",
    "p = calculator(a,b)"
   ]
  },
  {
   "cell_type": "code",
   "execution_count": 32,
   "id": "919fb53d",
   "metadata": {},
   "outputs": [
    {
     "name": "stdout",
     "output_type": "stream",
     "text": [
      "addition of two numbers is : 108\n",
      " multiplication of two numbers is : 891\n",
      " substration of two numbers is : -90\n",
      " division of two numbers is : 0.0909\n",
      "\n"
     ]
    }
   ],
   "source": [
    "print(f\"{p.add()}\\n {p.mul()}\\n {p.sub()}\\n {p.div()}\\n\")"
   ]
  }
 ],
 "metadata": {
  "kernelspec": {
   "display_name": "Python 3 (ipykernel)",
   "language": "python",
   "name": "python3"
  },
  "language_info": {
   "codemirror_mode": {
    "name": "ipython",
    "version": 3
   },
   "file_extension": ".py",
   "mimetype": "text/x-python",
   "name": "python",
   "nbconvert_exporter": "python",
   "pygments_lexer": "ipython3",
   "version": "3.9.6"
  }
 },
 "nbformat": 4,
 "nbformat_minor": 5
}
