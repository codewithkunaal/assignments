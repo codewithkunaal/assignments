{
 "cells": [
  {
   "cell_type": "markdown",
   "id": "d62c2b1a",
   "metadata": {},
   "source": [
    "1. Write a Python program to check if the given number is a Disarium Number?"
   ]
  },
  {
   "cell_type": "code",
   "execution_count": 1,
   "id": "f9f3a5b1",
   "metadata": {},
   "outputs": [],
   "source": [
    "def calL(n):    \n",
    "    length = 0;    \n",
    "    while(n != 0):    \n",
    "        length = length + 1   \n",
    "        n = n//10;    \n",
    "    return length;    \n",
    "     \n",
    "num = 568383683683685    \n",
    "rem = sum = 0;    \n",
    "len = calL(num)"
   ]
  },
  {
   "cell_type": "code",
   "execution_count": 2,
   "id": "5aae683a",
   "metadata": {},
   "outputs": [
    {
     "name": "stdout",
     "output_type": "stream",
     "text": [
      "568383683683685 is not a disarium number\n"
     ]
    }
   ],
   "source": [
    "n = num   \n",
    "while(num > 0):    \n",
    "    rem = num%10   \n",
    "    sum = sum + int(rem**len)    \n",
    "    num = num//10   \n",
    "    len = len - 1 \n",
    "    \n",
    "if(sum == n):    \n",
    "    print(str(n) + \" is a disarium number\")   \n",
    "else:    \n",
    "    print(str(n) + \" is not a disarium number\")   "
   ]
  },
  {
   "cell_type": "code",
   "execution_count": null,
   "id": "04ab5827",
   "metadata": {},
   "outputs": [],
   "source": []
  },
  {
   "cell_type": "markdown",
   "id": "ea4ef2b7",
   "metadata": {},
   "source": [
    "\n",
    "2. Write a Python program to print all disarium numbers between 1 to 100?"
   ]
  },
  {
   "cell_type": "code",
   "execution_count": 3,
   "id": "3f75b918",
   "metadata": {},
   "outputs": [],
   "source": [
    "def sumOfDigits(num):   \n",
    "    rem = sum = 0  \n",
    "    len = calL(num)  \n",
    "        \n",
    "    while(num > 0):    \n",
    "        rem = num%10;    \n",
    "        sum = sum + (rem**len)\n",
    "        num = num//10 \n",
    "        len = len - 1   \n",
    "    return sum"
   ]
  },
  {
   "cell_type": "code",
   "execution_count": 4,
   "id": "a9999ef2",
   "metadata": {},
   "outputs": [
    {
     "name": "stdout",
     "output_type": "stream",
     "text": [
      "1\n",
      "2\n",
      "3\n",
      "4\n",
      "5\n",
      "6\n",
      "7\n",
      "8\n",
      "9\n",
      "89\n"
     ]
    }
   ],
   "source": [
    "result = 0\n",
    "     \n",
    "for i in range(1, 101):    \n",
    "    result = sumOfDigits(i);    \n",
    "        \n",
    "    if(result == i):    \n",
    "        print(i),    "
   ]
  },
  {
   "cell_type": "markdown",
   "id": "4e12eef0",
   "metadata": {},
   "source": [
    "\n",
    "3. Write a Python program to check if the given number is Happy Number?"
   ]
  },
  {
   "cell_type": "code",
   "execution_count": 13,
   "id": "0db7cbc3",
   "metadata": {},
   "outputs": [],
   "source": [
    "def numS(n):\n",
    "    squareSum = 0\n",
    "    while(n):\n",
    "        squareSum += (n % 10) * (n % 10)\n",
    "        n = int(n / 10)\n",
    "    return squareSum\n",
    "\n",
    "\n",
    "def isHapppy(n):\n",
    "    p  = set()\n",
    "    while(1):\n",
    "        n = numS(n)\n",
    "        if(n == 1):\n",
    "            return True\n",
    "        if n not in p:\n",
    "            return False\n",
    "        p.insert(n)"
   ]
  },
  {
   "cell_type": "code",
   "execution_count": 16,
   "id": "3b8a5fe4",
   "metadata": {},
   "outputs": [
    {
     "data": {
      "text/plain": [
       "False"
      ]
     },
     "execution_count": 16,
     "metadata": {},
     "output_type": "execute_result"
    }
   ],
   "source": [
    "isHapppy(28325625725725828288888888885)"
   ]
  },
  {
   "cell_type": "markdown",
   "id": "c219a668",
   "metadata": {},
   "source": [
    "\n",
    "4. Write a Python program to print all happy numbers between 1 and 100?"
   ]
  },
  {
   "cell_type": "code",
   "execution_count": 31,
   "id": "2477041e",
   "metadata": {},
   "outputs": [
    {
     "name": "stdout",
     "output_type": "stream",
     "text": [
      "List of happy numbers between 1 and 100: \n",
      "1  7  10  13  19  23  28  31  32  44  49  68  70  79  82  86  91  94  97  100  "
     ]
    }
   ],
   "source": [
    "def isHappy(num):    \n",
    "    rem = sum = 0    \n",
    "        \n",
    "  \n",
    "    while(num > 0):    \n",
    "        rem = num%10   \n",
    "        sum = sum + (rem*rem)   \n",
    "        num = num//10  \n",
    "    return sum    \n",
    "            \n",
    "\n",
    "print(\"List of happy numbers between 1 and 100: \");    \n",
    "for i in range(1, 101):    \n",
    "    result = i      \n",
    "    while(result != 1 and result != 4):    \n",
    "        result = isHappy(result)   \n",
    "        \n",
    "    if(result == 1):    \n",
    "        print(i,end=\"  \")    \n",
    "   "
   ]
  },
  {
   "cell_type": "code",
   "execution_count": null,
   "id": "01410240",
   "metadata": {},
   "outputs": [],
   "source": []
  },
  {
   "cell_type": "markdown",
   "id": "43e9ca70",
   "metadata": {},
   "source": [
    "\n",
    "5. Write a Python program to determine whether the given number is a Harshad Number?"
   ]
  },
  {
   "cell_type": "code",
   "execution_count": 33,
   "id": "6a75d957",
   "metadata": {},
   "outputs": [
    {
     "name": "stdout",
     "output_type": "stream",
     "text": [
      "16756 is not a harshad number\n"
     ]
    }
   ],
   "source": [
    "num = 16756;    \n",
    "rem = sum = 0   \n",
    "       \n",
    "n = num;    \n",
    "    \n",
    "while(num > 0):    \n",
    "    rem = num%10 \n",
    "    sum = sum + rem   \n",
    "    num = num//10   \n",
    "if(n%sum == 0):    \n",
    "    print(str(n) + \" is a harshad number\")   \n",
    "else:    \n",
    "    print(str(n) + \" is not a harshad number\")    "
   ]
  },
  {
   "cell_type": "markdown",
   "id": "be410c82",
   "metadata": {},
   "source": [
    "\n",
    "6. Write a Python program to print all pronic numbers between 1 and 100?"
   ]
  },
  {
   "cell_type": "code",
   "execution_count": 34,
   "id": "3b4cf885",
   "metadata": {},
   "outputs": [
    {
     "name": "stdout",
     "output_type": "stream",
     "text": [
      "Pronic numbers between 1 and 100: \n",
      "2  6  12  20  30  42  56  72  90  "
     ]
    }
   ],
   "source": [
    "def isPronicNumber(num):    \n",
    "    flag = False   \n",
    "    for j in range(1, num+1):   \n",
    "        if((j*(j+1)) == num):    \n",
    "            flag = True    \n",
    "            break    \n",
    "    return flag   \n",
    "     \n",
    "#Displays pronic numbers between 1 and 100    \n",
    "print(\"Pronic numbers between 1 and 100: \")\n",
    "for i in range(1, 101):    \n",
    "    if(isPronicNumber(i)):    \n",
    "        print(i,end = \"  \")   \n"
   ]
  },
  {
   "cell_type": "code",
   "execution_count": null,
   "id": "1506942e",
   "metadata": {},
   "outputs": [],
   "source": []
  }
 ],
 "metadata": {
  "kernelspec": {
   "display_name": "Python 3 (ipykernel)",
   "language": "python",
   "name": "python3"
  },
  "language_info": {
   "codemirror_mode": {
    "name": "ipython",
    "version": 3
   },
   "file_extension": ".py",
   "mimetype": "text/x-python",
   "name": "python",
   "nbconvert_exporter": "python",
   "pygments_lexer": "ipython3",
   "version": "3.9.6"
  }
 },
 "nbformat": 4,
 "nbformat_minor": 5
}
