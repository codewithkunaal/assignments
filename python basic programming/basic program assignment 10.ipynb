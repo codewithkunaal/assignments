{
 "cells": [
  {
   "cell_type": "markdown",
   "id": "7b48186a",
   "metadata": {},
   "source": [
    "1. Write a Python program to find sum of elements in list?"
   ]
  },
  {
   "cell_type": "code",
   "execution_count": 1,
   "id": "ea64e908",
   "metadata": {},
   "outputs": [
    {
     "name": "stdout",
     "output_type": "stream",
     "text": [
      "1233\n"
     ]
    }
   ],
   "source": [
    "l = [1,4,6,6,7,3,78,9,93,93,3,930,0]\n",
    "\n",
    "print(sum(l))"
   ]
  },
  {
   "cell_type": "markdown",
   "id": "cd09bff8",
   "metadata": {},
   "source": [
    "\n",
    "2. Write a Python program to Multiply all numbers in the list?"
   ]
  },
  {
   "cell_type": "code",
   "execution_count": 23,
   "id": "aba417ab",
   "metadata": {},
   "outputs": [],
   "source": [
    "def mul(l):\n",
    "    total = 1\n",
    "    for i in l:\n",
    "        total *= i\n",
    "    return total\n"
   ]
  },
  {
   "cell_type": "code",
   "execution_count": 27,
   "id": "28f18fc0",
   "metadata": {},
   "outputs": [
    {
     "name": "stdout",
     "output_type": "stream",
     "text": [
      "435302580798959697521884403728852645174072176936078036082578921803340252048123686751610656178087109210077458185325120\n"
     ]
    }
   ],
   "source": [
    "g = [1,4,6194761084671486144614867186714461,6,18471967107618476184761846719846718475198467,3,24177177937978,9,935805879478368282,93,3,930]\n",
    "print(mul(g))"
   ]
  },
  {
   "cell_type": "markdown",
   "id": "02ef1c1d",
   "metadata": {},
   "source": [
    "\n",
    "3. Write a Python program to find smallest number in a list?"
   ]
  },
  {
   "cell_type": "code",
   "execution_count": 29,
   "id": "7b753518",
   "metadata": {},
   "outputs": [
    {
     "name": "stdout",
     "output_type": "stream",
     "text": [
      "-1\n"
     ]
    }
   ],
   "source": [
    "m = [1,3,5,6,7,8,8,9,9,-1,0,10,1,2,]\n",
    "\n",
    "\n",
    "\n",
    "print(min(m))"
   ]
  },
  {
   "cell_type": "markdown",
   "id": "e42b29bc",
   "metadata": {},
   "source": [
    "\n",
    "4. Write a Python program to find largest number in a list?"
   ]
  },
  {
   "cell_type": "code",
   "execution_count": 30,
   "id": "9c9577d6",
   "metadata": {},
   "outputs": [
    {
     "name": "stdout",
     "output_type": "stream",
     "text": [
      "18471967107618476184761846719846718475198467\n"
     ]
    }
   ],
   "source": [
    "print(max(g))"
   ]
  },
  {
   "cell_type": "markdown",
   "id": "8e76d97d",
   "metadata": {},
   "source": [
    "\n",
    "5. Write a Python program to find second largest number in a list?"
   ]
  },
  {
   "cell_type": "code",
   "execution_count": 34,
   "id": "8be8d8eb",
   "metadata": {},
   "outputs": [
    {
     "name": "stdout",
     "output_type": "stream",
     "text": [
      "9\n"
     ]
    }
   ],
   "source": [
    "m = [1,3,5,6,7,8,8,9,9,-1,0,10,1,2,]\n",
    "m.sort()\n",
    "print(m[-2])"
   ]
  },
  {
   "cell_type": "markdown",
   "id": "214c8a86",
   "metadata": {},
   "source": [
    "\n",
    "6. Write a Python program to find N largest elements from a list?"
   ]
  },
  {
   "cell_type": "code",
   "execution_count": 36,
   "id": "30473bfd",
   "metadata": {},
   "outputs": [
    {
     "name": "stdout",
     "output_type": "stream",
     "text": [
      "7\n"
     ]
    }
   ],
   "source": [
    "n = 6\n",
    "m = [1,3,5,6,7,8,8,9,9,-1,0,10,1,2,]\n",
    "m.sort()\n",
    "print(m[-n])\n",
    "\n",
    "\n"
   ]
  },
  {
   "cell_type": "markdown",
   "id": "66471f5d",
   "metadata": {},
   "source": [
    "\n",
    "7. Write a Python program to print even numbers in a list?"
   ]
  },
  {
   "cell_type": "code",
   "execution_count": 40,
   "id": "771d25c7",
   "metadata": {},
   "outputs": [
    {
     "name": "stdout",
     "output_type": "stream",
     "text": [
      "2\n",
      "6\n",
      "8\n",
      "8\n",
      "10\n"
     ]
    }
   ],
   "source": [
    "for i in m:\n",
    "    if (i%2) == 0 and i != 0 :\n",
    "        print(i)"
   ]
  },
  {
   "cell_type": "markdown",
   "id": "2b422d76",
   "metadata": {},
   "source": [
    "\n",
    "8. Write a Python program to print odd numbers in a List?"
   ]
  },
  {
   "cell_type": "code",
   "execution_count": 44,
   "id": "b7c2465a",
   "metadata": {},
   "outputs": [
    {
     "name": "stdout",
     "output_type": "stream",
     "text": [
      "1\n",
      "1\n",
      "3\n",
      "5\n",
      "7\n",
      "9\n",
      "9\n"
     ]
    }
   ],
   "source": [
    "for i in m:\n",
    "    if (i%2) != 0 and not i <= 0 :\n",
    "        print(i)"
   ]
  },
  {
   "cell_type": "markdown",
   "id": "1ed49bec",
   "metadata": {},
   "source": [
    "\n",
    "9. Write a Python program to Remove empty List from List?"
   ]
  },
  {
   "cell_type": "code",
   "execution_count": 47,
   "id": "78c336d7",
   "metadata": {},
   "outputs": [
    {
     "name": "stdout",
     "output_type": "stream",
     "text": [
      "[1, 1, 5, 7, 2, 82, 8, 8, 9, 3, 28]\n"
     ]
    }
   ],
   "source": [
    "var = [1,1,5,7,2,82,8,8,9,3,[],28,[],[],[]]\n",
    "far = []\n",
    "for i in var:\n",
    "    if i != []:\n",
    "        far.append(i)\n",
    "print(far)"
   ]
  },
  {
   "cell_type": "markdown",
   "id": "fafdc79f",
   "metadata": {},
   "source": [
    "\n",
    "10. Write a Python program to Cloning or Copying a list?"
   ]
  },
  {
   "cell_type": "code",
   "execution_count": 50,
   "id": "5940a58e",
   "metadata": {},
   "outputs": [
    {
     "data": {
      "text/plain": [
       "[1, 1, 5, 7, 2, 82, 8, 8, 9, 3, 28]"
      ]
     },
     "execution_count": 50,
     "metadata": {},
     "output_type": "execute_result"
    }
   ],
   "source": [
    "mar = list(far)\n",
    "mar"
   ]
  },
  {
   "cell_type": "markdown",
   "id": "787eed0b",
   "metadata": {},
   "source": [
    "\n",
    "11. Write a Python program to Count occurrences of an element in a list?"
   ]
  },
  {
   "cell_type": "code",
   "execution_count": 60,
   "id": "16f2c2cf",
   "metadata": {},
   "outputs": [
    {
     "name": "stdout",
     "output_type": "stream",
     "text": [
      "Enter the value:  1\n"
     ]
    },
    {
     "data": {
      "text/plain": [
       "17"
      ]
     },
     "execution_count": 60,
     "metadata": {},
     "output_type": "execute_result"
    }
   ],
   "source": [
    "x = int(input(\"Enter the value:  \"))\n",
    "def cow(n):\n",
    "    count = 0\n",
    "    for i in n:\n",
    "        if (i==x):\n",
    "            count += 1\n",
    "    return count\n",
    "        \n",
    "\n",
    "t = [1,1,1,1,1,1,1,1,1,1,1,1,11,1,1,1,1,11,1]\n",
    "cow(t)"
   ]
  },
  {
   "cell_type": "code",
   "execution_count": 58,
   "id": "c67c7df5",
   "metadata": {},
   "outputs": [
    {
     "data": {
      "text/plain": [
       "1"
      ]
     },
     "execution_count": 58,
     "metadata": {},
     "output_type": "execute_result"
    }
   ],
   "source": []
  },
  {
   "cell_type": "code",
   "execution_count": null,
   "id": "674cd254",
   "metadata": {},
   "outputs": [],
   "source": []
  }
 ],
 "metadata": {
  "kernelspec": {
   "display_name": "Python 3 (ipykernel)",
   "language": "python",
   "name": "python3"
  },
  "language_info": {
   "codemirror_mode": {
    "name": "ipython",
    "version": 3
   },
   "file_extension": ".py",
   "mimetype": "text/x-python",
   "name": "python",
   "nbconvert_exporter": "python",
   "pygments_lexer": "ipython3",
   "version": "3.9.6"
  }
 },
 "nbformat": 4,
 "nbformat_minor": 5
}
