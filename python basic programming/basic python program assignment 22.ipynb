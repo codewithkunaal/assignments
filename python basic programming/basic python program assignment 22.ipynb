{
 "cells": [
  {
   "cell_type": "markdown",
   "id": "9fecae71",
   "metadata": {},
   "source": [
    "Question1                             \n",
    "Create a function that takes three parameters where:                 \n",
    " x is the start of the range (inclusive).                 \n",
    " y is the end of the range (inclusive).                   \n",
    " n is the divisor to be checked against.                               \n",
    "Return an ordered list with numbers in the range that are divisible by the third parameter n.                   \n",
    "Return an empty list if there are no numbers that are divisible by n.                   \n",
    "Examples                    \n",
    "list_operation(1, 10, 3) ➞ [3, 6, 9]                        \n",
    "list_operation(7, 9, 2) ➞ [8]                  \n",
    "list_operation(15, 20, 7) ➞ []                     \n"
   ]
  },
  {
   "cell_type": "code",
   "execution_count": 7,
   "id": "abbeb2d4",
   "metadata": {},
   "outputs": [
    {
     "data": {
      "text/plain": [
       "([3, 6, 9], [8], [])"
      ]
     },
     "execution_count": 7,
     "metadata": {},
     "output_type": "execute_result"
    }
   ],
   "source": [
    "def list_op(lst):\n",
    "    new = []\n",
    "    for i in range(lst[0],lst[-2]):\n",
    "        if (i%lst[-1]==0):\n",
    "            new.append(i) \n",
    "    return sorted(new)\n",
    "        \n",
    "lst = [1, 10, 3]\n",
    "list_op(lst),list_op((7, 9, 2)),list_op((15, 20, 7))"
   ]
  },
  {
   "cell_type": "code",
   "execution_count": null,
   "id": "b549563d",
   "metadata": {},
   "outputs": [],
   "source": []
  },
  {
   "cell_type": "markdown",
   "id": "b9d40d66",
   "metadata": {},
   "source": [
    "\n",
    "Question2                  \n",
    "Create a function that takes in two lists and returns True if the second list follows the first list               \n",
    "by one element, and False otherwise. In other words, determine if the second list is the first                    \n",
    "list shifted to the right by 1.                                                                 \n",
    "Examples                                 \n",
    "simon_says([1, 2], [5, 1]) ➞ True                                                             \n",
    "simon_says([1, 2], [5, 5]) ➞ False\n",
    "simon_says([1, 2, 3, 4, 5], [0, 1, 2, 3, 4]) ➞ True                    \n",
    "simon_says([1, 2, 3, 4, 5], [5, 5, 1, 2, 3]) ➞ False            \n",
    "Notes                                                        \n",
    " Both input lists will be of the same length, and will have a minimum length of 2.                    \n",
    " The values of the 0-indexed element in the second list and the n-1th indexed element                            \n",
    "in the first list do not matter.               \n"
   ]
  },
  {
   "cell_type": "code",
   "execution_count": 11,
   "id": "87259802",
   "metadata": {},
   "outputs": [
    {
     "name": "stdout",
     "output_type": "stream",
     "text": [
      "True\n",
      "False\n"
     ]
    }
   ],
   "source": [
    "def shit(list1, list2):\n",
    "    result = False\n",
    "    for x in list1:\n",
    "        for y in list2:\n",
    "            if x == y:\n",
    "                result = True\n",
    "    return result\n",
    "print(shit([1, 2], [5, 1]))\n",
    "print(shit([1, 2], [5, 5]))\n"
   ]
  },
  {
   "cell_type": "markdown",
   "id": "314923af",
   "metadata": {},
   "source": [
    "\n",
    "Question3                        \n",
    "A group of friends have decided to start a secret society. The name will be the first letter of              \n",
    "each of their names, sorted in alphabetical order.     \n",
    "Create a function that takes in a list of names and returns the name of the secret society.             \n",
    "  \n",
    "Examples              \n",
    "society_name([&quot;Adam&quot;, &quot;Sarah&quot;, &quot;Malcolm&quot;]) ➞ &quot;AMS&quot;       \n",
    "society_name([&quot;Harry&quot;, &quot;Newt&quot;, &quot;Luna&quot;, &quot;Cho&quot;]) ➞ &quot;CHLN&quot;              \n",
    "society_name([&quot;Phoebe&quot;, &quot;Chandler&quot;, &quot;Rachel&quot;, &quot;Ross&quot;, &quot;Monica&quot;,  &quot;Joey&quot;])        \n"
   ]
  },
  {
   "cell_type": "code",
   "execution_count": 44,
   "id": "354771a6",
   "metadata": {},
   "outputs": [
    {
     "name": "stdout",
     "output_type": "stream",
     "text": [
      "ASM\n"
     ]
    }
   ],
   "source": [
    "charBuffer = []\n",
    "def processWords(input):\n",
    "    s = input.split(\" \")\n",
    " \n",
    "    for values in s:\n",
    "        charBuffer.append(values[0])\n",
    "    return charBuffer\n",
    " \n",
    "\n",
    "\n",
    "input =\"Adam Sarah Malcolm\"\n",
    "print(*processWords(input), sep = \"\")"
   ]
  },
  {
   "cell_type": "code",
   "execution_count": null,
   "id": "56c5e960",
   "metadata": {},
   "outputs": [],
   "source": []
  },
  {
   "cell_type": "markdown",
   "id": "07593165",
   "metadata": {},
   "source": [
    "\n",
    "Question4\n",
    "An isogram is a word that has no duplicate letters. Create a function that takes a string and             \n",
    "returns either True or False depending on whether or not it&#39;s an &quot;isogram&quot;.                          \n",
    "Examples                    \n",
    "is_isogram(&quot;Algorism&quot;) ➞ True                  \n",
    "is_isogram(&quot;PasSword&quot;) ➞ False                                                  \n",
    "Not case sensitive.                        \n",
    "is_isogram(&quot;Consecutive&quot;) ➞ False                                                       \n",
    "Notes                  \n",
    " Ignore letter case (should not be case sensitive).                                 \n",
    " All test cases contain valid one word strings.               \n"
   ]
  },
  {
   "cell_type": "code",
   "execution_count": 45,
   "id": "fd05408e",
   "metadata": {},
   "outputs": [
    {
     "name": "stdout",
     "output_type": "stream",
     "text": [
      "True\n"
     ]
    }
   ],
   "source": [
    "def check_isogram(str1):\n",
    "    return len(str1) == len(set(str1.lower()))\n",
    "\n",
    "print(check_isogram(\"Algorism\"))\n"
   ]
  },
  {
   "cell_type": "code",
   "execution_count": null,
   "id": "27829c1d",
   "metadata": {},
   "outputs": [],
   "source": []
  },
  {
   "cell_type": "markdown",
   "id": "12a405b4",
   "metadata": {},
   "source": [
    "\n",
    "Question5          \n",
    "Create a function that takes a string and returns True or False, depending on whether the                         \n",
    "characters are in order or not.                         \n",
    "Examples                   \n",
    "is_in_order(&quot;abc&quot;) ➞ True                  \n",
    "is_in_order(&quot;edabit&quot;) ➞ False                      \n",
    "is_in_order(&quot;123&quot;) ➞ True                  \n",
    "is_in_order(&quot;xyzz&quot;) ➞ True                 \n",
    "Notes                   \n",
    "You don&#39;t have to handle empty strings.              "
   ]
  },
  {
   "cell_type": "code",
   "execution_count": 53,
   "id": "21511ece",
   "metadata": {},
   "outputs": [],
   "source": [
    "def is_in_order(s):\n",
    "    n = len(s)\n",
    "    c = [s[i] for i in range(len(s))]\n",
    "    c.sort()\n",
    "    for i in range(n):\n",
    "        if c[i] != s[i]:\n",
    "            return False\n",
    "    return True"
   ]
  },
  {
   "cell_type": "code",
   "execution_count": 55,
   "id": "ec023691",
   "metadata": {},
   "outputs": [
    {
     "data": {
      "text/plain": [
       "(False, True)"
      ]
     },
     "execution_count": 55,
     "metadata": {},
     "output_type": "execute_result"
    }
   ],
   "source": [
    "is_in_order(\"aahsbc\"),is_in_order(\"abc\")"
   ]
  },
  {
   "cell_type": "code",
   "execution_count": null,
   "id": "1004c840",
   "metadata": {},
   "outputs": [],
   "source": []
  }
 ],
 "metadata": {
  "kernelspec": {
   "display_name": "Python 3 (ipykernel)",
   "language": "python",
   "name": "python3"
  },
  "language_info": {
   "codemirror_mode": {
    "name": "ipython",
    "version": 3
   },
   "file_extension": ".py",
   "mimetype": "text/x-python",
   "name": "python",
   "nbconvert_exporter": "python",
   "pygments_lexer": "ipython3",
   "version": "3.9.6"
  }
 },
 "nbformat": 4,
 "nbformat_minor": 5
}
