{
 "cells": [
  {
   "cell_type": "markdown",
   "id": "ef9f9ce8",
   "metadata": {},
   "source": [
    "Question 1:                                   \n",
    "Write a program that calculates and prints the value according to the given formula:                             \n",
    "Q = Square root of [(2 * C * D)/H]              \n",
    "Following are the fixed values of C and H:                                                \n",
    "C is 50. H is 30.                         \n",
    "D is the variable whose values should be input to your program in a comma-separated                  \n",
    "sequence.                          \n",
    "Example                        \n",
    "Let us assume the following comma separated input sequence is given to the program:\n",
    "100,150,180                     \n",
    "The output of the program should be:                  \n",
    "18,22,24                    \n"
   ]
  },
  {
   "cell_type": "code",
   "execution_count": 4,
   "id": "58e79fd3",
   "metadata": {},
   "outputs": [],
   "source": [
    "import math\n",
    "d = [100,150,180]\n",
    "c = 50\n",
    "h = 30"
   ]
  },
  {
   "cell_type": "code",
   "execution_count": 6,
   "id": "9999c027",
   "metadata": {},
   "outputs": [
    {
     "name": "stdout",
     "output_type": "stream",
     "text": [
      "18.257418583505537\n",
      "22.360679774997898\n",
      "24.49489742783178\n"
     ]
    }
   ],
   "source": [
    "for i in d:\n",
    "    print(math.sqrt(((2*c)*i)/h))"
   ]
  },
  {
   "cell_type": "markdown",
   "id": "b460fc88",
   "metadata": {},
   "source": [
    "\n",
    "Question 2:                            \n",
    "Write a program which takes 2 digits, X,Y as input and generates a 2-dimensional array. The                                   \n",
    "element value in the i-th row and j-th column of the array should be i*j.                       \n",
    "Note: i=0,1.., X-1; j=0,1,¡Y-1.                       \n",
    "Example                      \n",
    "Suppose the following inputs are given to the program:                   \n",
    "3,5                         \n",
    "Then, the output of the program should be:                    \n",
    "[[0, 0, 0, 0, 0], [0, 1, 2, 3, 4], [0, 2, 4, 6, 8]]           \n"
   ]
  },
  {
   "cell_type": "code",
   "execution_count": 11,
   "id": "b8e0947e",
   "metadata": {},
   "outputs": [
    {
     "name": "stdout",
     "output_type": "stream",
     "text": [
      "Row:7\n",
      "Column:9\n",
      "[[0, 0, 0, 0, 0, 0, 0, 0, 0], [0, 1, 2, 3, 4, 5, 6, 7, 8], [0, 2, 4, 6, 8, 10, 12, 14, 16], [0, 3, 6, 9, 12, 15, 18, 21, 24], [0, 4, 8, 12, 16, 20, 24, 28, 32], [0, 5, 10, 15, 20, 25, 30, 35, 40], [0, 6, 12, 18, 24, 30, 36, 42, 48]]\n"
     ]
    }
   ],
   "source": [
    "m=int(input(\"Row:\"))\n",
    "n=int(input(\"Column:\"))\n",
    "matrix=[[0 for col in range(n)] for row in range(m)]\n",
    "for row in range(m):\n",
    "    for col in range(n):\n",
    "        matrix[row][col]=row*col\n",
    "print(matrix)\n"
   ]
  },
  {
   "cell_type": "markdown",
   "id": "80dcf825",
   "metadata": {},
   "source": [
    "\n",
    "Question 3:                                            \n",
    "Write a program that accepts a comma separated sequence of words as input and prints the                        \n",
    "words in a comma-separated sequence after sorting them alphabetically.                                  \n",
    "Suppose the following input is supplied to the program:                  \n",
    "without,hello,bag,world                             \n",
    "Then, the output should be:                       \n",
    "bag,hello,without,world                            \n",
    "                              "
   ]
  },
  {
   "cell_type": "code",
   "execution_count": 3,
   "id": "09853595",
   "metadata": {},
   "outputs": [
    {
     "name": "stdout",
     "output_type": "stream",
     "text": [
      "Input words :  without,hello,bag,world\n",
      "bag,hello,without,world\n"
     ]
    }
   ],
   "source": [
    "items = input(\"Input words :  \")\n",
    "words = [word for word in items.split(\",\")]\n",
    "print(\",\".join(sorted(list(set(words)))))"
   ]
  },
  {
   "cell_type": "markdown",
   "id": "792917bd",
   "metadata": {},
   "source": [
    "\n",
    "Question 4:                         \n",
    "Write a program that accepts a sequence of whitespace separated words as input and prints                   \n",
    "the words after removing all duplicate words and sorting them alphanumerically.                  \n",
    "Suppose the following input is supplied to the program:                \n",
    "hello world and practice makes perfect and hello world again                  \n",
    "Then, the output should be:               \n",
    "again and hello makes perfect practice world                 \n"
   ]
  },
  {
   "cell_type": "code",
   "execution_count": 4,
   "id": "a1f828db",
   "metadata": {},
   "outputs": [
    {
     "name": "stdout",
     "output_type": "stream",
     "text": [
      "Type in: hello world and practice makes perfect and hello world again \n",
      " again and hello makes perfect practice world\n"
     ]
    }
   ],
   "source": [
    "phrase = input(\"Type in: \")\n",
    "phrase_splited = phrase.split(' ')\n",
    "\n",
    "word_list = []\n",
    "for i in phrase_splited:\n",
    "    if i not in word_list:\n",
    "        word_list.append(i)\n",
    "    else:\n",
    "        continue\n",
    "word_list.sort()\n",
    "print((' ').join(word_list))"
   ]
  },
  {
   "cell_type": "markdown",
   "id": "9fd48e23",
   "metadata": {},
   "source": [
    "\n",
    "Question 5:                      \n",
    "Write a program that accepts a sentence and calculate the number of letters and digits.                       \n",
    "Suppose the following input is supplied to the program:                    \n",
    "hello world! 123                  \n",
    "Then, the output should be:               \n",
    "LETTERS 10                 \n",
    "                 \n",
    "DIGITS 3\n",
    "            "
   ]
  },
  {
   "cell_type": "code",
   "execution_count": 5,
   "id": "374b19fc",
   "metadata": {},
   "outputs": [
    {
     "name": "stdout",
     "output_type": "stream",
     "text": [
      "Input a string:  hello world! 123\n",
      "Letters 10\n",
      "Digits 3\n"
     ]
    }
   ],
   "source": [
    "s = input(\"Input a string:  \")\n",
    "d=l=0\n",
    "for c in s:\n",
    "    if c.isdigit():\n",
    "        d=d+1\n",
    "    elif c.isalpha():\n",
    "        l=l+1\n",
    "    else:\n",
    "        pass\n",
    "print(\"Letters\", l)\n",
    "print(\"Digits\", d)"
   ]
  },
  {
   "cell_type": "markdown",
   "id": "913eeaac",
   "metadata": {},
   "source": [
    "\n",
    "Question 6:\n",
    "A website requires the users to input username and password to register. Write a program to\n",
    "check the validity of password input by users.\n",
    "Following are the criteria for checking the password:\n",
    "1. At least 1 letter between [a-z]\n",
    "2. At least 1 number between [0-9]\n",
    "1. At least 1 letter between [A-Z]\n",
    "3. At least 1 character from [$#@]\n",
    "4. Minimum length of transaction password: 6\n",
    "5. Maximum length of transaction password: 12\n",
    "Your program should accept a sequence of comma separated passwords and will check them\n",
    "according to the above criteria. Passwords that match the criteria are to be printed, each\n",
    "separated by a comma.\n",
    "Example\n",
    "If the following passwords are given as input to the program:\n",
    "ABd1234@1,a F1#,2w3E*,2We3345\n",
    "Then, the output of the program should be:\n",
    "ABd1234@1"
   ]
  },
  {
   "cell_type": "code",
   "execution_count": 6,
   "id": "57c5963c",
   "metadata": {},
   "outputs": [
    {
     "name": "stdout",
     "output_type": "stream",
     "text": [
      "Input your password:  guilty@conscience1424\n",
      "Not a Valid Password\n"
     ]
    }
   ],
   "source": [
    "import re\n",
    "p= input(\"Input your password:  \")\n",
    "x = True\n",
    "while x:  \n",
    "    if (len(p)<6 or len(p)>12):\n",
    "        break\n",
    "    elif not re.search(\"[a-z]\",p):\n",
    "        break\n",
    "    elif not re.search(\"[0-9]\",p):\n",
    "        break\n",
    "    elif not re.search(\"[A-Z]\",p):\n",
    "        break\n",
    "    elif not re.search(\"[$#@]\",p):\n",
    "        break\n",
    "    elif re.search(\"\\s\",p):\n",
    "        break\n",
    "    else:\n",
    "        print(\"Valid Password\")\n",
    "        x=False\n",
    "        break\n",
    "\n",
    "if x:\n",
    "    print(\"Not a Valid Password\")"
   ]
  },
  {
   "cell_type": "code",
   "execution_count": null,
   "id": "19174b4e",
   "metadata": {},
   "outputs": [],
   "source": []
  }
 ],
 "metadata": {
  "kernelspec": {
   "display_name": "Python 3 (ipykernel)",
   "language": "python",
   "name": "python3"
  },
  "language_info": {
   "codemirror_mode": {
    "name": "ipython",
    "version": 3
   },
   "file_extension": ".py",
   "mimetype": "text/x-python",
   "name": "python",
   "nbconvert_exporter": "python",
   "pygments_lexer": "ipython3",
   "version": "3.9.6"
  }
 },
 "nbformat": 4,
 "nbformat_minor": 5
}
