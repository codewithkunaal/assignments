{
 "cells": [
  {
   "cell_type": "markdown",
   "id": "b5a26ff5",
   "metadata": {},
   "source": [
    "Question 1:\n",
    "Define a class with a generator which can iterate the numbers, which are divisible by\n",
    "7, between a given range 0 and n.\n"
   ]
  },
  {
   "cell_type": "code",
   "execution_count": 10,
   "id": "cb5748ab",
   "metadata": {},
   "outputs": [],
   "source": [
    "class bottle:\n",
    "    def __init__(self,n):\n",
    "        self.n = n\n",
    "    def div(self):\n",
    "        for i in range(0,self.n):\n",
    "            if (i%7==0):\n",
    "                yield i"
   ]
  },
  {
   "cell_type": "code",
   "execution_count": 11,
   "id": "27665d9a",
   "metadata": {},
   "outputs": [
    {
     "name": "stdout",
     "output_type": "stream",
     "text": [
      "0\n",
      "7\n",
      "14\n",
      "21\n",
      "28\n",
      "35\n",
      "42\n",
      "49\n",
      "56\n",
      "63\n",
      "70\n",
      "77\n",
      "84\n",
      "91\n",
      "98\n"
     ]
    }
   ],
   "source": [
    "\n",
    "p = bottle(99)\n",
    "for j in p.div():\n",
    "    print(j)"
   ]
  },
  {
   "cell_type": "code",
   "execution_count": null,
   "id": "da49235c",
   "metadata": {},
   "outputs": [],
   "source": []
  },
  {
   "cell_type": "markdown",
   "id": "169318b7",
   "metadata": {},
   "source": [
    "\n",
    "Question 2:\n",
    "Write a program to compute the frequency of the words from the input. The output\n",
    "should output after sorting the key alphanumerically.\n",
    "Suppose the following input is supplied to the program:\n",
    "New to Python or choosing between Python 2 and Python 3? Read Python 2 or\n",
    "Python 3.\n",
    "Then, the output should be:\n",
    "2:2\n",
    "3.:1\n",
    "3?:1\n",
    "New:1\n",
    "Python:5\n",
    "Read:1\n",
    "and:1\n",
    "between:1\n",
    "choosing:1\n",
    "or:2\n",
    "to:1\n"
   ]
  },
  {
   "cell_type": "code",
   "execution_count": 18,
   "id": "6f6eccf8",
   "metadata": {},
   "outputs": [],
   "source": [
    "def frequency(input):\n",
    "    freq = {}\n",
    "\n",
    "    for word in input.split():\n",
    "        freq[word] = freq.get(word, 0) + 1\n",
    "\n",
    "    words = list(freq.keys())\n",
    "    words.sort()\n",
    "\n",
    "    for w in words:\n",
    "        print(f'{w}:{freq[w]}')"
   ]
  },
  {
   "cell_type": "code",
   "execution_count": 19,
   "id": "25932270",
   "metadata": {},
   "outputs": [
    {
     "name": "stdout",
     "output_type": "stream",
     "text": [
      "2:2\n",
      "3.:1\n",
      "3?:1\n",
      "New:1\n",
      "Python:5\n",
      "Read:1\n",
      "and:1\n",
      "between:1\n",
      "choosing:1\n",
      "or:2\n",
      "to:1\n"
     ]
    }
   ],
   "source": [
    "frequency('New to Python or choosing between Python 2 and Python 3? Read Python 2 or Python 3.')\n"
   ]
  },
  {
   "cell_type": "markdown",
   "id": "629cc36f",
   "metadata": {},
   "source": [
    "\n",
    "Question 3:\n",
    "\n",
    "Define a class Person and its two child classes: Male and Female. All classes have a\n",
    "method &quot;getGender&quot; which can print &quot;Male&quot; for Male class and &quot;Female&quot; for Female\n",
    "class.\n"
   ]
  },
  {
   "cell_type": "code",
   "execution_count": 29,
   "id": "124a1bfd",
   "metadata": {},
   "outputs": [],
   "source": [
    "class person(object):\n",
    "    def getGender(self):\n",
    "        return \"n/a\"\n",
    "class male(person):\n",
    "    def getGender(self):\n",
    "        return \"Male\"\n",
    "class female(person):\n",
    "    def getGender(self):\n",
    "        return \"female\""
   ]
  },
  {
   "cell_type": "code",
   "execution_count": 30,
   "id": "f238f68b",
   "metadata": {},
   "outputs": [
    {
     "name": "stdout",
     "output_type": "stream",
     "text": [
      "Male\n",
      "Female\n"
     ]
    }
   ],
   "source": [
    "a  =  Male()  \n",
    "b  =  Female()  \n",
    "print(a.getGender())  \n",
    "print  (b.getGender())"
   ]
  },
  {
   "cell_type": "code",
   "execution_count": null,
   "id": "8c94a4a1",
   "metadata": {},
   "outputs": [],
   "source": []
  },
  {
   "cell_type": "markdown",
   "id": "91e25e35",
   "metadata": {},
   "source": [
    "\n",
    "Question 4:\n",
    "Please write a program to generate all sentences where subject is in [&quot;I&quot;, &quot;You&quot;] and\n",
    "verb is in [&quot;Play&quot;, &quot;Love&quot;] and the object is in [&quot;Hockey&quot;,&quot;Football&quot;].\n"
   ]
  },
  {
   "cell_type": "code",
   "execution_count": 34,
   "id": "ced76f8b",
   "metadata": {},
   "outputs": [
    {
     "name": "stdout",
     "output_type": "stream",
     "text": [
      "I Play Hockey\n",
      "I Play Football\n",
      "I Love Hockey\n",
      "I Love Football\n",
      "You Play Hockey\n",
      "You Play Football\n",
      "You Love Hockey\n",
      "You Love Football\n"
     ]
    }
   ],
   "source": [
    "subjects = [\"I\", \"You\"]\n",
    "verbs = [\"Play\", \"Love\"]\n",
    "objects = [\"Hockey\", \"Football\"]\n",
    "for i in range(len(subjects)):\n",
    "    for j in range(len(verbs)):\n",
    "        for k in range(len(objects)):\n",
    "            print(f\"{subjects[i]} {verbs[j]} {objects[k]}\")      "
   ]
  },
  {
   "cell_type": "markdown",
   "id": "55698fdc",
   "metadata": {},
   "source": [
    "\n",
    "Question 5:\n",
    "Please write a program to compress and decompress the string &quot;hello world!hello\n",
    "world!hello world!hello world!&quot;.\n"
   ]
  },
  {
   "cell_type": "code",
   "execution_count": 37,
   "id": "6d47f546",
   "metadata": {},
   "outputs": [
    {
     "name": "stdout",
     "output_type": "stream",
     "text": [
      "b'x\\x9c\\xcbH\\xcd\\xc9\\xc9W(\\xcf/\\xcaIQ\\xcc \\x82\\r\\x00\\xbd[\\x11\\xf5'\n",
      "b'hello world!hello world!hello world!hello world!'\n"
     ]
    }
   ],
   "source": [
    "import zlib\n",
    "s = 'hello world!hello world!hello world!hello world!'.encode()\n",
    "t = zlib.compress(s)\n",
    "print(t)\n",
    "print(zlib.decompress(t))"
   ]
  },
  {
   "cell_type": "markdown",
   "id": "8e0559bc",
   "metadata": {},
   "source": [
    "\n",
    "Question 6:\n",
    "Please write a binary search function which searches an item in a sorted list. The\n",
    "function should return the index of element to be searched in the list."
   ]
  },
  {
   "cell_type": "code",
   "execution_count": 40,
   "id": "46fb3243",
   "metadata": {},
   "outputs": [
    {
     "name": "stdout",
     "output_type": "stream",
     "text": [
      "Element is present at index 1\n"
     ]
    }
   ],
   "source": [
    "\n",
    "def binarySearch(array, x, low, high):\n",
    "    while low <= high:\n",
    "        mid = low + (high - low)//2\n",
    "        if array[mid] == x:\n",
    "            return mid\n",
    "        elif array[mid] < x:\n",
    "            low = mid + 1\n",
    "        else:\n",
    "            high = mid - 1\n",
    "    return -1\n",
    "\n",
    "\n",
    "array = [3, 4, 5, 6, 7, 8, 9]\n",
    "x = 4\n",
    "\n",
    "result = binarySearch(array, x, 0, len(array)-1)\n",
    "\n",
    "if result != -1:\n",
    "    print(\"Element is present at index \" + str(result))\n",
    "else:\n",
    "    print(\"Not found\")"
   ]
  },
  {
   "cell_type": "code",
   "execution_count": null,
   "id": "84aac794",
   "metadata": {},
   "outputs": [],
   "source": []
  }
 ],
 "metadata": {
  "kernelspec": {
   "display_name": "Python 3 (ipykernel)",
   "language": "python",
   "name": "python3"
  },
  "language_info": {
   "codemirror_mode": {
    "name": "ipython",
    "version": 3
   },
   "file_extension": ".py",
   "mimetype": "text/x-python",
   "name": "python",
   "nbconvert_exporter": "python",
   "pygments_lexer": "ipython3",
   "version": "3.9.6"
  }
 },
 "nbformat": 4,
 "nbformat_minor": 5
}
