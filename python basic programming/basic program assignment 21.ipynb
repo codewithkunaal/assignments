{
 "cells": [
  {
   "cell_type": "markdown",
   "id": "b808b766",
   "metadata": {},
   "source": [
    "Question1                            \n",
    "Write a function that takes a list and a number as arguments. Add the number to the end of                          \n",
    "the list, then remove the first element of the list. The function should then return the updated              \n",
    "list.                    \n",
    "Examples                         \n",
    "next_in_line([5, 6, 7, 8, 9], 1) ➞ [6, 7, 8, 9, 1]                   \n",
    "next_in_line([7, 6, 3, 23, 17], 10) ➞ [6, 3, 23, 17, 10]                   \n",
    "next_in_line([1, 10, 20, 42 ], 6) ➞ [10, 20, 42, 6]                 \n",
    "next_in_line([], 6) ➞ &quot;No list has been selected&quot;                   \n"
   ]
  },
  {
   "cell_type": "code",
   "execution_count": 3,
   "id": "24c06d80",
   "metadata": {},
   "outputs": [
    {
     "data": {
      "text/plain": [
       "([6, 7, 8, 9, 1], [6, 3, 23, 17, 10], [10, 20, 42, 6])"
      ]
     },
     "execution_count": 3,
     "metadata": {},
     "output_type": "execute_result"
    }
   ],
   "source": [
    "def replace(lst,k):\n",
    "    lst.remove(lst[0])\n",
    "    lst.append(k)\n",
    "    return lst\n",
    "\n",
    "\n",
    "\n",
    "\n",
    "lst = [5,6,7,8,9]\n",
    "k = 1\n",
    "replace(lst,k),replace([7, 6, 3, 23, 17], 10 ),replace([1, 10, 20, 42 ], 6)"
   ]
  },
  {
   "cell_type": "markdown",
   "id": "5e315222",
   "metadata": {},
   "source": [
    "\n",
    "Question2\n",
    "Create the function that takes a list of dictionaries and returns the sum of people&#39;s budgets.                              \n",
    "Examples\n",
    "get_budgets([\n",
    "{ &quot;name&quot;: &quot;John&quot;, &quot;age&quot;: 21, &quot;budget&quot;: 23000 },                               \n",
    "{ &quot;name&quot;: &quot;Steve&quot;, &quot;age&quot;: 32, &quot;budget&quot;: 40000 },            \n",
    "{ &quot;name&quot;: &quot;Martin&quot;, &quot;age&quot;: 16, &quot;budget&quot;: 2700 }           \n",
    "]) ➞ 65700           \n",
    "get_budgets([                                             \n",
    "{ &quot;name&quot;: &quot;John&quot;, &quot;age&quot;: 21, &quot;budget&quot;: 29000 },                \n",
    "{ &quot;name&quot;: &quot;Steve&quot;, &quot;age&quot;: 32, &quot;budget&quot;: 32000 },                  \n",
    "{ &quot;name&quot;: &quot;Martin&quot;, &quot;age&quot;: 16, &quot;budget&quot;: 1600 }                   \n",
    "]) ➞ 62600                      \n"
   ]
  },
  {
   "cell_type": "code",
   "execution_count": 11,
   "id": "a8e82745",
   "metadata": {},
   "outputs": [],
   "source": [
    "def budget_get(d):\n",
    "    total = sum(item[\"budget\"] for item in d)\n",
    "    return total"
   ]
  },
  {
   "cell_type": "code",
   "execution_count": 12,
   "id": "87976cdc",
   "metadata": {},
   "outputs": [
    {
     "data": {
      "text/plain": [
       "65700"
      ]
     },
     "execution_count": 12,
     "metadata": {},
     "output_type": "execute_result"
    }
   ],
   "source": [
    "d = [{ \"name\": \"John\", \"age\": 21, \"budget\": 23000 },\n",
    "{ \"name\": \"Steve\", \"age\": 32, \"budget\": 40000 },\n",
    "{ \"name\": \"Martin\", \"age\": 16, \"budget\": 2700 }]\n",
    "\n",
    "\n",
    "budget_get(d)"
   ]
  },
  {
   "cell_type": "markdown",
   "id": "2d1d96f4",
   "metadata": {},
   "source": [
    "\n",
    "Question3\n",
    "Create a function that takes a string and returns a string with its letters in alphabetical order.         \n",
    "Examples                  \n",
    "alphabet_soup(&quot;hello&quot;) ➞ &quot;ehllo&quot;                        \n",
    "alphabet_soup(&quot;edabit&quot;) ➞ &quot;abdeit&quot;                 \n",
    "alphabet_soup(&quot;hacker&quot;) ➞ &quot;acehkr&quot;                       \n",
    "alphabet_soup(&quot;geek&quot;) ➞ &quot;eegk&quot;                   \n",
    "alphabet_soup(&quot;javascript&quot;) ➞ &quot;aacijprstv&quot;               \n"
   ]
  },
  {
   "cell_type": "code",
   "execution_count": 19,
   "id": "3586c15a",
   "metadata": {},
   "outputs": [],
   "source": [
    "def alphaSoup(st):\n",
    "    return \"\".join(sorted(st))"
   ]
  },
  {
   "cell_type": "code",
   "execution_count": 20,
   "id": "8fbe0ca7",
   "metadata": {},
   "outputs": [
    {
     "data": {
      "text/plain": [
       "'ehllo'"
      ]
     },
     "execution_count": 20,
     "metadata": {},
     "output_type": "execute_result"
    }
   ],
   "source": [
    "st = \"hello\"\n",
    "alphaSoup(st)"
   ]
  },
  {
   "cell_type": "markdown",
   "id": "3608dce9",
   "metadata": {},
   "source": [
    "\n",
    "Question4                 \n",
    "Suppose that you invest $10,000 for 10 years at an interest rate of 6% compounded monthly.                    \n",
    "What will be the value of your investment at the end of the 10 year period?                           \n",
    "Create a function that accepts the principal p, the term in years t, the interest rate r, and the                 \n",
    "number of compounding periods per year n. The function returns the value at the end of term             \n",
    "rounded to the nearest cent.            \n",
    "For the example above:                   \n",
    "compound_interest(10000, 10, 0.06, 12) ➞ 18193.97                    \n",
    "Note that the interest rate is given as a decimal and n=12 because with monthly compounding                 \n",
    "there are 12 periods per year. Compounding can also be done annually, quarterly, weekly, or           \n",
    "daily.\n",
    "Examples                                                           \n",
    "compound_interest(100, 1, 0.05, 1) ➞ 105.0                    \n",
    "compound_interest(3500, 15, 0.1, 4) ➞ 15399.26                                              \n",
    "compound_interest(100000, 20, 0.15, 365) ➞ 2007316.26                       \n"
   ]
  },
  {
   "cell_type": "code",
   "execution_count": 27,
   "id": "4ca21be3",
   "metadata": {},
   "outputs": [
    {
     "data": {
      "text/plain": [
       "18193.9673"
      ]
     },
     "execution_count": 27,
     "metadata": {},
     "output_type": "execute_result"
    }
   ],
   "source": [
    "def comp(princi,year,irate):\n",
    "    future_value = princi*(1+(irate/cycle))**(cycle*year)\n",
    "    return round(future_value,4)\n",
    "# A = P (1 + r/n)**(nt)\n",
    "\n",
    "princi = 10000\n",
    "year = 10\n",
    "cycle = 12\n",
    "irate = 0.06\n",
    "comp(princi,year,irate)\n"
   ]
  },
  {
   "cell_type": "markdown",
   "id": "f8ab9f22",
   "metadata": {},
   "source": [
    "\n",
    "Question5                  \n",
    "Write a function that takes a list of elements and returns only the integers.              \n",
    "Examples                       \n",
    "return_only_integer([9, 2, &quot;space&quot;, &quot;car&quot;, &quot;lion&quot;, 16]) ➞ [9, 2, 16]               \n",
    "return_only_integer([&quot;hello&quot;, 81, &quot;basketball&quot;, 123, &quot;fox&quot;]) ➞ [81, 123]                 \n",
    "return_only_integer([10, &quot;121&quot;, 56, 20, &quot;car&quot;, 3, &quot;lion&quot;]) ➞ [10, 56, 20,3]                          \n",
    "return_only_integer([&quot;String&quot;, True, 3.3, 1]) ➞ [1]                                          "
   ]
  },
  {
   "cell_type": "code",
   "execution_count": 30,
   "id": "d091993f",
   "metadata": {},
   "outputs": [],
   "source": [
    "def running(aist):\n",
    "    l = []\n",
    "    for i in aist:\n",
    "        if type(i)==int:\n",
    "            l.append(i)\n",
    "    return l"
   ]
  },
  {
   "cell_type": "code",
   "execution_count": 33,
   "id": "4661323a",
   "metadata": {},
   "outputs": [
    {
     "data": {
      "text/plain": [
       "([9, 2, 16], [81, 123], [10, 56, 20, 3])"
      ]
     },
     "execution_count": 33,
     "metadata": {},
     "output_type": "execute_result"
    }
   ],
   "source": [
    "aist = [9, 2, \"space\", \"car\", \"lion\", 16]\n",
    "running(aist),running([\"hello\", 81, \"basketball\", 123, \"fox\"]),running([10, \"121\", 56, 20, \"car\", 3, \"lion\"])"
   ]
  },
  {
   "cell_type": "code",
   "execution_count": null,
   "id": "429a9e15",
   "metadata": {},
   "outputs": [],
   "source": []
  }
 ],
 "metadata": {
  "kernelspec": {
   "display_name": "Python 3 (ipykernel)",
   "language": "python",
   "name": "python3"
  },
  "language_info": {
   "codemirror_mode": {
    "name": "ipython",
    "version": 3
   },
   "file_extension": ".py",
   "mimetype": "text/x-python",
   "name": "python",
   "nbconvert_exporter": "python",
   "pygments_lexer": "ipython3",
   "version": "3.9.6"
  }
 },
 "nbformat": 4,
 "nbformat_minor": 5
}
