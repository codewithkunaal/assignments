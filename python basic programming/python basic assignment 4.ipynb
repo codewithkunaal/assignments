{
 "cells": [
  {
   "cell_type": "markdown",
   "id": "aa800a5b",
   "metadata": {},
   "source": [
    "1. Write a Python Program to Find the Factorial of a Number?"
   ]
  },
  {
   "cell_type": "code",
   "execution_count": 5,
   "id": "0b97a6ff",
   "metadata": {},
   "outputs": [
    {
     "name": "stdout",
     "output_type": "stream",
     "text": [
      "enter the no:   6\n"
     ]
    },
    {
     "data": {
      "text/plain": [
       "720"
      ]
     },
     "execution_count": 5,
     "metadata": {},
     "output_type": "execute_result"
    }
   ],
   "source": [
    "n = int(input(\"enter the no:   \"))\n",
    "def fac(n):\n",
    "    if n==1:\n",
    "        return 1\n",
    "    else:\n",
    "        return n*fac(n-1)\n",
    "\n",
    "\n",
    "fac(n)"
   ]
  },
  {
   "cell_type": "code",
   "execution_count": null,
   "id": "214e7786",
   "metadata": {},
   "outputs": [],
   "source": []
  },
  {
   "cell_type": "markdown",
   "id": "2fd41e47",
   "metadata": {},
   "source": [
    "2. Write a Python Program to Display the multiplication Table?"
   ]
  },
  {
   "cell_type": "code",
   "execution_count": 4,
   "id": "3b4fe14a",
   "metadata": {
    "scrolled": true
   },
   "outputs": [
    {
     "name": "stdout",
     "output_type": "stream",
     "text": [
      "enter the number  : 6\n",
      "multiplication table for 6 is :\n",
      "6\n",
      "12\n",
      "18\n",
      "24\n",
      "30\n",
      "36\n",
      "42\n",
      "48\n",
      "54\n",
      "60\n"
     ]
    }
   ],
   "source": [
    "n = int(input(\"enter the number  : \"))\n",
    "print(f\"multiplication table for {n} is :\")\n",
    "for i in range(1,11):\n",
    "    print(f\"{i*n}\")"
   ]
  },
  {
   "cell_type": "markdown",
   "id": "3a6b57f4",
   "metadata": {},
   "source": [
    "\n",
    "\n",
    "3. Write a Python Program to Print the Fibonacci sequence?"
   ]
  },
  {
   "cell_type": "code",
   "execution_count": 31,
   "id": "f5893c80",
   "metadata": {},
   "outputs": [],
   "source": [
    "def fibs(n):\n",
    "    a = 0\n",
    "    b = 1\n",
    "    for i in range(n):\n",
    "        yield a\n",
    "        a, b = b, a + b"
   ]
  },
  {
   "cell_type": "code",
   "execution_count": 33,
   "id": "a0427340",
   "metadata": {
    "scrolled": false
   },
   "outputs": [
    {
     "name": "stdout",
     "output_type": "stream",
     "text": [
      "[0, 1, 1, 2, 3, 5, 8, 13, 21, 34, 55, 89, 144, 233, 377, 610, 987, 1597, 2584, 4181, 6765, 10946, 17711, 28657, 46368, 75025, 121393, 196418, 317811, 514229, 832040, 1346269, 2178309, 3524578, 5702887, 9227465, 14930352, 24157817, 39088169, 63245986, 102334155, 165580141, 267914296, 433494437, 701408733, 1134903170, 1836311903, 2971215073, 4807526976, 7778742049, 12586269025, 20365011074, 32951280099, 53316291173, 86267571272, 139583862445, 225851433717, 365435296162, 591286729879, 956722026041, 1548008755920, 2504730781961, 4052739537881, 6557470319842, 10610209857723, 17167680177565, 27777890035288, 44945570212853, 72723460248141, 117669030460994, 190392490709135, 308061521170129, 498454011879264, 806515533049393, 1304969544928657, 2111485077978050, 3416454622906707, 5527939700884757, 8944394323791464, 14472334024676221, 23416728348467685, 37889062373143906, 61305790721611591, 99194853094755497, 160500643816367088, 259695496911122585, 420196140727489673, 679891637638612258, 1100087778366101931, 1779979416004714189, 2880067194370816120, 4660046610375530309, 7540113804746346429, 12200160415121876738, 19740274219868223167, 31940434634990099905, 51680708854858323072, 83621143489848422977, 135301852344706746049]\n"
     ]
    }
   ],
   "source": [
    "print(list(fibs(99)))"
   ]
  },
  {
   "cell_type": "code",
   "execution_count": 34,
   "id": "a649cdf6",
   "metadata": {
    "scrolled": true
   },
   "outputs": [
    {
     "name": "stdout",
     "output_type": "stream",
     "text": [
      "0\n",
      "1\n",
      "1\n",
      "2\n",
      "3\n",
      "5\n",
      "8\n"
     ]
    }
   ],
   "source": [
    "# for i in fibs(7):\n",
    "#     print(i)"
   ]
  },
  {
   "cell_type": "markdown",
   "id": "c885ea74",
   "metadata": {},
   "source": [
    "4. Write a Python Program to Check Armstrong Number?"
   ]
  },
  {
   "cell_type": "markdown",
   "id": "783789b5",
   "metadata": {},
   "source": [
    "An Armstrong number of three digits is an integer such that the sum of the cubes of its digits is equal to the number itself. For example, 371 is an Armstrong number since `3**3 + 7**3 + 1**3 = 371`"
   ]
  },
  {
   "cell_type": "code",
   "execution_count": 43,
   "id": "14ee150d",
   "metadata": {},
   "outputs": [
    {
     "name": "stdout",
     "output_type": "stream",
     "text": [
      "Enter you digit  : 371\n",
      "371 is a armstrong number\n"
     ]
    }
   ],
   "source": [
    "n = int(input(\"Enter you digit  : \"))\n",
    "\n",
    "sum = 0\n",
    "temp = n\n",
    "while temp > 0:\n",
    "    digit = temp%10\n",
    "    sum += digit**3\n",
    "    temp //= 10\n",
    "        \n",
    "        \n",
    "if sum == n :\n",
    "    print(n,\"is a armstrong number\")\n",
    "else:\n",
    "    print(n,\"it is not armstrong number\")"
   ]
  },
  {
   "cell_type": "code",
   "execution_count": null,
   "id": "1b6db21c",
   "metadata": {},
   "outputs": [],
   "source": []
  },
  {
   "cell_type": "markdown",
   "id": "ed0337c9",
   "metadata": {},
   "source": [
    "5. Write a Python Program to Find Armstrong Number in an Interval?\n"
   ]
  },
  {
   "cell_type": "code",
   "execution_count": 52,
   "id": "baf99d52",
   "metadata": {
    "scrolled": false
   },
   "outputs": [
    {
     "name": "stdout",
     "output_type": "stream",
     "text": [
      "125\n",
      "216\n",
      "375\n",
      "729\n",
      "2048\n"
     ]
    }
   ],
   "source": [
    "b = 100\n",
    "\n",
    "n = 100000\n",
    "for i in range(b, n+1):\n",
    "    order = len(str(i))\n",
    "    sum = 0\n",
    "    temp = i\n",
    "    while temp > 0:\n",
    "        digit = i%10\n",
    "        sum += digit**3\n",
    "        temp //= 10\n",
    "        if i == sum:\n",
    "            print(i)"
   ]
  },
  {
   "cell_type": "code",
   "execution_count": null,
   "id": "13e3526e",
   "metadata": {},
   "outputs": [],
   "source": []
  },
  {
   "cell_type": "markdown",
   "id": "1c4d6457",
   "metadata": {},
   "source": [
    "\n",
    "\n",
    "\n",
    "6. Write a Python Program to Find the Sum of Natural Numbers?\n"
   ]
  },
  {
   "cell_type": "code",
   "execution_count": 54,
   "id": "0392561f",
   "metadata": {},
   "outputs": [
    {
     "name": "stdout",
     "output_type": "stream",
     "text": [
      "Enter number of terms: 100\n"
     ]
    },
    {
     "data": {
      "text/plain": [
       "5050.0"
      ]
     },
     "execution_count": 54,
     "metadata": {},
     "output_type": "execute_result"
    }
   ],
   "source": [
    "def natsu(n):  \n",
    "    sumOfn = (n * (n + 1))/2\n",
    "    return sumOfn\n",
    "\n",
    "terms = int(input(\"Enter number of terms: \"))\n",
    "natsu(terms)"
   ]
  },
  {
   "cell_type": "code",
   "execution_count": null,
   "id": "11fbe68f",
   "metadata": {},
   "outputs": [],
   "source": []
  }
 ],
 "metadata": {
  "kernelspec": {
   "display_name": "Python 3 (ipykernel)",
   "language": "python",
   "name": "python3"
  },
  "language_info": {
   "codemirror_mode": {
    "name": "ipython",
    "version": 3
   },
   "file_extension": ".py",
   "mimetype": "text/x-python",
   "name": "python",
   "nbconvert_exporter": "python",
   "pygments_lexer": "ipython3",
   "version": "3.9.6"
  }
 },
 "nbformat": 4,
 "nbformat_minor": 5
}
