{
 "cells": [
  {
   "cell_type": "markdown",
   "id": "7a4f2533",
   "metadata": {},
   "source": [
    "Question 1\n",
    "Create a function that takes a number as an argument and returns True or False depending            \n",
    "on whether the number is symmetrical or not. A number is symmetrical when it is the same as               \n",
    "its reverse.                                    \n",
    "Examples                    \n",
    "is_symmetrical(7227) ➞ True                                     \n",
    "is_symmetrical(12567) ➞ False              \n",
    "is_symmetrical(44444444) ➞ True                                                       \n",
    "is_symmetrical(9939) ➞ False    \n",
    "is_symmetrical(1112111) ➞ True                   \n"
   ]
  },
  {
   "cell_type": "code",
   "execution_count": 33,
   "id": "a7a83617",
   "metadata": {},
   "outputs": [],
   "source": [
    "def is_sym(input):\n",
    "#     n = int(input(\"enter the num :   \"))\n",
    "    l = [int(x) for x in str(input)]\n",
    "    if l[::] == l[::-1]:\n",
    "        return True\n",
    "    else:\n",
    "        return False"
   ]
  },
  {
   "cell_type": "code",
   "execution_count": 36,
   "id": "7f44523b",
   "metadata": {},
   "outputs": [
    {
     "data": {
      "text/plain": [
       "(False, True)"
      ]
     },
     "execution_count": 36,
     "metadata": {},
     "output_type": "execute_result"
    }
   ],
   "source": [
    "is_sym(124),is_sym(1111)"
   ]
  },
  {
   "cell_type": "markdown",
   "id": "31e4a3bf",
   "metadata": {},
   "source": [
    "\n",
    "Question 2              \n",
    "Given a string of numbers separated by a comma and space, return the product of the                     \n",
    "numbers.                  \n",
    "Examples                                           \n",
    "multiply_nums(&quot;2, 3&quot;) ➞ 6                 \n",
    "multiply_nums(&quot;1, 2, 3, 4&quot;) ➞ 24               \n",
    "multiply_nums(&quot;54, 75, 453, 0&quot;) ➞ 0                     \n",
    "multiply_nums(&quot;10, -2&quot;) ➞ -20                \n"
   ]
  },
  {
   "cell_type": "code",
   "execution_count": 41,
   "id": "6bd9ce8b",
   "metadata": {},
   "outputs": [],
   "source": [
    "import math\n",
    "def strr(n):\n",
    "    total = []\n",
    "    for i in n.split(\",\"):\n",
    "        total.append(int(i))\n",
    "    return math.prod(total)"
   ]
  },
  {
   "cell_type": "code",
   "execution_count": 45,
   "id": "f3ae28d7",
   "metadata": {
    "scrolled": true
   },
   "outputs": [
    {
     "data": {
      "text/plain": [
       "6"
      ]
     },
     "execution_count": 45,
     "metadata": {},
     "output_type": "execute_result"
    }
   ],
   "source": [
    "n = \"2, 3\"\n",
    "strr(n)\n"
   ]
  },
  {
   "cell_type": "code",
   "execution_count": 43,
   "id": "5bcdffc5",
   "metadata": {},
   "outputs": [],
   "source": []
  },
  {
   "cell_type": "markdown",
   "id": "5358dee4",
   "metadata": {},
   "source": [
    "\n",
    "Question 3         \n",
    "Create a function that squares every digit of a number.                 \n",
    "Examples                 \n",
    "square_digits(9119) ➞ 811181                 \n",
    "square_digits(2483) ➞ 416649                  \n",
    "square_digits(3212) ➞ 9414                     \n",
    "Notes                        \n",
    "The function receives an integer and must return an integer.                  \n"
   ]
  },
  {
   "cell_type": "code",
   "execution_count": 46,
   "id": "2f37f407",
   "metadata": {},
   "outputs": [],
   "source": [
    "def sqint(num):\n",
    "    return ''.join(str(int(i)**2) for i in str(num))"
   ]
  },
  {
   "cell_type": "code",
   "execution_count": 48,
   "id": "617b892e",
   "metadata": {},
   "outputs": [
    {
     "data": {
      "text/plain": [
       "'811181'"
      ]
     },
     "execution_count": 48,
     "metadata": {},
     "output_type": "execute_result"
    }
   ],
   "source": [
    "sqint(9119)"
   ]
  },
  {
   "cell_type": "markdown",
   "id": "4bc898c9",
   "metadata": {},
   "source": [
    "\n",
    "Question 4                \n",
    "Create a function that sorts a list and removes all duplicate items from it.          \n",
    "Examples                      \n",
    "setify([1, 3, 3, 5, 5]) ➞ [1, 3, 5]                         \n",
    "setify([4, 4, 4, 4]) ➞ [4]                                 \n",
    "setify([5, 7, 8, 9, 10, 15]) ➞ [5, 7, 8, 9, 10, 15]               \n",
    "setify([3, 3, 3, 2, 1]) ➞ [1, 2, 3]                         \n"
   ]
  },
  {
   "cell_type": "code",
   "execution_count": 49,
   "id": "2e8490f1",
   "metadata": {},
   "outputs": [],
   "source": [
    "def dup(n):\n",
    "    new = []\n",
    "    for i in n:\n",
    "        if i not in new:\n",
    "            new.append(i)\n",
    "    return new"
   ]
  },
  {
   "cell_type": "code",
   "execution_count": 50,
   "id": "ff8673b2",
   "metadata": {},
   "outputs": [
    {
     "data": {
      "text/plain": [
       "[1, 3, 5]"
      ]
     },
     "execution_count": 50,
     "metadata": {},
     "output_type": "execute_result"
    }
   ],
   "source": [
    "dup([1,3,3,3,3,3,5,5,5])"
   ]
  },
  {
   "cell_type": "code",
   "execution_count": null,
   "id": "b0e94233",
   "metadata": {},
   "outputs": [],
   "source": []
  },
  {
   "cell_type": "markdown",
   "id": "6fdfa1dc",
   "metadata": {},
   "source": [
    "\n",
    "Question 5         \n",
    "Create a function that returns the mean of all digits.                 \n",
    "Examples                 \n",
    "mean(42) ➞ 3                  \n",
    "mean(12345) ➞ 3                                                                      \n",
    "mean(666) ➞ 6                      \n",
    " The mean of all digits is the sum of digits / how many digits there are (e.g. mean of digits in                 \n",
    "512 is (5+1+2)/3(number of digits) = 8/3=2).                 \n",
    " The mean will always be an integer.              "
   ]
  },
  {
   "cell_type": "code",
   "execution_count": 61,
   "id": "0b89af81",
   "metadata": {},
   "outputs": [],
   "source": [
    "def meean(n):\n",
    "    N = len(str(n))\n",
    "    total = mean = 0\n",
    "    for i in str(n):\n",
    "        total += int(i)\n",
    "    return int(total/N)\n",
    "        \n"
   ]
  },
  {
   "cell_type": "code",
   "execution_count": 63,
   "id": "26944ab1",
   "metadata": {},
   "outputs": [
    {
     "data": {
      "text/plain": [
       "3"
      ]
     },
     "execution_count": 63,
     "metadata": {},
     "output_type": "execute_result"
    }
   ],
   "source": [
    "n = 34\n",
    "meean(n)"
   ]
  },
  {
   "cell_type": "code",
   "execution_count": null,
   "id": "7d750e2f",
   "metadata": {},
   "outputs": [],
   "source": []
  }
 ],
 "metadata": {
  "kernelspec": {
   "display_name": "Python 3 (ipykernel)",
   "language": "python",
   "name": "python3"
  },
  "language_info": {
   "codemirror_mode": {
    "name": "ipython",
    "version": 3
   },
   "file_extension": ".py",
   "mimetype": "text/x-python",
   "name": "python",
   "nbconvert_exporter": "python",
   "pygments_lexer": "ipython3",
   "version": "3.9.6"
  }
 },
 "nbformat": 4,
 "nbformat_minor": 5
}
