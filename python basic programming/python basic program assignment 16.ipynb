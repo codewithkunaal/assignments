{
 "cells": [
  {
   "cell_type": "markdown",
   "id": "963bc320",
   "metadata": {},
   "source": [
    "Question1. Write a function that stutters a word as if someone is struggling to read it. The first two letters are repeated twice with an ellipsis ... and space after each, and then the word is pronounced with a question mark ?.\n",
    "Examples\n",
    "stutter(\"incredible\") ➞ \"in... in... incredible?\"\n",
    "\n",
    "stutter(\"enthusiastic\") ➞ \"en... en... enthusiastic?\"\n",
    "\n",
    "stutter(\"outstanding\") ➞ \"ou... ou... outstanding?\"\n",
    "\n",
    "Hint :- Assume all input is in lower case and at least two characters long.\n"
   ]
  },
  {
   "cell_type": "code",
   "execution_count": 11,
   "id": "3fbd37f3",
   "metadata": {},
   "outputs": [
    {
     "name": "stdout",
     "output_type": "stream",
     "text": [
      "ba...ba...batman?\n"
     ]
    }
   ],
   "source": [
    "def stutter(word):\n",
    "    s = word[:2]\n",
    "    return f\"{(s + '...') *2}{word}?\"\n",
    "\n",
    "\n",
    "print(stutter(\"batman\"))"
   ]
  },
  {
   "cell_type": "markdown",
   "id": "5a513a1a",
   "metadata": {},
   "source": [
    "Question 2.Create a function that takes an angle in radians and returns the corresponding angle in degrees rounded to one decimal place.\n",
    "Examples\n",
    "radians_to_degrees(1) ➞ 57.3\n",
    "\n",
    "radians_to_degrees(20) ➞ 1145.9\n",
    "\n",
    "radians_to_degrees(50) ➞ 2864.8\n",
    "\n"
   ]
  },
  {
   "cell_type": "code",
   "execution_count": 12,
   "id": "df6f1e44",
   "metadata": {},
   "outputs": [
    {
     "name": "stdout",
     "output_type": "stream",
     "text": [
      "Input radians: 55\n",
      "3150.0\n"
     ]
    }
   ],
   "source": [
    "pi=22/7\n",
    "radian = float(input(\"Input radians: \"))\n",
    "degree = radian*(180/pi)\n",
    "print(degree)"
   ]
  },
  {
   "cell_type": "markdown",
   "id": "722ef879",
   "metadata": {},
   "source": [
    "Question 3. In this challenge, establish if a given integer num is a Curzon number. If 1 plus 2 elevated to num is exactly divisible by 1 plus 2 multiplied by num, then num is a Curzon number.\n",
    "Given a non-negative integer num, implement a function that returns True if num is a Curzon number, or False otherwise.\n",
    "Examples\n",
    "is_curzon(5) ➞ True\n",
    "` 2 ** 5 + 1 = 33`\n",
    "`2 * 5 + 1 = 11`\n",
    "` 33 is a multiple of 11`\n",
    "\n",
    "is_curzon(10) ➞ False\n",
    "`2 ** 10 + 1 = 1025`\n",
    "` 2 * 10 + 1 = 21`\n",
    "` 1025 is not a multiple of 21`\n",
    "\n",
    "is_curzon(14) ➞ True\n",
    "` 2 ** 14 + 1 = 16385`\n",
    "` 2 * 14 + 1 = 29`\n",
    "` 16385 is a multiple of 29`\n"
   ]
  },
  {
   "cell_type": "code",
   "execution_count": 3,
   "id": "2c9993b3",
   "metadata": {},
   "outputs": [],
   "source": [
    "def is_curzon(input):\n",
    "    return not (2**input + 1) % (2*input + 1)"
   ]
  },
  {
   "cell_type": "code",
   "execution_count": 9,
   "id": "b5b83145",
   "metadata": {},
   "outputs": [
    {
     "data": {
      "text/plain": [
       "True"
      ]
     },
     "execution_count": 9,
     "metadata": {},
     "output_type": "execute_result"
    }
   ],
   "source": [
    "is_curzon(5)\n"
   ]
  },
  {
   "cell_type": "code",
   "execution_count": 11,
   "id": "1e64d0ac",
   "metadata": {},
   "outputs": [
    {
     "data": {
      "text/plain": [
       "False"
      ]
     },
     "execution_count": 11,
     "metadata": {},
     "output_type": "execute_result"
    }
   ],
   "source": [
    "is_curzon(7)"
   ]
  },
  {
   "cell_type": "markdown",
   "id": "b4eff076",
   "metadata": {},
   "source": [
    "Question 4.Given the side length x find the area of a hexagon."
   ]
  },
  {
   "cell_type": "code",
   "execution_count": 15,
   "id": "b46306d6",
   "metadata": {},
   "outputs": [],
   "source": [
    "\n",
    "import math\n",
    "def hexaa(s):\n",
    "    return ((3 * math.sqrt(3) *(s **2)) / 2)"
   ]
  },
  {
   "cell_type": "code",
   "execution_count": 16,
   "id": "e40cdf86",
   "metadata": {},
   "outputs": [
    {
     "data": {
      "text/plain": [
       "20119.50218072008"
      ]
     },
     "execution_count": 16,
     "metadata": {},
     "output_type": "execute_result"
    }
   ],
   "source": [
    "hexaa(88)"
   ]
  },
  {
   "cell_type": "markdown",
   "id": "5d558909",
   "metadata": {},
   "source": [
    "Question 5. Create a function that returns a base-2 (binary) representation of a base-10 (decimal) string number. To convert is simple: ((2) means base-2 and (10) means base-10) 010101001(2) = 1 + 8 + 32 + 128.\n",
    "Going from right to left, the value of the most right bit is 1, now from that every bit to the left will be x2 the value, value of an 8 bit binary numbers are (256, 128, 64, 32, 16, 8, 4, 2, 1).\n",
    "Examples\n",
    "binary(1) ➞ \"1\"\n",
    "`1*1 = 1`\n",
    "\n",
    "binary(5) ➞ \"101\"\n",
    "`1*1 + 1*4 = 5`\n",
    "\n",
    "binary(10) ➞ \"1010\"\n",
    "`1*2 + 1*8 = 10`\n",
    "\n",
    "\n",
    "\n",
    "\n"
   ]
  },
  {
   "cell_type": "code",
   "execution_count": 18,
   "id": "004e4dbc",
   "metadata": {},
   "outputs": [],
   "source": [
    "def dec2bin(input):\n",
    "    return bin(int(input))[2:]"
   ]
  },
  {
   "cell_type": "code",
   "execution_count": 19,
   "id": "781b341d",
   "metadata": {},
   "outputs": [
    {
     "data": {
      "text/plain": [
       "'1000'"
      ]
     },
     "execution_count": 19,
     "metadata": {},
     "output_type": "execute_result"
    }
   ],
   "source": [
    "dec2bin(8)"
   ]
  }
 ],
 "metadata": {
  "kernelspec": {
   "display_name": "Python 3 (ipykernel)",
   "language": "python",
   "name": "python3"
  },
  "language_info": {
   "codemirror_mode": {
    "name": "ipython",
    "version": 3
   },
   "file_extension": ".py",
   "mimetype": "text/x-python",
   "name": "python",
   "nbconvert_exporter": "python",
   "pygments_lexer": "ipython3",
   "version": "3.9.6"
  }
 },
 "nbformat": 4,
 "nbformat_minor": 5
}
