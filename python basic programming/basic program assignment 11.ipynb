{
 "cells": [
  {
   "cell_type": "markdown",
   "id": "f947d763",
   "metadata": {},
   "source": [
    "1. Write a Python program to find words which are greater than given length k?"
   ]
  },
  {
   "cell_type": "code",
   "execution_count": 7,
   "id": "37409829",
   "metadata": {},
   "outputs": [],
   "source": [
    "string = '''Because morality is a socially constructed process, no \n",
    "individual, standing alone, can ever be moral—or immoral. Furthermore, \n",
    "the idea of socially constructed morality is not nearly as \n",
    "vulnerable to the charge of moral relativism as is the Durkheimian tradition.'''\n",
    "\n"
   ]
  },
  {
   "cell_type": "code",
   "execution_count": 11,
   "id": "e069c10e",
   "metadata": {},
   "outputs": [
    {
     "name": "stdout",
     "output_type": "stream",
     "text": [
      "Enter the number:  7\n",
      "morality\tsocially\tconstructed\tprocess,\tindividual,\tstanding\tmoral—or\timmoral.\tFurthermore,\tsocially\tconstructed\tmorality\tvulnerable\trelativism\tDurkheimian\ttradition.\t"
     ]
    }
   ],
   "source": [
    "\n",
    "words = string.split()\n",
    "k = int(input(\"Enter the number:  \"))\n",
    "for i in words:\n",
    "    if (len(i)>k):\n",
    "        print(i,end = \"\\t\")"
   ]
  },
  {
   "cell_type": "markdown",
   "id": "8f9702a9",
   "metadata": {},
   "source": [
    "\n",
    "2. Write a Python program for removing i-th character from a string?"
   ]
  },
  {
   "cell_type": "code",
   "execution_count": 14,
   "id": "ef96ade2",
   "metadata": {},
   "outputs": [
    {
     "name": "stdout",
     "output_type": "stream",
     "text": [
      "Enter the value:  5\n",
      "relatvism\n"
     ]
    }
   ],
   "source": [
    "i = int((input(\"Enter the value:  \")))\n",
    "var = \"relativism\"\n",
    "a = var[:i]\n",
    "b = var[i+1:]\n",
    "print(a+b)"
   ]
  },
  {
   "cell_type": "markdown",
   "id": "6f422dc4",
   "metadata": {},
   "source": [
    "\n",
    "3. Write a Python program to split and join a string?"
   ]
  },
  {
   "cell_type": "code",
   "execution_count": 54,
   "id": "c291a70b",
   "metadata": {},
   "outputs": [],
   "source": [
    "def splitstr(n):\n",
    "    splitted = n.split(' ,')\n",
    "    return splitted\n",
    "\n",
    "\n",
    "def joined(n):\n",
    "    j = \"-\".join(n)\n",
    "    return j"
   ]
  },
  {
   "cell_type": "code",
   "execution_count": 55,
   "id": "a50fcdf6",
   "metadata": {},
   "outputs": [
    {
     "data": {
      "text/plain": [
       "[\"the cause or reason for which We know why you did it for which Here's the reason why I did it\"]"
      ]
     },
     "execution_count": 55,
     "metadata": {},
     "output_type": "execute_result"
    }
   ],
   "source": [
    "n = \"the cause or reason for which We know why you did it for which Here's the reason why I did it\"\n",
    "splitstr(n)\n"
   ]
  },
  {
   "cell_type": "code",
   "execution_count": 56,
   "id": "661252db",
   "metadata": {},
   "outputs": [
    {
     "data": {
      "text/plain": [
       "\"t-h-e- -c-a-u-s-e- -o-r- -r-e-a-s-o-n- -f-o-r- -w-h-i-c-h- -W-e- -k-n-o-w- -w-h-y- -y-o-u- -d-i-d- -i-t- -f-o-r- -w-h-i-c-h- -H-e-r-e-'-s- -t-h-e- -r-e-a-s-o-n- -w-h-y- -I- -d-i-d- -i-t\""
      ]
     },
     "execution_count": 56,
     "metadata": {},
     "output_type": "execute_result"
    }
   ],
   "source": [
    "joined(n)"
   ]
  },
  {
   "cell_type": "markdown",
   "id": "e5914fa1",
   "metadata": {},
   "source": [
    "\n",
    "4. Write a Python to check if a given string is binary string or not?"
   ]
  },
  {
   "cell_type": "code",
   "execution_count": 58,
   "id": "733452a3",
   "metadata": {},
   "outputs": [],
   "source": [
    "strings = \"01010101011010110101\"\n",
    "\n",
    "\n",
    "b = {\"0\",\"1\"}\n",
    "t = set(strings)\n",
    "def check(b,t):\n",
    "        if b==t or t == {\"0\"} or t=={\"1\"}:\n",
    "            print(f\"{strings} is binary.\")\n",
    "        else:\n",
    "            print(f\"{strings} is not a binary string.\")\n",
    "\n"
   ]
  },
  {
   "cell_type": "code",
   "execution_count": 59,
   "id": "0e0d6e9b",
   "metadata": {},
   "outputs": [
    {
     "name": "stdout",
     "output_type": "stream",
     "text": [
      "01010101011010110101 is binary.\n"
     ]
    }
   ],
   "source": [
    "check(b,t)"
   ]
  },
  {
   "cell_type": "markdown",
   "id": "232ed0b6",
   "metadata": {},
   "source": [
    "\n",
    "5. Write a Python program to find uncommon words from two Strings?\n"
   ]
  },
  {
   "cell_type": "code",
   "execution_count": 62,
   "id": "ee0943ca",
   "metadata": {},
   "outputs": [
    {
     "name": "stdout",
     "output_type": "stream",
     "text": [
      "['try', 'to']\n"
     ]
    }
   ],
   "source": [
    "def uncommon(s1, s2):\n",
    "    count = {}\n",
    "    for word in s1.split():\n",
    "        count[word] = count.get(word, 0) + 1\n",
    "    for word in s2.split():\n",
    "        count[word] = count.get(word, 0) + 1\n",
    "    return [word for word in count if count[word] == 1]\n",
    "\n",
    "s1=\"allthisrunningaround\"\n",
    "s2=\"try to allthisrunningaround\"\n",
    "\n",
    "print(uncommon(s1, s2))"
   ]
  },
  {
   "cell_type": "markdown",
   "id": "ec0d142a",
   "metadata": {},
   "source": [
    "\n",
    "6. Write a Python to find all duplicate characters in string?"
   ]
  },
  {
   "cell_type": "code",
   "execution_count": 64,
   "id": "ffe01101",
   "metadata": {},
   "outputs": [
    {
     "name": "stdout",
     "output_type": "stream",
     "text": [
      "Duplicate characters in a given string: \n",
      "s\n",
      "m\n",
      "e\n",
      "t\n",
      "i\n"
     ]
    }
   ],
   "source": [
    "string = \"sometimes its easy\";  \n",
    "   \n",
    "print(\"Duplicate characters in a given string: \");  \n",
    " \n",
    "for i in range(0, len(string)):  \n",
    "    count = 1  \n",
    "    for j in range(i+1, len(string)):  \n",
    "        if(string[i] == string[j] and string[i] != ' '):  \n",
    "            count = count + 1  \n",
    "            string = string[:j] + '0' + string[j+1:]  \n",
    " \n",
    "    if(count > 1 and string[i] != '0'):  \n",
    "        print(string[i])  "
   ]
  },
  {
   "cell_type": "markdown",
   "id": "270343cc",
   "metadata": {},
   "source": [
    "\n",
    "7. Write a Python Program to check if a string contains any special character?"
   ]
  },
  {
   "cell_type": "code",
   "execution_count": 70,
   "id": "096c280c",
   "metadata": {},
   "outputs": [
    {
     "name": "stdout",
     "output_type": "stream",
     "text": [
      "Hagel3\n",
      "string is accepted\n"
     ]
    }
   ],
   "source": [
    "import re\n",
    "\n",
    "def find(string):\n",
    "    special_char=re.compile('[@_!$%^&*()<>?/\\|}{~:]#')\n",
    "    \n",
    "    if special_char.search(string) == None:\n",
    "        return \"string is accepted\"\n",
    "    else:\n",
    "        return \"string not accpeted\"\n",
    "s =\"Hagel3\"\n",
    "print(s)\n",
    "print(find(s))"
   ]
  },
  {
   "cell_type": "code",
   "execution_count": null,
   "id": "8773df20",
   "metadata": {},
   "outputs": [],
   "source": []
  }
 ],
 "metadata": {
  "kernelspec": {
   "display_name": "Python 3 (ipykernel)",
   "language": "python",
   "name": "python3"
  },
  "language_info": {
   "codemirror_mode": {
    "name": "ipython",
    "version": 3
   },
   "file_extension": ".py",
   "mimetype": "text/x-python",
   "name": "python",
   "nbconvert_exporter": "python",
   "pygments_lexer": "ipython3",
   "version": "3.9.6"
  }
 },
 "nbformat": 4,
 "nbformat_minor": 5
}
