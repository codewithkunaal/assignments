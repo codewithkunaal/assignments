{
 "cells": [
  {
   "cell_type": "markdown",
   "id": "bed99bb5",
   "metadata": {},
   "source": [
    "1. Write a Python program to print &quot;Hello Python&quot;?\n"
   ]
  },
  {
   "cell_type": "code",
   "execution_count": 1,
   "id": "7c4611d5",
   "metadata": {},
   "outputs": [
    {
     "name": "stdout",
     "output_type": "stream",
     "text": [
      "Hello Python\n"
     ]
    }
   ],
   "source": [
    "print(\"Hello Python\")"
   ]
  },
  {
   "cell_type": "markdown",
   "id": "92a88e26",
   "metadata": {},
   "source": [
    "\n",
    "2. Write a Python program to do arithmetical operations addition and division.?"
   ]
  },
  {
   "cell_type": "code",
   "execution_count": 2,
   "id": "a95dbf2c",
   "metadata": {},
   "outputs": [
    {
     "name": "stdout",
     "output_type": "stream",
     "text": [
      "Enter any no :  2\n",
      "Enter the other no:  4\n",
      "6\n",
      "0.5\n"
     ]
    }
   ],
   "source": [
    "a = int(input(\"Enter any no :  \"))\n",
    "\n",
    "b = int(input(\"Enter the other no:  \"))\n",
    "\n",
    "add = a + b\n",
    "print(add)\n",
    "div = a/b\n",
    "print(div)"
   ]
  },
  {
   "cell_type": "markdown",
   "id": "7da4238b",
   "metadata": {},
   "source": [
    "\n",
    "3. Write a Python program to find the area of a triangle?"
   ]
  },
  {
   "cell_type": "code",
   "execution_count": 6,
   "id": "91fa7823",
   "metadata": {},
   "outputs": [
    {
     "name": "stdout",
     "output_type": "stream",
     "text": [
      "Enter the height of triangle : 44\n",
      "Enter the size of base :  77\n"
     ]
    },
    {
     "data": {
      "text/plain": [
       "' area of triangle is :1694.0'"
      ]
     },
     "execution_count": 6,
     "metadata": {},
     "output_type": "execute_result"
    }
   ],
   "source": [
    "h = float(input(\"Enter the height of triangle : \"))\n",
    "\n",
    "b = float(input(\"Enter the size of base :  \"))\n",
    "\n",
    "def area(b,h):\n",
    "    return f\" area of triangle is :{(b * h)/2 }\"\n",
    "\n",
    "\n",
    "area(b,h)"
   ]
  },
  {
   "cell_type": "markdown",
   "id": "98445e5a",
   "metadata": {},
   "source": [
    "\n",
    "4. Write a Python program to swap two variables?"
   ]
  },
  {
   "cell_type": "code",
   "execution_count": 10,
   "id": "7ad181b4",
   "metadata": {},
   "outputs": [
    {
     "name": "stdout",
     "output_type": "stream",
     "text": [
      "a : 3,\n",
      "b: 1\n",
      "new x is : 66,\n",
      "new y is : 55\n"
     ]
    }
   ],
   "source": [
    "a = 1\n",
    "b = 3\n",
    "\n",
    "a,b = b,a\n",
    "\n",
    "print(f\"a : {a},\\nb: {b}\")\n",
    "\n",
    "\n",
    "\n",
    "x = 55\n",
    "y = 66\n",
    "\n",
    "temp = x\n",
    "x = y\n",
    "y = temp\n",
    "\n",
    "print(f\"new x is : {x},\\nnew y is : {y}\")"
   ]
  },
  {
   "cell_type": "markdown",
   "id": "a4cf2367",
   "metadata": {},
   "source": [
    "\n",
    "5. Write a Python program to generate a random number?"
   ]
  },
  {
   "cell_type": "code",
   "execution_count": 15,
   "id": "dbaa635f",
   "metadata": {},
   "outputs": [
    {
     "data": {
      "text/plain": [
       "[1152]"
      ]
     },
     "execution_count": 15,
     "metadata": {},
     "output_type": "execute_result"
    }
   ],
   "source": [
    "import random\n",
    "\n",
    "r = random.sample(range(0,10000),1)\n",
    "r"
   ]
  },
  {
   "cell_type": "code",
   "execution_count": 17,
   "id": "d75a39da",
   "metadata": {},
   "outputs": [
    {
     "name": "stdout",
     "output_type": "stream",
     "text": [
      "0.5167088466140592\n"
     ]
    }
   ],
   "source": [
    "print(random.random())"
   ]
  },
  {
   "cell_type": "code",
   "execution_count": null,
   "id": "a5694ef0",
   "metadata": {},
   "outputs": [],
   "source": []
  }
 ],
 "metadata": {
  "kernelspec": {
   "display_name": "Python 3 (ipykernel)",
   "language": "python",
   "name": "python3"
  },
  "language_info": {
   "codemirror_mode": {
    "name": "ipython",
    "version": 3
   },
   "file_extension": ".py",
   "mimetype": "text/x-python",
   "name": "python",
   "nbconvert_exporter": "python",
   "pygments_lexer": "ipython3",
   "version": "3.9.6"
  }
 },
 "nbformat": 4,
 "nbformat_minor": 5
}
