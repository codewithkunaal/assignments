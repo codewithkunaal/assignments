{
 "cells": [
  {
   "cell_type": "markdown",
   "id": "42f2c407",
   "metadata": {},
   "source": [
    "assignment 14"
   ]
  },
  {
   "cell_type": "markdown",
   "id": "fb78f80e",
   "metadata": {},
   "source": []
  },
  {
   "cell_type": "markdown",
   "id": "c06559fc",
   "metadata": {},
   "source": [
    "assignment 15"
   ]
  },
  {
   "cell_type": "markdown",
   "id": "ca621af1",
   "metadata": {},
   "source": []
  },
  {
   "cell_type": "markdown",
   "id": "85e53de2",
   "metadata": {},
   "source": [
    "assignment 16"
   ]
  },
  {
   "cell_type": "markdown",
   "id": "cf656ee3",
   "metadata": {},
   "source": [
    "word file"
   ]
  },
  {
   "cell_type": "markdown",
   "id": "ee368ac4",
   "metadata": {},
   "source": [
    "assignment 17"
   ]
  },
  {
   "cell_type": "markdown",
   "id": "fc397a13",
   "metadata": {},
   "source": []
  },
  {
   "cell_type": "markdown",
   "id": "bda6a048",
   "metadata": {},
   "source": [
    "assignment 18"
   ]
  },
  {
   "cell_type": "markdown",
   "id": "37deb3b8",
   "metadata": {},
   "source": []
  },
  {
   "cell_type": "markdown",
   "id": "675777c6",
   "metadata": {},
   "source": [
    "assignment 19"
   ]
  },
  {
   "cell_type": "markdown",
   "id": "18538fbc",
   "metadata": {},
   "source": []
  },
  {
   "cell_type": "markdown",
   "id": "4383e7bf",
   "metadata": {},
   "source": [
    "assignment 20"
   ]
  },
  {
   "cell_type": "markdown",
   "id": "ee30380d",
   "metadata": {},
   "source": []
  },
  {
   "cell_type": "markdown",
   "id": "bf94e39d",
   "metadata": {},
   "source": [
    "assignment 21"
   ]
  },
  {
   "cell_type": "markdown",
   "id": "bf60fc78",
   "metadata": {},
   "source": []
  },
  {
   "cell_type": "markdown",
   "id": "6f642d89",
   "metadata": {},
   "source": [
    "assignment 22"
   ]
  },
  {
   "cell_type": "markdown",
   "id": "7126593e",
   "metadata": {},
   "source": []
  },
  {
   "cell_type": "markdown",
   "id": "832a66ed",
   "metadata": {},
   "source": [
    "assignment 23"
   ]
  },
  {
   "cell_type": "markdown",
   "id": "75acc96e",
   "metadata": {},
   "source": []
  },
  {
   "cell_type": "markdown",
   "id": "19365e0e",
   "metadata": {},
   "source": [
    "assignment 24"
   ]
  },
  {
   "cell_type": "markdown",
   "id": "cc288669",
   "metadata": {},
   "source": []
  },
  {
   "cell_type": "markdown",
   "id": "d7d53c55",
   "metadata": {},
   "source": [
    "assignment 25"
   ]
  },
  {
   "cell_type": "markdown",
   "id": "54defab7",
   "metadata": {},
   "source": []
  },
  {
   "cell_type": "code",
   "execution_count": null,
   "id": "cb53e437",
   "metadata": {},
   "outputs": [],
   "source": []
  }
 ],
 "metadata": {
  "kernelspec": {
   "display_name": "Python 3 (ipykernel)",
   "language": "python",
   "name": "python3"
  },
  "language_info": {
   "codemirror_mode": {
    "name": "ipython",
    "version": 3
   },
   "file_extension": ".py",
   "mimetype": "text/x-python",
   "name": "python",
   "nbconvert_exporter": "python",
   "pygments_lexer": "ipython3",
   "version": "3.9.6"
  }
 },
 "nbformat": 4,
 "nbformat_minor": 5
}
