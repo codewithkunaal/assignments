{
 "cells": [
  {
   "cell_type": "markdown",
   "id": "13512463",
   "metadata": {},
   "source": [
    "Question1                       \n",
    "Create a function that takes an integer and returns a list from 1 to the given number, where:                 \n",
    "1. If the number can be divided evenly by 4, amplify it by 10 (i.e. return 10 times the                                    \n",
    "number).       \n",
    "2. If the number cannot be divided evenly by 4, simply return the number.                                                                                \n",
    "Examples\n",
    "amplify(4) ➞ [1, 2, 3, 40]                                         \n",
    "amplify(3) ➞ [1, 2, 3]                       \n",
    "amplify(25) ➞ [1, 2, 3, 40, 5, 6, 7, 80, 9, 10, 11, 120, 13, 14, 15, 160,17, 18, 19, 200, 21, 22, 23, 240, 25]         \n",
    "Notes          \n",
    " The given integer will always be equal to or greater than 1.                            \n",
    " Include the number (see example above).                                                     \n",
    " To perform this problem with its intended purpose, try doing it with list\n",
    "comprehensions. If that&#39;s too difficult, just solve the challenge any way you can.                       \n"
   ]
  },
  {
   "cell_type": "code",
   "execution_count": 1,
   "id": "3ae136ab",
   "metadata": {},
   "outputs": [],
   "source": [
    "def whatTheFuck(n):\n",
    "    return [i*10 if i % 4 == 0 else i for i in range(1,n+1) ]"
   ]
  },
  {
   "cell_type": "code",
   "execution_count": 3,
   "id": "1395148e",
   "metadata": {},
   "outputs": [
    {
     "name": "stdout",
     "output_type": "stream",
     "text": [
      "[1, 2, 3, 40, 5, 6, 7, 80, 9, 10, 11, 120, 13, 14, 15, 160, 17, 18, 19, 200, 21, 22, 23, 240, 25]\n"
     ]
    }
   ],
   "source": [
    "print(whatTheFuck(25))"
   ]
  },
  {
   "cell_type": "markdown",
   "id": "c01be73c",
   "metadata": {},
   "source": [
    "\n",
    "Question2                            \n",
    "Create a function that takes a list of numbers and return the number that&#39;s unique.                                 \n",
    "Examples                      \n",
    "unique([3, 3, 3, 7, 3, 3]) ➞ 7                                      \n",
    "unique([0, 0, 0.77, 0, 0]) ➞ 0.77\n",
    "unique([0, 1, 1, 1, 1, 1, 1, 1]) ➞ 0                              \n",
    "Notes                        \n",
    "Test cases will always have exactly one unique number while all others are the same.                    \n"
   ]
  },
  {
   "cell_type": "code",
   "execution_count": 5,
   "id": "def20879",
   "metadata": {},
   "outputs": [],
   "source": [
    "def unique(lst):\n",
    "    s = list(set(lst))\n",
    "    for i in s:\n",
    "        if lst.count(i) == 1:\n",
    "            return i"
   ]
  },
  {
   "cell_type": "code",
   "execution_count": 6,
   "id": "0a340952",
   "metadata": {},
   "outputs": [
    {
     "data": {
      "text/plain": [
       "7"
      ]
     },
     "execution_count": 6,
     "metadata": {},
     "output_type": "execute_result"
    }
   ],
   "source": [
    "unique([3, 3, 3, 7, 3, 3]) "
   ]
  },
  {
   "cell_type": "markdown",
   "id": "d0bc543d",
   "metadata": {},
   "source": [
    "\n",
    "Question3                   \n",
    "Your task is to create a Circle constructor that creates a circle with a radius provided by an                 \n",
    "argument. The circles constructed must have two getters getArea() (PIr^2) and                    \n",
    "getPerimeter() (2PI*r) which give both respective areas and perimeter (circumference).                   \n",
    "                                  \n",
    "For help with this class, I have provided you with a Rectangle constructor which you can use              \n",
    "as a base example.                   \n",
    "Examples                              \n",
    "circy = Circle(11)\n",
    "circy.getArea()                       \n",
    "Should return 380.132711084365    \n",
    "circy = Circle(4.44)                              \n",
    "circy.getPerimeter()                                  \n",
    "Should return 27.897342763877365                \n",
    "Notes                                    \n",
    "Round results up to the nearest integer.           \n"
   ]
  },
  {
   "cell_type": "code",
   "execution_count": 7,
   "id": "523a604c",
   "metadata": {},
   "outputs": [],
   "source": [
    "class clown:\n",
    "    def __init__(self,r):\n",
    "        self.r = r\n",
    "    def getArea(self):\n",
    "        return round((self.r**2)*3.14)\n",
    "    def getPerimeter(self):\n",
    "        return round((2*self.r)*3.14)"
   ]
  },
  {
   "cell_type": "code",
   "execution_count": 11,
   "id": "fa56e893",
   "metadata": {},
   "outputs": [
    {
     "name": "stdout",
     "output_type": "stream",
     "text": [
      "380\n",
      "62\n",
      "28\n"
     ]
    }
   ],
   "source": [
    "a = clown(4.44)\n",
    "b = clown(11)\n",
    "print(b.getArea())\n",
    "print(a.getArea()),\n",
    "print(a.getPerimeter())"
   ]
  },
  {
   "cell_type": "markdown",
   "id": "41376676",
   "metadata": {},
   "source": [
    "\n",
    "Question4\n",
    "Create a function that takes a list of strings and return a list, sorted from shortest to longest.                     \n",
    "Examples                                \n",
    "sort_by_length([&quot;Google&quot;, &quot;Apple&quot;, &quot;Microsoft&quot;])                                    \n",
    "➞ [&quot;Apple&quot;, &quot;Google&quot;, &quot;Microsoft&quot;]                      \n",
    "sort_by_length([&quot;Leonardo&quot;, &quot;Michelangelo&quot;, &quot;Raphael&quot;, &quot;Donatello&quot;])                                                   \n",
    "➞ [&quot;Raphael&quot;, &quot;Leonardo&quot;, &quot;Donatello&quot;, &quot;Michelangelo&quot;]   \n",
    "sort_by_length([&quot;Turing&quot;, &quot;Einstein&quot;, &quot;Jung&quot;])                 \n",
    "➞ [&quot;Jung&quot;, &quot;Turing&quot;, &quot;Einstein&quot;]                                \n",
    "Notes                   \n",
    "All test cases contain lists with strings of different lengths, so you won&#39;t have to deal with                      \n",
    "multiple strings of the same length.         \n",
    "                         "
   ]
  },
  {
   "cell_type": "code",
   "execution_count": 12,
   "id": "8d8f8a16",
   "metadata": {},
   "outputs": [],
   "source": [
    "def why(lst):\n",
    "    return sorted(lst, key = len)\n",
    "        "
   ]
  },
  {
   "cell_type": "code",
   "execution_count": 13,
   "id": "1108b185",
   "metadata": {},
   "outputs": [
    {
     "data": {
      "text/plain": [
       "['Raphael', 'Leonardo', 'Donatello', 'Michelangelo']"
      ]
     },
     "execution_count": 13,
     "metadata": {},
     "output_type": "execute_result"
    }
   ],
   "source": [
    "why([\"Raphael\", \"Leonardo\", \"Donatello\", \"Michelangelo\"])"
   ]
  },
  {
   "cell_type": "markdown",
   "id": "3db8802c",
   "metadata": {},
   "source": [
    "\n",
    "Question5                 \n",
    "Create a function that validates whether three given integers form a Pythagorean triplet. The                       \n",
    "sum of the squares of the two smallest integers must equal the square of the largest number to                   \n",
    "be validated.\n",
    "                           \n",
    "Examples\n",
    "is_triplet(3, 4, 5) ➞ True                   \n",
    " 3² + 4² = 25                   \n",
    " 5² = 25                     \n",
    "is_triplet(13, 5, 12) ➞ True                    \n",
    "5² + 12² = 169                    \n",
    "13² = 169                 \n",
    "is_triplet(1, 2, 3) ➞ False                       \n",
    "1² + 2² = 5                    \n",
    "3² = 9                                                                    \n",
    "Notes                  \n",
    "Numbers may not be given in a sorted order.                  "
   ]
  },
  {
   "cell_type": "code",
   "execution_count": 16,
   "id": "fdff7fe0",
   "metadata": {},
   "outputs": [],
   "source": [
    "def pytho(a,b,c):\n",
    "    lst = []\n",
    "    lst.extend((a,b,c))\n",
    "    lst = sorted(lst)\n",
    "    return True if (lst[0]**2 + lst[1]**2) == lst[2]**2 else False"
   ]
  },
  {
   "cell_type": "code",
   "execution_count": 17,
   "id": "24f65854",
   "metadata": {},
   "outputs": [
    {
     "data": {
      "text/plain": [
       "True"
      ]
     },
     "execution_count": 17,
     "metadata": {},
     "output_type": "execute_result"
    }
   ],
   "source": [
    "pytho(3,4,5)"
   ]
  },
  {
   "cell_type": "code",
   "execution_count": null,
   "id": "61669518",
   "metadata": {},
   "outputs": [],
   "source": []
  }
 ],
 "metadata": {
  "kernelspec": {
   "display_name": "Python 3 (ipykernel)",
   "language": "python",
   "name": "python3"
  },
  "language_info": {
   "codemirror_mode": {
    "name": "ipython",
    "version": 3
   },
   "file_extension": ".py",
   "mimetype": "text/x-python",
   "name": "python",
   "nbconvert_exporter": "python",
   "pygments_lexer": "ipython3",
   "version": "3.9.6"
  }
 },
 "nbformat": 4,
 "nbformat_minor": 5
}
