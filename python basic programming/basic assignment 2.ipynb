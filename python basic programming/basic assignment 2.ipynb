{
 "cells": [
  {
   "cell_type": "markdown",
   "id": "1f983bdf",
   "metadata": {},
   "source": [
    "1. Write a Python program to convert kilometers to miles?"
   ]
  },
  {
   "cell_type": "code",
   "execution_count": 9,
   "id": "f74fa9a1",
   "metadata": {},
   "outputs": [
    {
     "name": "stdout",
     "output_type": "stream",
     "text": [
      "Enter the kilometers : 111.045\n"
     ]
    },
    {
     "data": {
      "text/plain": [
       "'miles after conversion are :  69 nice.'"
      ]
     },
     "execution_count": 9,
     "metadata": {},
     "output_type": "execute_result"
    }
   ],
   "source": [
    "def kimil(k):\n",
    "    return f\"miles after conversion are :  {round(k*0.62137119) } nice.\"\n",
    "\n",
    "\n",
    "k = float(input(\"Enter the kilometers : \"))\n",
    "kimil(k)"
   ]
  },
  {
   "cell_type": "markdown",
   "id": "27a28eaa",
   "metadata": {},
   "source": [
    "\n",
    "2. Write a Python program to convert Celsius to Fahrenheit?"
   ]
  },
  {
   "cell_type": "code",
   "execution_count": 12,
   "id": "f59691f3",
   "metadata": {},
   "outputs": [
    {
     "name": "stdout",
     "output_type": "stream",
     "text": [
      "Enter the number in celcius  :20.5556\n"
     ]
    },
    {
     "data": {
      "text/plain": [
       "'after conversion its : 69.00008 fahrenheits.'"
      ]
     },
     "execution_count": 12,
     "metadata": {},
     "output_type": "execute_result"
    }
   ],
   "source": [
    "def celah(c):\n",
    "    return f\"after conversion its : {(c * 9/5) + 32 } fahrenheits.\"\n",
    "\n",
    "\n",
    "c = float(input(\"Enter the number in celcius  :\"))\n",
    "celah(c)"
   ]
  },
  {
   "cell_type": "markdown",
   "id": "08aa425f",
   "metadata": {},
   "source": [
    "3. Write a Python program to display calendar?"
   ]
  },
  {
   "cell_type": "code",
   "execution_count": 22,
   "id": "16675921",
   "metadata": {},
   "outputs": [
    {
     "name": "stdout",
     "output_type": "stream",
     "text": [
      "                                  2022\n",
      "\n",
      "      January                   February                   March\n",
      "Mo Tu We Th Fr Sa Su      Mo Tu We Th Fr Sa Su      Mo Tu We Th Fr Sa Su\n",
      "                1  2          1  2  3  4  5  6          1  2  3  4  5  6\n",
      " 3  4  5  6  7  8  9       7  8  9 10 11 12 13       7  8  9 10 11 12 13\n",
      "10 11 12 13 14 15 16      14 15 16 17 18 19 20      14 15 16 17 18 19 20\n",
      "17 18 19 20 21 22 23      21 22 23 24 25 26 27      21 22 23 24 25 26 27\n",
      "24 25 26 27 28 29 30      28                        28 29 30 31\n",
      "31\n",
      "\n",
      "       April                      May                       June\n",
      "Mo Tu We Th Fr Sa Su      Mo Tu We Th Fr Sa Su      Mo Tu We Th Fr Sa Su\n",
      "             1  2  3                         1             1  2  3  4  5\n",
      " 4  5  6  7  8  9 10       2  3  4  5  6  7  8       6  7  8  9 10 11 12\n",
      "11 12 13 14 15 16 17       9 10 11 12 13 14 15      13 14 15 16 17 18 19\n",
      "18 19 20 21 22 23 24      16 17 18 19 20 21 22      20 21 22 23 24 25 26\n",
      "25 26 27 28 29 30         23 24 25 26 27 28 29      27 28 29 30\n",
      "                          30 31\n",
      "\n",
      "        July                     August                  September\n",
      "Mo Tu We Th Fr Sa Su      Mo Tu We Th Fr Sa Su      Mo Tu We Th Fr Sa Su\n",
      "             1  2  3       1  2  3  4  5  6  7                1  2  3  4\n",
      " 4  5  6  7  8  9 10       8  9 10 11 12 13 14       5  6  7  8  9 10 11\n",
      "11 12 13 14 15 16 17      15 16 17 18 19 20 21      12 13 14 15 16 17 18\n",
      "18 19 20 21 22 23 24      22 23 24 25 26 27 28      19 20 21 22 23 24 25\n",
      "25 26 27 28 29 30 31      29 30 31                  26 27 28 29 30\n",
      "\n",
      "      October                   November                  December\n",
      "Mo Tu We Th Fr Sa Su      Mo Tu We Th Fr Sa Su      Mo Tu We Th Fr Sa Su\n",
      "                1  2          1  2  3  4  5  6                1  2  3  4\n",
      " 3  4  5  6  7  8  9       7  8  9 10 11 12 13       5  6  7  8  9 10 11\n",
      "10 11 12 13 14 15 16      14 15 16 17 18 19 20      12 13 14 15 16 17 18\n",
      "17 18 19 20 21 22 23      21 22 23 24 25 26 27      19 20 21 22 23 24 25\n",
      "24 25 26 27 28 29 30      28 29 30                  26 27 28 29 30 31\n",
      "31\n",
      "\n"
     ]
    }
   ],
   "source": [
    "import calendar\n",
    "\n",
    "\n",
    "\n",
    "yy = 2022\n",
    "# mm = 8\n",
    "\n",
    "print(calendar.calendar(yy))"
   ]
  },
  {
   "cell_type": "markdown",
   "id": "39925311",
   "metadata": {},
   "source": [
    "\n",
    "\n",
    "4. Write a Python program to solve quadratic equation?"
   ]
  },
  {
   "cell_type": "markdown",
   "id": "f8554827",
   "metadata": {},
   "source": [
    "ax2 + bx + c = 0, where\n",
    "a, b and c are real numbers and\n",
    "a ≠ 0\n",
    "The solutions of this quadratic equation is given by:\n",
    "\n",
    "(-b ± (b ** 2 - 4 * a * c) ** 0.5) / (2 * a)"
   ]
  },
  {
   "cell_type": "code",
   "execution_count": 25,
   "id": "37c51f3e",
   "metadata": {},
   "outputs": [
    {
     "name": "stdout",
     "output_type": "stream",
     "text": [
      "Enter the num1 :  1\n",
      "Enter the num2 :  2\n",
      "Enter the num3 :  3\n",
      "(-0.9999999999999999+1.4142135623730951j) (-1-1.4142135623730951j)\n"
     ]
    }
   ],
   "source": [
    "a = float(input(\"Enter the num1 :  \"))\n",
    "b = float(input(\"Enter the num2 :  \"))\n",
    "c = float(input(\"Enter the num3 :  \"))\n",
    "sol1 = (-b + (b**2 - 4*a*c)**0.5)/ (2*a)\n",
    "sol2 = (-b - (b**2 - 4*a*c)**0.5)/ (2*a)\n",
    "print(sol1,sol2)"
   ]
  },
  {
   "cell_type": "code",
   "execution_count": null,
   "id": "46c2cf27",
   "metadata": {},
   "outputs": [],
   "source": []
  },
  {
   "cell_type": "markdown",
   "id": "33517218",
   "metadata": {},
   "source": [
    "\n",
    "5. Write a Python program to swap two variables without temp variable?"
   ]
  },
  {
   "cell_type": "code",
   "execution_count": 34,
   "id": "c1970fc5",
   "metadata": {},
   "outputs": [
    {
     "name": "stdout",
     "output_type": "stream",
     "text": [
      "this is before swap a : 55,\tb  : 77\n",
      "this is after swap a : 77, \t b: 55\n"
     ]
    }
   ],
   "source": [
    "a = 55\n",
    "b = 77\n",
    "print(f\"this is before swap a : {a},\\tb  : {b}\")\n",
    "a, b = b,a\n",
    "print(f\"this is after swap a : {a}, \\t b: {b}\")"
   ]
  },
  {
   "cell_type": "code",
   "execution_count": null,
   "id": "edadfb97",
   "metadata": {},
   "outputs": [],
   "source": []
  }
 ],
 "metadata": {
  "kernelspec": {
   "display_name": "Python 3 (ipykernel)",
   "language": "python",
   "name": "python3"
  },
  "language_info": {
   "codemirror_mode": {
    "name": "ipython",
    "version": 3
   },
   "file_extension": ".py",
   "mimetype": "text/x-python",
   "name": "python",
   "nbconvert_exporter": "python",
   "pygments_lexer": "ipython3",
   "version": "3.9.6"
  }
 },
 "nbformat": 4,
 "nbformat_minor": 5
}
