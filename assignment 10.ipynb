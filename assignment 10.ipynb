{
 "cells": [
  {
   "cell_type": "markdown",
   "id": "dba56f07",
   "metadata": {},
   "source": [
    "1.How do you distinguish between shutil.copy() and shutil.copytree()?                                                    \n",
    "2.What function is used to rename files??                                                                       \n",
    "3.What is the difference between the delete functions in the send2trash and shutil modules?                                                      \n",
    "4.ZipFile objects have a close() method just like File objects’ close() method. What ZipFile method is\n",
    "equivalent to File objects’ open() method?                                                    \n",
    "5.Create a programme that searches a folder tree for files with a certain file extension (such as .pdf\n",
    "or .jpg). Copy these files from whatever location they are in to a new folder.                                               "
   ]
  },
  {
   "cell_type": "markdown",
   "id": "958e3f7a",
   "metadata": {},
   "source": [
    "1.ans = The shutil.copy() function will copy a single file, while shutil.copytree() will copy an entire folder, \n",
    "along with all its contents. \n",
    "\n",
    "\n",
    "\n",
    "2.os.rename() function is used to rename files or directories using a python program, It takes two arguments \"src\" and \"dest\", src represents the source of file which we want to rename, whereas dest represents the new name of the file also The shutil.move() function is used for renaming files, as well as moving them.                                                     \n",
    "\n",
    "\n",
    "\n",
    "\n",
    "3.The send2trash functions will move a file or folder to the recycle bin, while shutil functions will permanently delete files and folders.shutil.rmtree() module deletes a directory and all its contents. The other functions with similar functionality are os.remove() -> removes a file, os.rmdir() removes a empty directory.                                                           \n",
    "\n",
    "\n",
    "\n",
    "\n",
    "4.The zipfile.ZipFile() function is equivalent to the open() function; the first argument is the filename, and the second argument is the mode to open the ZIP file in (read, write, or append).\n",
    "\n"
   ]
  },
  {
   "cell_type": "code",
   "execution_count": 1,
   "id": "ba156dc0",
   "metadata": {},
   "outputs": [],
   "source": [
    "import os\n",
    "import shutil\n",
    "def file_handle(src,dest, ext):\n",
    "    src = os.path.abspath(src)\n",
    "    dest = os.path.abspath(dest)\n",
    "    for foldername, subfolder, filenames in os.walk(src):\n",
    "        print(f\"Folder Name = {foldername}\",end='\\n\\n')\n",
    "        print(f\"Sub Folders = {subfolder}\",end='\\n\\n')\n",
    "        print(f\"Files = {filenames}\",end='\\n\\n')\n",
    "        for i in filenames:\n",
    "            i,ext = os.path.splitext(i)\n",
    "            if ext in ext:\n",
    "                targetFile = foldername+os.path.sep+i+ext\n",
    "                shutil.copy(targetFile, dest)\n",
    "        print(f\"Files copied successfully from {src} to {dest}\")"
   ]
  },
  {
   "cell_type": "code",
   "execution_count": 3,
   "id": "4298eba8",
   "metadata": {},
   "outputs": [],
   "source": [
    "ext = [\".pdf\",\".jpg\",\".py\"]\n",
    "src = \"python_files\"\n",
    "dest = 'practice_problems'\n",
    "file_handle(src,dest,ext)"
   ]
  },
  {
   "cell_type": "code",
   "execution_count": 13,
   "id": "7ab41224",
   "metadata": {},
   "outputs": [],
   "source": [
    "from IPython import display\n",
    "# display.Image(\"./fdf.png\")"
   ]
  },
  {
   "cell_type": "code",
   "execution_count": 12,
   "id": "7d02bbe9",
   "metadata": {},
   "outputs": [],
   "source": [
    "#output\n",
    "# display.Image(\"./df.png\")"
   ]
  },
  {
   "cell_type": "code",
   "execution_count": null,
   "id": "bedfffaf",
   "metadata": {},
   "outputs": [],
   "source": []
  }
 ],
 "metadata": {
  "kernelspec": {
   "display_name": "Python 3 (ipykernel)",
   "language": "python",
   "name": "python3"
  },
  "language_info": {
   "codemirror_mode": {
    "name": "ipython",
    "version": 3
   },
   "file_extension": ".py",
   "mimetype": "text/x-python",
   "name": "python",
   "nbconvert_exporter": "python",
   "pygments_lexer": "ipython3",
   "version": "3.9.6"
  }
 },
 "nbformat": 4,
 "nbformat_minor": 5
}
