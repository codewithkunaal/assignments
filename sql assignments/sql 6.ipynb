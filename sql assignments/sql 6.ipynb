{
 "cells": [
  {
   "cell_type": "markdown",
   "id": "99458523",
   "metadata": {},
   "source": [
    "#### Q-1. Write an SQL query to print details of the Workers who have joined in Feb’2014.\n"
   ]
  },
  {
   "cell_type": "markdown",
   "id": "14c818ba",
   "metadata": {},
   "source": [
    "select *\n",
    "from worker \n",
    "where date like \"%2014-02%\"\n"
   ]
  },
  {
   "cell_type": "markdown",
   "id": "6aff6fcd",
   "metadata": {},
   "source": [
    "#### Q-2. Write an SQL query to fetch duplicate records having matching data in some fields of a table."
   ]
  },
  {
   "cell_type": "markdown",
   "id": "5f78f387",
   "metadata": {},
   "source": [
    "SELECT column \n",
    "COUNT(column)\n",
    "FROM worker\n",
    "GROUP BY field_to_check\n",
    "HAVING COUNT(column) > 1;\n",
    "\n"
   ]
  },
  {
   "cell_type": "markdown",
   "id": "36af4788",
   "metadata": {},
   "source": [
    "\n",
    "#### Q-3. How to remove duplicate rows from Employees table."
   ]
  },
  {
   "cell_type": "markdown",
   "id": "7827fdbd",
   "metadata": {},
   "source": [
    "DELETE e1 FROM employee e1\n",
    "INNERJOIN column_name2 c2\n",
    "WHERE e1.id > c2.id AND\n",
    "      e1.field=c2.field;      "
   ]
  },
  {
   "cell_type": "markdown",
   "id": "ae84e283",
   "metadata": {},
   "source": []
  },
  {
   "cell_type": "code",
   "execution_count": null,
   "id": "02baf8d0",
   "metadata": {},
   "outputs": [],
   "source": [
    " "
   ]
  }
 ],
 "metadata": {
  "kernelspec": {
   "display_name": "Python 3 (ipykernel)",
   "language": "python",
   "name": "python3"
  },
  "language_info": {
   "codemirror_mode": {
    "name": "ipython",
    "version": 3
   },
   "file_extension": ".py",
   "mimetype": "text/x-python",
   "name": "python",
   "nbconvert_exporter": "python",
   "pygments_lexer": "ipython3",
   "version": "3.9.6"
  }
 },
 "nbformat": 4,
 "nbformat_minor": 5
}
