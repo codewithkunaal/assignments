{
 "cells": [
  {
   "cell_type": "markdown",
   "id": "dcc1b45b",
   "metadata": {},
   "source": [
    "##### Q-1. Write an SQL query to print the FIRST_NAME from Worker table after replacing ‘a’ with ‘A’."
   ]
  },
  {
   "cell_type": "markdown",
   "id": "98c70dca",
   "metadata": {},
   "source": [
    "SELECT replace(First_name,\"a\",\"A\")\n",
    "from worker"
   ]
  },
  {
   "cell_type": "markdown",
   "id": "2a75369a",
   "metadata": {},
   "source": [
    "#### Q-2. Write an SQL query to print all Worker details from the Worker table order by FIRST_NAME Ascending and DEPARTMENT Descending."
   ]
  },
  {
   "cell_type": "markdown",
   "id": "e9dabc08",
   "metadata": {},
   "source": [
    "SELECT *\n",
    "from worker w\n",
    "order by first_name asc\n",
    "department desc;\n",
    "\n",
    "\n"
   ]
  },
  {
   "cell_type": "markdown",
   "id": "7dfde914",
   "metadata": {},
   "source": [
    "#### Q-3. Write an SQL query to fetch the names of workers who earn the highest salary."
   ]
  },
  {
   "cell_type": "markdown",
   "id": "59d8c5e4",
   "metadata": {},
   "source": [
    "SELECT first_name\n",
    "FROM worker\n",
    "WHERE salary = (SELECT MAX(SALARY) FROM Worker);"
   ]
  },
  {
   "cell_type": "code",
   "execution_count": null,
   "id": "308788ce",
   "metadata": {},
   "outputs": [],
   "source": []
  }
 ],
 "metadata": {
  "kernelspec": {
   "display_name": "Python 3 (ipykernel)",
   "language": "python",
   "name": "python3"
  },
  "language_info": {
   "codemirror_mode": {
    "name": "ipython",
    "version": 3
   },
   "file_extension": ".py",
   "mimetype": "text/x-python",
   "name": "python",
   "nbconvert_exporter": "python",
   "pygments_lexer": "ipython3",
   "version": "3.9.6"
  }
 },
 "nbformat": 4,
 "nbformat_minor": 5
}
