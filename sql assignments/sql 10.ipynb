{
 "cells": [
  {
   "cell_type": "markdown",
   "id": "a48b787c",
   "metadata": {},
   "source": [
    "#### Q-19. Write an SQL query to determine the 5th highest salary without using TOP or limit method."
   ]
  },
  {
   "cell_type": "markdown",
   "id": "8f85d4ba",
   "metadata": {},
   "source": [
    "SELECT * \n",
    "FROM (\n",
    "        SELECT ROW_NUMBER()\n",
    "        OVER (ORDER BY salary DESC) AS RN,\n",
    "        first_name, salary FROM employee) as HR WHERE RN=5;\n",
    "        \n",
    "        \n",
    "       "
   ]
  },
  {
   "cell_type": "markdown",
   "id": "13cbd102",
   "metadata": {},
   "source": [
    "\n",
    "#### Q-20. Write an SQL query to fetch the list of employees with the same salary."
   ]
  },
  {
   "cell_type": "markdown",
   "id": "d0b70bac",
   "metadata": {},
   "source": [
    "##### joining table with itself by salary and not with the name will give same salaries\n",
    "\n",
    "SELECT e1.Name, e1.Salary\n",
    "FROM employee e1\n",
    "INNER JOIN employee e2 ON e1.Salary = e2.Salary AND s1.Name <> s2.Name"
   ]
  },
  {
   "cell_type": "markdown",
   "id": "6f255515",
   "metadata": {},
   "source": [
    "###### or we can use group by method to  join same salaries\n",
    "\n",
    "\n",
    "SELECT Name\n",
    "FROM employees\n",
    "WHERE Salary IN (\n",
    "    SELECT Salary\n",
    "    FROM employees\n",
    "    GROUP BY Salary\n",
    "    HAVING COUNT(*) > 1\n",
    ")"
   ]
  },
  {
   "cell_type": "code",
   "execution_count": null,
   "id": "07d369ac",
   "metadata": {},
   "outputs": [],
   "source": []
  }
 ],
 "metadata": {
  "kernelspec": {
   "display_name": "Python 3 (ipykernel)",
   "language": "python",
   "name": "python3"
  },
  "language_info": {
   "codemirror_mode": {
    "name": "ipython",
    "version": 3
   },
   "file_extension": ".py",
   "mimetype": "text/x-python",
   "name": "python",
   "nbconvert_exporter": "python",
   "pygments_lexer": "ipython3",
   "version": "3.9.6"
  }
 },
 "nbformat": 4,
 "nbformat_minor": 5
}
