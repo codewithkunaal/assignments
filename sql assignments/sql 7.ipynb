{
 "cells": [
  {
   "cell_type": "markdown",
   "id": "a11a3c0c",
   "metadata": {},
   "source": [
    "#### Q-13. Write an SQL query to show only odd rows from a table."
   ]
  },
  {
   "cell_type": "markdown",
   "id": "2cdf7d6d",
   "metadata": {},
   "source": [
    "SELECT * \n",
    "FROM Worker\n",
    "WHERE MOD(worker_id,2) = 1\n",
    "\n",
    "\n",
    "OR \n",
    "\n",
    "SELECT *\n",
    "FROM WORKER\n",
    "where id%2 = 1\n"
   ]
  },
  {
   "cell_type": "markdown",
   "id": "22702d62",
   "metadata": {},
   "source": [
    "\n",
    "#### Q-14. Write an SQL query to clone a new table from another table."
   ]
  },
  {
   "cell_type": "markdown",
   "id": "b40a6530",
   "metadata": {},
   "source": [
    "CREATE TABLE new_table SELECT * FROM original_table;\n"
   ]
  },
  {
   "cell_type": "markdown",
   "id": "a5565127",
   "metadata": {},
   "source": [
    "`CREATE TABLE emp (\n",
    "    ID int,\n",
    "    LastName varchar(255),\n",
    "    FirstName varchar(255),\n",
    "    Address varchar(255),\n",
    "    City varchar(255)\n",
    ");`\n",
    "\n",
    "\n",
    "\n",
    "\n",
    "CREATE TABLE new_emp             \n",
    "SELECT *                          \n",
    "FROM emp"
   ]
  },
  {
   "cell_type": "code",
   "execution_count": null,
   "id": "2e2429c0",
   "metadata": {},
   "outputs": [],
   "source": []
  }
 ],
 "metadata": {
  "kernelspec": {
   "display_name": "Python 3 (ipykernel)",
   "language": "python",
   "name": "python3"
  },
  "language_info": {
   "codemirror_mode": {
    "name": "ipython",
    "version": 3
   },
   "file_extension": ".py",
   "mimetype": "text/x-python",
   "name": "python",
   "nbconvert_exporter": "python",
   "pygments_lexer": "ipython3",
   "version": "3.9.6"
  }
 },
 "nbformat": 4,
 "nbformat_minor": 5
}
