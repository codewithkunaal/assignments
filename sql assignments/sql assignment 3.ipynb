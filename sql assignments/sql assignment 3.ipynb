{
 "cells": [
  {
   "cell_type": "markdown",
   "id": "7d7f39e2",
   "metadata": {},
   "source": [
    "##### Q-1. Write an SQL query to print the FIRST_NAME from Worker table after removing white spaces from the right side."
   ]
  },
  {
   "cell_type": "markdown",
   "id": "7b468462",
   "metadata": {},
   "source": [
    "SELECT RTRIM(first_name) \n",
    "FROM worker;"
   ]
  },
  {
   "cell_type": "markdown",
   "id": "1ab90879",
   "metadata": {},
   "source": [
    "#### Q-2. Write an SQL query that fetches the unique values of DEPARTMENT from Worker table and prints its length."
   ]
  },
  {
   "cell_type": "markdown",
   "id": "65b3c491",
   "metadata": {},
   "source": [
    "SELECT DISTINCT(DEPARTMENT),\n",
    "LEN(DEPARTMENT)\n",
    "FROM Worker;"
   ]
  },
  {
   "cell_type": "markdown",
   "id": "9c5cdad3",
   "metadata": {},
   "source": [
    "##### Q-3. Write an SQL query to fetch nth max salaries from a table."
   ]
  },
  {
   "cell_type": "markdown",
   "id": "00d4c862",
   "metadata": {},
   "source": [
    "SELECT DISTINCT(Salary) FROM Worker ORDER BY Salary DESC LIMIT 1 OFFSET n;"
   ]
  },
  {
   "cell_type": "code",
   "execution_count": null,
   "id": "5f718574",
   "metadata": {},
   "outputs": [],
   "source": []
  },
  {
   "cell_type": "code",
   "execution_count": null,
   "id": "a6ec13b1",
   "metadata": {},
   "outputs": [],
   "source": []
  }
 ],
 "metadata": {
  "kernelspec": {
   "display_name": "Python 3 (ipykernel)",
   "language": "python",
   "name": "python3"
  },
  "language_info": {
   "codemirror_mode": {
    "name": "ipython",
    "version": 3
   },
   "file_extension": ".py",
   "mimetype": "text/x-python",
   "name": "python",
   "nbconvert_exporter": "python",
   "pygments_lexer": "ipython3",
   "version": "3.9.6"
  }
 },
 "nbformat": 4,
 "nbformat_minor": 5
}
