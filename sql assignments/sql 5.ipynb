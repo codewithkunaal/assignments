{
 "cells": [
  {
   "cell_type": "markdown",
   "id": "8d24dc40",
   "metadata": {},
   "source": [
    "#### Q-1. Write an SQL query to print details of workers excluding first names, “Vipul” and “Satish” from Worker table."
   ]
  },
  {
   "cell_type": "markdown",
   "id": "8a13138f",
   "metadata": {},
   "source": [
    "select first_name\n",
    "from worker\n",
    "where first_name not in (\"vipul\",\"satish\")"
   ]
  },
  {
   "cell_type": "markdown",
   "id": "fbf25fbe",
   "metadata": {},
   "source": [
    "\n",
    "#### Q-2. Write an SQL query to print details of the Workers whose FIRST_NAME ends with ‘h’ and contains six alphabets."
   ]
  },
  {
   "cell_type": "markdown",
   "id": "d0299649",
   "metadata": {},
   "source": [
    "select *\n",
    "from worker \n",
    "where first_name like (\"_____h\")"
   ]
  },
  {
   "cell_type": "markdown",
   "id": "a8963a7c",
   "metadata": {},
   "source": [
    "\n",
    "#### Q-3. Write a query to validate Email of Employee."
   ]
  },
  {
   "cell_type": "markdown",
   "id": "0f3784e9",
   "metadata": {},
   "source": [
    "select *\n",
    "from worker\n",
    "where email like `\"_%@_%._%\"`"
   ]
  },
  {
   "cell_type": "markdown",
   "id": "c5d9deae",
   "metadata": {},
   "source": []
  }
 ],
 "metadata": {
  "kernelspec": {
   "display_name": "Python 3 (ipykernel)",
   "language": "python",
   "name": "python3"
  },
  "language_info": {
   "codemirror_mode": {
    "name": "ipython",
    "version": 3
   },
   "file_extension": ".py",
   "mimetype": "text/x-python",
   "name": "python",
   "nbconvert_exporter": "python",
   "pygments_lexer": "ipython3",
   "version": "3.9.6"
  }
 },
 "nbformat": 4,
 "nbformat_minor": 5
}
