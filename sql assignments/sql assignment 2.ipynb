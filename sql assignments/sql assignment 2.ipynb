{
 "cells": [
  {
   "cell_type": "markdown",
   "id": "aa558d3b",
   "metadata": {},
   "source": [
    "#### Q-1. Write an SQL query to print the first three characters of  FIRST_NAME from Worker table."
   ]
  },
  {
   "cell_type": "markdown",
   "id": "c40f0568",
   "metadata": {},
   "source": [
    "SELECT SUBSTRING(first_name,1,3)\n",
    "FROM worker;"
   ]
  },
  {
   "cell_type": "markdown",
   "id": "acf39c4f",
   "metadata": {},
   "source": [
    "#####  Q-2. Write an SQL query to find the position of the alphabet (‘a’) in the first name column ‘Amitabh’ from Worker table."
   ]
  },
  {
   "cell_type": "markdown",
   "id": "efcbd40b",
   "metadata": {},
   "source": [
    "SELECT LOCATE('a',FIRST_NAME) FROM Worker WHERE FIRST_NAME = \"Amitabh\";"
   ]
  },
  {
   "cell_type": "markdown",
   "id": "2efa0808",
   "metadata": {},
   "source": [
    "#### 3. Write an SQL query to print the name of employees having the highest salary in each department."
   ]
  },
  {
   "cell_type": "markdown",
   "id": "05b2dd98",
   "metadata": {},
   "source": [
    "SELECT first_name, salary, department\n",
    "FROM worker \n",
    "where salary = (SELECT MAX(salary) from worker where department = worker.department )"
   ]
  },
  {
   "cell_type": "markdown",
   "id": "6c72da36",
   "metadata": {},
   "source": [
    "alternative sol\n",
    "\n",
    "\n",
    "SELECT first_name,MAX(Salary),department\n",
    "FROM worker \n",
    "GROUP BY department\n",
    "\n"
   ]
  },
  {
   "cell_type": "code",
   "execution_count": null,
   "id": "61cc2677",
   "metadata": {},
   "outputs": [],
   "source": []
  }
 ],
 "metadata": {
  "kernelspec": {
   "display_name": "Python 3 (ipykernel)",
   "language": "python",
   "name": "python3"
  },
  "language_info": {
   "codemirror_mode": {
    "name": "ipython",
    "version": 3
   },
   "file_extension": ".py",
   "mimetype": "text/x-python",
   "name": "python",
   "nbconvert_exporter": "python",
   "pygments_lexer": "ipython3",
   "version": "3.9.6"
  }
 },
 "nbformat": 4,
 "nbformat_minor": 5
}
