{
 "cells": [
  {
   "cell_type": "markdown",
   "id": "68d912df",
   "metadata": {},
   "source": [
    "#### Q-17. Write an SQL query to show the top n (say 10) records of a table.\n"
   ]
  },
  {
   "cell_type": "markdown",
   "id": "b7d1edc8",
   "metadata": {},
   "source": [
    "SELECT *\n",
    "FROM worker\n",
    "LIMIT 10;"
   ]
  },
  {
   "cell_type": "markdown",
   "id": "5e3373b7",
   "metadata": {},
   "source": [
    "#### Q-18. Write an SQL query to determine the nth (say n=5) highest salary from a table."
   ]
  },
  {
   "cell_type": "markdown",
   "id": "55cf5306",
   "metadata": {},
   "source": [
    "SELECT DISTINCT(Salary)\n",
    "FROM Worker\n",
    "ORDER BY DESC LIMIT 1 OFFSET 5;"
   ]
  },
  {
   "cell_type": "markdown",
   "id": "05831b33",
   "metadata": {},
   "source": []
  }
 ],
 "metadata": {
  "kernelspec": {
   "display_name": "Python 3 (ipykernel)",
   "language": "python",
   "name": "python3"
  },
  "language_info": {
   "codemirror_mode": {
    "name": "ipython",
    "version": 3
   },
   "file_extension": ".py",
   "mimetype": "text/x-python",
   "name": "python",
   "nbconvert_exporter": "python",
   "pygments_lexer": "ipython3",
   "version": "3.9.6"
  }
 },
 "nbformat": 4,
 "nbformat_minor": 5
}
