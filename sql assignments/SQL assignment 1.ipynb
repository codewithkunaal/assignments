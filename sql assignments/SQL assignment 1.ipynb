{
 "cells": [
  {
   "cell_type": "markdown",
   "id": "5e73cc4f",
   "metadata": {},
   "source": [
    "#### Q-1. Write an SQL query to fetch “FIRST_NAME” from Worker table using the alias name as &lt;WORKER_NAME&gt;."
   ]
  },
  {
   "cell_type": "markdown",
   "id": "5c0955c3",
   "metadata": {},
   "source": [
    "SELECT first_name AS worker_name                     \n",
    "from worker ;                    "
   ]
  },
  {
   "cell_type": "markdown",
   "id": "696768f7",
   "metadata": {},
   "source": [
    "##### Q-2. Write an SQL query to fetch unique values of DEPARTMENT from Worker table."
   ]
  },
  {
   "cell_type": "markdown",
   "id": "7a54aceb",
   "metadata": {},
   "source": [
    "SELECT distinct department                             \n",
    "FROM worker;\n"
   ]
  },
  {
   "cell_type": "markdown",
   "id": "9bc1ab29",
   "metadata": {},
   "source": [
    "#### 3. Write an SQL query to show the last 5 record from a table."
   ]
  },
  {
   "cell_type": "markdown",
   "id": "fe284ec8",
   "metadata": {},
   "source": [
    "SELECT *\n",
    "FROM worker\n",
    "ORDER BY id DESC\n",
    "LIMIT 5;"
   ]
  },
  {
   "cell_type": "code",
   "execution_count": null,
   "id": "37271a56",
   "metadata": {},
   "outputs": [],
   "source": []
  }
 ],
 "metadata": {
  "kernelspec": {
   "display_name": "Python 3 (ipykernel)",
   "language": "python",
   "name": "python3"
  },
  "language_info": {
   "codemirror_mode": {
    "name": "ipython",
    "version": 3
   },
   "file_extension": ".py",
   "mimetype": "text/x-python",
   "name": "python",
   "nbconvert_exporter": "python",
   "pygments_lexer": "ipython3",
   "version": "3.9.6"
  }
 },
 "nbformat": 4,
 "nbformat_minor": 5
}
