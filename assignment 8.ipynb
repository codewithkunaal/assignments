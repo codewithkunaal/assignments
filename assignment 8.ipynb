{
 "cells": [
  {
   "cell_type": "markdown",
   "id": "b168d3ea",
   "metadata": {},
   "source": [
    "1. Is the Python Standard Library included with PyInputPlus?\n",
    "2. Why is PyInputPlus commonly imported with import pyinputplus as pypi?\n",
    "3. How do you distinguish between inputInt() and inputFloat()?\n",
    "4. Using PyInputPlus, how do you ensure that the user enters a whole number between 0 and 99?\n",
    "5. What is transferred to the keyword arguments allowRegexes and blockRegexes?\n",
    "6. If a blank input is entered three times, what does inputStr(limit=3) do?\n",
    "7. If blank input is entered three times, what does inputStr(limit=3, default=&#39;hello&#39;) do?"
   ]
  },
  {
   "cell_type": "markdown",
   "id": "dd14d1c7",
   "metadata": {},
   "source": [
    "1.ans = no,you need to install it manually.                                                                                \n",
    "\n",
    "2.for calling library to execute its operation we need to write its full name everytime we call it.\n",
    "so to ease the work we use short name as pypi.which can be written as import PyinputPlus as pypi                                                    \n",
    "3.inputint() takes input in form of integer and inputfloat() takes input in form of float value and they always return integer and float values respectively                                                  \n",
    "\n",
    "4.PyInputPlus module provides a function called as inputInt() which only returns only integer values. in order to restrict the input between 0 and 99, i'll use parameters like min & max to ensure that user enters the values between the defined range only                                               \n",
    "5.we can use allowRegexes and blockRegexes keyword arguments to take list of regular expression strings to determine what the pyinputplus function will reject or accept valid input                                                 \n",
    "\n",
    "6.The statement inputStr(limit=3) will throw two exceptions ValidationException and RetryLimitException. The first exception is thrown because blank values are not allowed by inputStr() function by default. if we want to consider blank values as valid input, we have to set blank=True.                                                                    \n",
    "The second exception is occured because we have reached the max limit we have specified by using limit parameter. inorder to avoid this exception we can use default parameter to return a default value when max limit is reached.\n",
    "                                                              \n",
    "7.Since the default parameter is set to \"hello\". after blank input is entered three times instead of raising RetryLimitException exception. the function will return hello as response to the calling function\n",
    "                                                     "
   ]
  },
  {
   "cell_type": "code",
   "execution_count": null,
   "id": "96061a24",
   "metadata": {},
   "outputs": [],
   "source": []
  }
 ],
 "metadata": {
  "kernelspec": {
   "display_name": "Python 3 (ipykernel)",
   "language": "python",
   "name": "python3"
  },
  "language_info": {
   "codemirror_mode": {
    "name": "ipython",
    "version": 3
   },
   "file_extension": ".py",
   "mimetype": "text/x-python",
   "name": "python",
   "nbconvert_exporter": "python",
   "pygments_lexer": "ipython3",
   "version": "3.9.6"
  }
 },
 "nbformat": 4,
 "nbformat_minor": 5
}
