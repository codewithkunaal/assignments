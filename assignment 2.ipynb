{
 "cells": [
  {
   "cell_type": "markdown",
   "id": "714823a3",
   "metadata": {},
   "source": [
    "## assignment 2"
   ]
  },
  {
   "cell_type": "markdown",
   "id": "aadfc19b",
   "metadata": {},
   "source": [
    "Q1.What are the two values of the Boolean data type? How do you write them?\n",
    "\n",
    "Ans= true or false\n",
    "     we write them as True or False"
   ]
  },
  {
   "cell_type": "markdown",
   "id": "d1912e68",
   "metadata": {},
   "source": [
    "Q2. What are the three different types of Boolean operators?\n",
    "\n",
    "Ans= AND,OR,NOT"
   ]
  },
  {
   "cell_type": "markdown",
   "id": "4a1eb88f",
   "metadata": {},
   "source": [
    "Q3. Make a list of each Boolean operator's truth tables (i.e. every possible combination of Boolean\n",
    "values for the operator and what it evaluate ).\n",
    "\n",
    "Ans =  for AND true AND  true = true otherwise False \n",
    "       for OR  false OR false  = false otherwise true\n",
    "       for NOT true NOT false, false NOT true"
   ]
  },
  {
   "cell_type": "markdown",
   "id": "575c9271",
   "metadata": {},
   "source": [
    "Q4. What are the values of the following expressions?\n",
    "\n",
    "ans = "
   ]
  },
  {
   "cell_type": "code",
   "execution_count": 4,
   "id": "d255a690",
   "metadata": {},
   "outputs": [
    {
     "data": {
      "text/plain": [
       "False"
      ]
     },
     "execution_count": 4,
     "metadata": {},
     "output_type": "execute_result"
    }
   ],
   "source": [
    "5>4 and 3==5"
   ]
  },
  {
   "cell_type": "code",
   "execution_count": 5,
   "id": "60a7914c",
   "metadata": {},
   "outputs": [
    {
     "data": {
      "text/plain": [
       "False"
      ]
     },
     "execution_count": 5,
     "metadata": {},
     "output_type": "execute_result"
    }
   ],
   "source": [
    "not 5>4"
   ]
  },
  {
   "cell_type": "code",
   "execution_count": 6,
   "id": "d77707f4",
   "metadata": {},
   "outputs": [
    {
     "data": {
      "text/plain": [
       "True"
      ]
     },
     "execution_count": 6,
     "metadata": {},
     "output_type": "execute_result"
    }
   ],
   "source": [
    "5>4 or 3==5"
   ]
  },
  {
   "cell_type": "code",
   "execution_count": 7,
   "id": "e7b7510e",
   "metadata": {},
   "outputs": [
    {
     "data": {
      "text/plain": [
       "False"
      ]
     },
     "execution_count": 7,
     "metadata": {},
     "output_type": "execute_result"
    }
   ],
   "source": [
    "not 5>4 or 3==5"
   ]
  },
  {
   "cell_type": "code",
   "execution_count": 8,
   "id": "b2aaf6b8",
   "metadata": {},
   "outputs": [
    {
     "data": {
      "text/plain": [
       "False"
      ]
     },
     "execution_count": 8,
     "metadata": {},
     "output_type": "execute_result"
    }
   ],
   "source": [
    "(True and True ) and (True == False)"
   ]
  },
  {
   "cell_type": "code",
   "execution_count": 9,
   "id": "a0b108de",
   "metadata": {},
   "outputs": [
    {
     "data": {
      "text/plain": [
       "True"
      ]
     },
     "execution_count": 9,
     "metadata": {},
     "output_type": "execute_result"
    }
   ],
   "source": [
    "(not False) or (not True )"
   ]
  },
  {
   "cell_type": "markdown",
   "id": "a8d5d6d4",
   "metadata": {},
   "source": [
    "Q5. What are the six comparison operators?\n",
    "\n",
    "Ans= ==,!=,>=,<=,>,<"
   ]
  },
  {
   "cell_type": "markdown",
   "id": "3ede0faf",
   "metadata": {},
   "source": [
    "Q6. How do you tell the difference between the equal to and assignment operators?Describe a\n",
    "condition and when you would use one.\n",
    "\n",
    "\n",
    "ans-   ==  is an equal to operator which check if specified value is similar or not while = is an assign operator which set value to specified variable.\n",
    "\n",
    "   age = 33 and if age ==33\n"
   ]
  },
  {
   "cell_type": "markdown",
   "id": "c8595179",
   "metadata": {},
   "source": [
    "Q7. Identify the three blocks in this code:\n",
    "spam = 0\n",
    "if spam == 10:\n",
    "print(\"eggs\")\n",
    "if spam > 5:\n",
    "print(\"bacon\")\n",
    "else:\n",
    "print(\"ham\")\n",
    "print\"spam\")\n",
    "print(\"spam\")"
   ]
  },
  {
   "cell_type": "markdown",
   "id": "787eaef9",
   "metadata": {},
   "source": [
    "ans = The three blocks are everything inside the if statement and the lines print('bacon') and print('ham')\n",
    "    first if , second if and else block"
   ]
  },
  {
   "cell_type": "markdown",
   "id": "2701547e",
   "metadata": {},
   "source": [
    "Q8. Write code that prints Hello if 1 is stored in spam, prints Howdy if 2 is stored in spam, and prints\n",
    "Greetings! if anything else is stored in spam."
   ]
  },
  {
   "cell_type": "code",
   "execution_count": 18,
   "id": "db6c7ec1",
   "metadata": {},
   "outputs": [],
   "source": [
    "def greet(spam):\n",
    "    if(spam == 1): \n",
    "        print(\"hello\")\n",
    "    elif(spam==2):\n",
    "        print(\"howdy\")\n",
    "    else:\n",
    "        print(\"greetings!\")"
   ]
  },
  {
   "cell_type": "code",
   "execution_count": 24,
   "id": "9ca787b5",
   "metadata": {},
   "outputs": [
    {
     "name": "stdout",
     "output_type": "stream",
     "text": [
      "greetings!\n"
     ]
    }
   ],
   "source": [
    "var = greet(3)"
   ]
  },
  {
   "cell_type": "code",
   "execution_count": 26,
   "id": "fe43aba2",
   "metadata": {},
   "outputs": [
    {
     "name": "stdout",
     "output_type": "stream",
     "text": [
      "hello\n"
     ]
    }
   ],
   "source": [
    "var = greet(1)"
   ]
  },
  {
   "cell_type": "code",
   "execution_count": 27,
   "id": "24d65593",
   "metadata": {},
   "outputs": [
    {
     "name": "stdout",
     "output_type": "stream",
     "text": [
      "howdy\n"
     ]
    }
   ],
   "source": [
    "var = greet(2)"
   ]
  },
  {
   "cell_type": "markdown",
   "id": "10bb108c",
   "metadata": {},
   "source": [
    "Q9.If your programme is stuck in an endless loop, what keys you’ll press?\n",
    "\n",
    "\n",
    "Ans = ctrl+c or restarting kernal "
   ]
  },
  {
   "cell_type": "markdown",
   "id": "45d4037d",
   "metadata": {},
   "source": [
    "Q10. How can you tell the difference between break and continue?\n",
    "\n",
    "\n",
    "Ans= The break statement will move the execution outside and just after a loop. The continue statement will move the execution to the start of the loop"
   ]
  },
  {
   "cell_type": "markdown",
   "id": "f44ac060",
   "metadata": {},
   "source": [
    "Q11. In a for loop, what is the difference between range(10), range(0, 10), and range(0, 10, 1)?\n",
    "\n",
    "\n",
    "ans= range(10) means it starts from 0 and end on 9 not 10\n",
    "     rage(0,10) tells the loop to start at 0 upto 10,\n",
    "     range(0, 10, 1) tells the loop to increase the variable by 1 on each iteration."
   ]
  },
  {
   "cell_type": "markdown",
   "id": "408fd8c6",
   "metadata": {},
   "source": [
    "Q12. Write a short program that prints the numbers 1 to 10 using a for loop. Then write an equivalent\n",
    "program that prints the numbers 1 to 10 using a while loop."
   ]
  },
  {
   "cell_type": "code",
   "execution_count": 29,
   "id": "3a56d3ae",
   "metadata": {},
   "outputs": [
    {
     "data": {
      "text/plain": [
       "[0, 1, 2, 3, 4, 5, 6, 7, 8, 9, 10]"
      ]
     },
     "execution_count": 29,
     "metadata": {},
     "output_type": "execute_result"
    }
   ],
   "source": [
    "[i for i in range(0,11)]"
   ]
  },
  {
   "cell_type": "code",
   "execution_count": 31,
   "id": "2353e5d7",
   "metadata": {},
   "outputs": [
    {
     "name": "stdout",
     "output_type": "stream",
     "text": [
      "1\n",
      "2\n",
      "3\n",
      "4\n",
      "5\n",
      "6\n",
      "7\n",
      "8\n",
      "9\n",
      "10\n"
     ]
    }
   ],
   "source": [
    "i = 1\n",
    "while i <11:\n",
    "    print(i)\n",
    "    i+=1"
   ]
  },
  {
   "cell_type": "markdown",
   "id": "a54e08a3",
   "metadata": {},
   "source": [
    "Q13. If you had a function named bacon() inside a module named spam, how would you call it after\n",
    "importing spam?\n",
    "\n",
    "\n",
    "ans = spam.bacon()"
   ]
  },
  {
   "cell_type": "code",
   "execution_count": null,
   "id": "625bda14",
   "metadata": {},
   "outputs": [],
   "source": []
  },
  {
   "cell_type": "code",
   "execution_count": null,
   "id": "4b334189",
   "metadata": {},
   "outputs": [],
   "source": []
  }
 ],
 "metadata": {
  "kernelspec": {
   "display_name": "Python 3 (ipykernel)",
   "language": "python",
   "name": "python3"
  },
  "language_info": {
   "codemirror_mode": {
    "name": "ipython",
    "version": 3
   },
   "file_extension": ".py",
   "mimetype": "text/x-python",
   "name": "python",
   "nbconvert_exporter": "python",
   "pygments_lexer": "ipython3",
   "version": "3.9.6"
  }
 },
 "nbformat": 4,
 "nbformat_minor": 5
}
