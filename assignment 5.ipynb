{
 "cells": [
  {
   "cell_type": "markdown",
   "id": "3293956d",
   "metadata": {},
   "source": [
    "## assignment 5\n"
   ]
  },
  {
   "cell_type": "markdown",
   "id": "536ed0bf",
   "metadata": {},
   "source": [
    "1. What does an empty dictionary&#39;s code look like?\n",
    "2. What is the value of a dictionary value with the key &#39;foo&#39; and the value 42?\n",
    "3. What is the most significant distinction between a dictionary and a list?\n",
    "4. What happens if you try to access spam[&#39;foo&#39;] if spam is {&#39;bar&#39;: 100}?\n",
    "5. If a dictionary is stored in spam, what is the difference between the expressions &#39;cat&#39; in spam and\n",
    "&#39;cat&#39; in spam.keys()?\n",
    "6. If a dictionary is stored in spam, what is the difference between the expressions &#39;cat&#39; in spam and\n",
    "&#39;cat&#39; in spam.values()?\n",
    "7. What is a shortcut for the following code?\n",
    "if &#39;color&#39; not in spam:\n",
    "spam[&#39;color&#39;] = &#39;black&#39;\n",
    "\n",
    "8. How do you &quot;pretty print&quot; dictionary values using which module and function?"
   ]
  },
  {
   "cell_type": "code",
   "execution_count": 2,
   "id": "7dfee2db",
   "metadata": {},
   "outputs": [],
   "source": [
    "var = {}"
   ]
  },
  {
   "cell_type": "code",
   "execution_count": 3,
   "id": "eac401b5",
   "metadata": {},
   "outputs": [
    {
     "data": {
      "text/plain": [
       "dict"
      ]
     },
     "execution_count": 3,
     "metadata": {},
     "output_type": "execute_result"
    }
   ],
   "source": [
    "type(var)"
   ]
  },
  {
   "cell_type": "code",
   "execution_count": 5,
   "id": "fe88965e",
   "metadata": {},
   "outputs": [],
   "source": [
    "var = {\"foo\":42}"
   ]
  },
  {
   "cell_type": "code",
   "execution_count": 6,
   "id": "caa91e58",
   "metadata": {},
   "outputs": [
    {
     "data": {
      "text/plain": [
       "42"
      ]
     },
     "execution_count": 6,
     "metadata": {},
     "output_type": "execute_result"
    }
   ],
   "source": [
    "var[\"foo\"]"
   ]
  },
  {
   "cell_type": "markdown",
   "id": "34617295",
   "metadata": {},
   "source": [
    "The items stored in a dictionary are unordered, while the items in a list are ordered"
   ]
  },
  {
   "cell_type": "code",
   "execution_count": 7,
   "id": "6a778d79",
   "metadata": {},
   "outputs": [],
   "source": [
    "spam ={\"bar\":100}"
   ]
  },
  {
   "cell_type": "code",
   "execution_count": 8,
   "id": "6212481a",
   "metadata": {
    "scrolled": true
   },
   "outputs": [
    {
     "ename": "KeyError",
     "evalue": "'foo'",
     "output_type": "error",
     "traceback": [
      "\u001b[1;31m---------------------------------------------------------------------------\u001b[0m",
      "\u001b[1;31mKeyError\u001b[0m                                  Traceback (most recent call last)",
      "\u001b[1;32m~\\AppData\\Local\\Temp/ipykernel_17704/3841522104.py\u001b[0m in \u001b[0;36m<module>\u001b[1;34m\u001b[0m\n\u001b[1;32m----> 1\u001b[1;33m \u001b[0mspam\u001b[0m\u001b[1;33m[\u001b[0m\u001b[1;34m\"foo\"\u001b[0m\u001b[1;33m]\u001b[0m\u001b[1;33m\u001b[0m\u001b[1;33m\u001b[0m\u001b[0m\n\u001b[0m",
      "\u001b[1;31mKeyError\u001b[0m: 'foo'"
     ]
    }
   ],
   "source": [
    "spam[\"foo\"]"
   ]
  },
  {
   "cell_type": "markdown",
   "id": "1d0e7570",
   "metadata": {},
   "source": [
    "#4 you get error "
   ]
  },
  {
   "cell_type": "markdown",
   "id": "72c37e59",
   "metadata": {},
   "source": [
    "#5 There is no difference\n",
    "dictionary search for keys when specified"
   ]
  },
  {
   "cell_type": "markdown",
   "id": "251bfac2",
   "metadata": {},
   "source": [
    "#6 cat in spam check for cat as key and cat in spam.value() check for cat as a value"
   ]
  },
  {
   "cell_type": "code",
   "execution_count": 10,
   "id": "de2eb743",
   "metadata": {},
   "outputs": [
    {
     "data": {
      "text/plain": [
       "'black'"
      ]
     },
     "execution_count": 10,
     "metadata": {},
     "output_type": "execute_result"
    }
   ],
   "source": [
    "spam.setdefault(\"color\", \"black\")"
   ]
  },
  {
   "cell_type": "markdown",
   "id": "9ec2ac56",
   "metadata": {},
   "source": [
    "#8 pprint.pprint()"
   ]
  },
  {
   "cell_type": "code",
   "execution_count": null,
   "id": "e939e006",
   "metadata": {},
   "outputs": [],
   "source": []
  }
 ],
 "metadata": {
  "kernelspec": {
   "display_name": "Python 3 (ipykernel)",
   "language": "python",
   "name": "python3"
  },
  "language_info": {
   "codemirror_mode": {
    "name": "ipython",
    "version": 3
   },
   "file_extension": ".py",
   "mimetype": "text/x-python",
   "name": "python",
   "nbconvert_exporter": "python",
   "pygments_lexer": "ipython3",
   "version": "3.9.6"
  }
 },
 "nbformat": 4,
 "nbformat_minor": 5
}
