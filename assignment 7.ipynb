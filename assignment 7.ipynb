{
 "cells": [
  {
   "cell_type": "markdown",
   "id": "64253161",
   "metadata": {},
   "source": [
    "What is the name of the feature responsible for generating Regex objects? \n",
    ">The re.compile() function returns Regex objects.\n",
    "\n",
    "                                      \n",
    "2. Why do raw strings often appear in Regex objects? \n",
    ">Raw strings are used so that backslashes do not have to be escaped.\n",
    "\n",
    "                                            \n",
    "3. What is the return value of the search() method? \n",
    ">The search() method returns Match objects.\n",
    "                                            \n",
    "\n",
    "4. From a Match item, how do you get the actual strings that match the pattern? \n",
    ">The group() method returns strings of the matched text.\n",
    "                                            \n",
    "\n",
    "5. In the regex which created from the r&#39;(\\d\\d\\d)-(\\d\\d\\d-\\d\\d\\d\\d)&#39;, what does group zero cover?\n",
    "Group 2? Group 1? \n",
    ">In the Regex r'(\\d\\d\\d)-(\\d\\d\\d-\\d\\d\\d\\d)' the zero group covers the entire pattern match where as the first group cover (\\d\\d\\d) and the second group cover (\\d\\d\\d-\\d\\d\\d\\d) \n",
    "\n",
    ">Group 0 is the entire match whilw group 1 covers the first set of parentheses, and group 2 covers the second set of parentheses.                \n",
    "                                          \n",
    "\n",
    "\n",
    "7. The findall() method returns a string list or a list of string tuples. What causes it to return one of\n",
    "the two options?  \n",
    ">If the regex pattern has no groups, a list of strings matched is returned. if the regex pattern has groups, a list of tuple of strings is returned.\n",
    "\n",
    "                                \n",
    "\n",
    "8. In standard expressions, what does the | character mean? \n",
    ">The | character signifies matching “either, or” between two groups.\n",
    "\n",
    "                                                    \n",
    "9. In regular expressions, what does the character stand for?\n",
    ">The ? character can either mean “match zero or one of the preceding group” or be used to signify nongreedy matching.\n",
    "\n",
    "                                \n",
    "10.In regular expressions, what is the difference between the + and * characters? \n",
    ">The + matches one or more. The * matches zero or more.\n",
    "\n",
    "                                          \n",
    "11. What is the difference between {4} and {4,5} in regular expression?   \n",
    "> {4} means that its preceeding group should repeat 4 times. where as {4,5} means that its preceeding group should repeat mininum 4 times and maximum 5 times inclusively\n",
    "                                    \n",
    "12. What do you mean by the \\d, \\w, and \\s shorthand character classes signify in regular\n",
    "expressions? \n",
    ">\\w – Matches a word character equivalent to [a-zA-Z0-9_]                                           \n",
    " \\d – Matches digit character equivalent to [0-9]                                                \n",
    " \\s – Matches whitespace character (space, tab, newline, etc.)                                               \n"
   ]
  },
  {
   "cell_type": "markdown",
   "id": "4339bee5",
   "metadata": {},
   "source": [
    "13.What do means by \\D, \\W, and \\S shorthand character classes signify in regular expressions? \n",
    ">\\W – Matches any non-alphanumeric character equivalent to [^a-zA-Z0-9_]                                       \n",
    "\\D – Matches any non-digit character, this is equivalent to the set class [^0-9]                                      \n",
    "\\S – Matches any non-whitespace character                                          \n",
    "\n",
    "14. What is the difference between .*? and .*?  \n",
    ">The .* performs a greedy match, and the .*? performs a nongreedy match.\n",
    "\n",
    "                                     \n",
    "15. What is the syntax for matching both numbers and lowercase letters with a character class? \n",
    ">The Synatax is Either [a-z0-9] or [0-9a-z]                                 \n",
    "\n",
    "\n",
    "16. What is the procedure for making a normal expression in regax case insensitive?                                        \n",
    ">We can pass re.IGNORECASE as a flag to make a noraml expression case insensitive\n",
    "                                           \n",
    "\n",
    "17. What does the . character normally match? What does it match if re.DOTALL is passed as 2nd\n",
    "argument in re.compile()?\n",
    ">Dot . character matches everything in input except newline character .. By passing re.DOTALL as a flag to re.compile(), you can make the dot character match all characters, including the newline character\n",
    "\n",
    "                                            \n",
    "18. If numReg = re.compile(r&#39;\\d+&#39;), what will numRegex.sub(&#39;X&#39;, &#39;11 drummers, 10 pipers, five rings, 4\n",
    "hen&#39;) return? \n",
    ">The Ouput will be 'X drummers, X pipers, five rings, X hen'\n",
    "\n",
    "\n",
    "19. What does passing re.VERBOSE as the 2nd argument to re.compile() allow to do?\n",
    ">Ans: re.VERBOSE will allow to add whitespace and comments to string passed to re.compile().\n",
    "\n",
    "            \n"
   ]
  },
  {
   "cell_type": "raw",
   "id": "06d65f49",
   "metadata": {},
   "source": [
    "6.In standard expression syntax, parentheses and intervals have distinct meanings. How can you tell\n",
    "a regex that you want it to fit real parentheses and periods? \n",
    ">The \"\\.\" \"\\(\" and  \"\\)\" escape characters in the raw string passed to re.compile() will match actual parenthesis characters.\n"
   ]
  },
  {
   "cell_type": "markdown",
   "id": "74206c20",
   "metadata": {},
   "source": [
    "20. How would you write a regex that match a number with comma for every three digits? It must\n",
    "match the given following:             \n",
    "&#39;42&#39;\n",
    "&#39;1,234&#39;\n",
    "&#39;6,368,745&#39;\n",
    "but not the following:                                                                                             \n",
    "&#39;12,34,567&#39; (which has only two digits between the commas)                                     \n",
    "&#39;1234&#39; (which lacks commas)                                                                                                   \n"
   ]
  },
  {
   "cell_type": "code",
   "execution_count": 2,
   "id": "64f85b41",
   "metadata": {},
   "outputs": [
    {
     "name": "stdout",
     "output_type": "stream",
     "text": [
      "Output: 42 -> <re.Match object; span=(0, 2), match='42'>\n",
      "Output: 1,234 -> <re.Match object; span=(0, 5), match='1,234'>\n",
      "Output: 6,368,745 -> <re.Match object; span=(0, 9), match='6,368,745'>\n",
      "Output: 12,34,567 -> None\n",
      "Output: 1234 -> None\n"
     ]
    }
   ],
   "source": [
    "import re\n",
    "pattern = r\"^\\d{1,3}(,\\d{3})*$\"\n",
    "pagex = re.compile(pattern)\n",
    "for i in ['42','1,234', '6,368,745','12,34,567','1234']:\n",
    "    print('Output:',i, '->', pagex.search(i))"
   ]
  },
  {
   "cell_type": "markdown",
   "id": "de36ff24",
   "metadata": {},
   "source": [
    "21. How would you write a regex that matches the full name of someone whose last name is\n",
    "Watanabe? You can assume that the first name that comes before it will always be one word that\n",
    "begins with a capital letter. The regex must match the following:\n",
    "&#39;Haruto Watanabe&#39;                                     \n",
    "&#39;Alice Watanabe&#39;                            \n",
    "&#39;RoboCop Watanabe&#39;                                       \n",
    "but not the following:                                          \n",
    "&#39;haruto Watanabe&#39; (where the first name is not capitalized)                                                             \n",
    "&#39;Mr. Watanabe&#39; (where the preceding word has a nonletter character)                                                    \n",
    "&#39;Watanabe&#39; (which has no first name)                                 \n",
    "&#39;Haruto watanabe&#39; (where Watanabe is not capitalized)                               \n",
    "\n",
    "\n",
    ">Ans: pattern = r'[A-Z]{1}[a-z]*\\sWatanabe'\n",
    "\n"
   ]
  },
  {
   "cell_type": "code",
   "execution_count": 3,
   "id": "7997eb79",
   "metadata": {},
   "outputs": [
    {
     "name": "stdout",
     "output_type": "stream",
     "text": [
      "Output:  Haruto Watanabe -> <re.Match object; span=(0, 15), match='Haruto Watanabe'>\n",
      "Output:  Alice Watanabe -> <re.Match object; span=(0, 14), match='Alice Watanabe'>\n",
      "Output:  RoboCop Watanabe -> <re.Match object; span=(4, 16), match='Cop Watanabe'>\n",
      "Output:  haruto Watanabe -> None\n",
      "Output:  Mr. Watanabe -> None\n",
      "Output:  Watanabe -> None\n",
      "Output:  Haruto watanabe -> None\n"
     ]
    }
   ],
   "source": [
    "import re\n",
    "pattern = r'[A-Z]{1}[a-z]*\\sWatanabe'\n",
    "namex = re.compile(pattern)\n",
    "for name in ['Haruto Watanabe','Alice Watanabe','RoboCop Watanabe','haruto Watanabe','Mr. Watanabe','Watanabe','Haruto watanabe']:\n",
    "    print('Output: ',name,'->',namex.search(name))"
   ]
  },
  {
   "cell_type": "markdown",
   "id": "cf72da51",
   "metadata": {},
   "source": [
    "22. How would you write a regex that matches a sentence where the first word is either Alice, Bob,\n",
    "or Carol; the second word is either eats, pets, or throws; the third word is apples, cats, or baseballs;\n",
    "and the sentence ends with a period? This regex should be case-insensitive. It must match the\n",
    "following:                           \n",
    "&#39;Alice eats apples.&#39;                           \n",
    "&#39;Bob pets cats.&#39;                           \n",
    "&#39;Carol throws baseballs.&#39;                       \n",
    "&#39;Alice throws Apples.&#39;                        \n",
    "&#39;BOB EATS CATS.&#39;                          \n",
    "but not the following:                                      \n",
    "&#39;RoboCop eats apples.&#39;                      \n",
    "&#39;ALICE THROWS FOOTBALLS.&#39;                 \n",
    "&#39;Carol eats 7 cats.&#39;  \n",
    "> pattern = r'(Alice|Bob|Carol)\\s(eats|pets|throws)\\s(apples|cats|baseballs)\\.'\n",
    "\n"
   ]
  },
  {
   "cell_type": "code",
   "execution_count": 6,
   "id": "98682877",
   "metadata": {},
   "outputs": [
    {
     "name": "stdout",
     "output_type": "stream",
     "text": [
      "Output:  Alice eats apples. -> <re.Match object; span=(0, 18), match='Alice eats apples.'>\n",
      "Output:  Bob pets cats. -> <re.Match object; span=(0, 14), match='Bob pets cats.'>\n",
      "Output:  Carol throws baseballs. -> <re.Match object; span=(0, 23), match='Carol throws baseballs.'>\n",
      "Output:  Alice throws Apples. -> <re.Match object; span=(0, 20), match='Alice throws Apples.'>\n",
      "Output:  BOB EATS CATS. -> <re.Match object; span=(0, 14), match='BOB EATS CATS.'>\n",
      "Output:  RoboCop eats apples. -> None\n",
      "Output:  ALICE THROWS FOOTBALLS. -> None\n",
      "Output:  Carol eats 7 cats. -> None\n"
     ]
    }
   ],
   "source": [
    "import re\n",
    "p = r'(Alice|Bob|Carol)\\s(eats|pets|throws)\\s(apples|cats|baseballs)\\.'\n",
    "casex = re.compile(p,re.IGNORECASE)\n",
    "for i in ['Alice eats apples.','Bob pets cats.','Carol throws baseballs.','Alice throws Apples.','BOB EATS CATS.','RoboCop eats apples.'\n",
    ",'ALICE THROWS FOOTBALLS.','Carol eats 7 cats.']:\n",
    "    print('Output: ',i,'->',casex.search(i))"
   ]
  },
  {
   "cell_type": "code",
   "execution_count": null,
   "id": "a0778abe",
   "metadata": {},
   "outputs": [],
   "source": []
  },
  {
   "cell_type": "code",
   "execution_count": null,
   "id": "b64f6260",
   "metadata": {},
   "outputs": [],
   "source": []
  }
 ],
 "metadata": {
  "kernelspec": {
   "display_name": "Python 3 (ipykernel)",
   "language": "python",
   "name": "python3"
  },
  "language_info": {
   "codemirror_mode": {
    "name": "ipython",
    "version": 3
   },
   "file_extension": ".py",
   "mimetype": "text/x-python",
   "name": "python",
   "nbconvert_exporter": "python",
   "pygments_lexer": "ipython3",
   "version": "3.9.6"
  }
 },
 "nbformat": 4,
 "nbformat_minor": 5
}
