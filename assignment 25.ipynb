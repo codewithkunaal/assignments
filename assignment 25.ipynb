{
 "cells": [
  {
   "cell_type": "markdown",
   "id": "9874d5ce",
   "metadata": {},
   "source": [
    "#### 1) . What is the difference between enclosing a list comprehension in square brackets and parentheses?"
   ]
  },
  {
   "cell_type": "markdown",
   "id": "43ff8d5c",
   "metadata": {},
   "source": [
    "Enclosing a list comprehension in square brackets returns a list.\n",
    "but enclosing a list comprehension in parentheses returns a generator object\n"
   ]
  },
  {
   "cell_type": "code",
   "execution_count": 3,
   "id": "a3a44ac8",
   "metadata": {},
   "outputs": [
    {
     "data": {
      "text/plain": [
       "list"
      ]
     },
     "execution_count": 3,
     "metadata": {},
     "output_type": "execute_result"
    }
   ],
   "source": [
    "a=[i**2 for i in range (5)]\n",
    "type(a)"
   ]
  },
  {
   "cell_type": "code",
   "execution_count": 5,
   "id": "4d6d5a96",
   "metadata": {},
   "outputs": [
    {
     "data": {
      "text/plain": [
       "generator"
      ]
     },
     "execution_count": 5,
     "metadata": {},
     "output_type": "execute_result"
    }
   ],
   "source": [
    "b = (i**2 for i in range(5))\n",
    "type(b)"
   ]
  },
  {
   "cell_type": "markdown",
   "id": "b2926574",
   "metadata": {},
   "source": [
    "##### 2 What is the relationship between generators and iterators?\n"
   ]
  },
  {
   "cell_type": "markdown",
   "id": "79f86b5a",
   "metadata": {},
   "source": [
    "iterator is an object which contains a countable number of values and it is used to iterate over iterable objects like list, tuples, dict, etc. Iterators are implemented using a class\n",
    "For an iterator: iter() keyword is used to create an iterator containing an iterable object.next() keyword is used to call the next element in the iterable object.\n",
    "\n",
    "Similarly Generators are an another way of creating iterators in a simple way where it uses the keyword yield statement instead of return statement in a defined function.\n",
    "Generators are implemented using a function.\n",
    "Here, the yield function returns the data without affecting or exiting the function. It will return a sequence of data in an iterable format where we need to iterate over the sequence to use the data."
   ]
  },
  {
   "cell_type": "markdown",
   "id": "84de6cdd",
   "metadata": {},
   "source": [
    "#### 3.What are the signs that a function is a generator function?\n"
   ]
  },
  {
   "cell_type": "markdown",
   "id": "86815379",
   "metadata": {},
   "source": [
    " if a function have yield statement instead of the return.                   \n",
    " it will always return iterable object of type generator                  \n",
    " normal function will return object of strings ,list etc                 "
   ]
  },
  {
   "cell_type": "markdown",
   "id": "f416e237",
   "metadata": {},
   "source": [
    "#### 4. What is the purpose of a yield statement?\n"
   ]
  },
  {
   "cell_type": "markdown",
   "id": "40df70bd",
   "metadata": {},
   "source": [
    "yield exit the function and return value to caller but when we re execute the function it will resume where it left of instead of running same code twice, result will be generated where last execution was.this allow function to generate the series of value when executed over and over insted of generating them all at once."
   ]
  },
  {
   "cell_type": "markdown",
   "id": "7a5d97c6",
   "metadata": {},
   "source": [
    "#### 5. What is the relationship between map calls and list comprehensions? Make a comparison and contrast between the two."
   ]
  },
  {
   "cell_type": "markdown",
   "id": "111c914f",
   "metadata": {},
   "source": [
    "     List comprehension is more concise and easier to read as compared to map.\n",
    "     List comprehension allows filtering. In map, we have no such facility.\n",
    "     List comprehension are used when a list of results is required as final output.but map only returns a map object.\n",
    "     it need to be explicitly coverted to desired datatype.\n",
    "     List comprehension is faster than map when we need to evaluate expressions that are too long or complicated to express\n",
    "     Map is faster in case of calling an already defined function on a set of values."
   ]
  },
  {
   "cell_type": "code",
   "execution_count": null,
   "id": "92792ba6",
   "metadata": {},
   "outputs": [],
   "source": []
  },
  {
   "cell_type": "code",
   "execution_count": null,
   "id": "9f5f29e2",
   "metadata": {},
   "outputs": [],
   "source": []
  }
 ],
 "metadata": {
  "kernelspec": {
   "display_name": "Python 3 (ipykernel)",
   "language": "python",
   "name": "python3"
  },
  "language_info": {
   "codemirror_mode": {
    "name": "ipython",
    "version": 3
   },
   "file_extension": ".py",
   "mimetype": "text/x-python",
   "name": "python",
   "nbconvert_exporter": "python",
   "pygments_lexer": "ipython3",
   "version": "3.9.6"
  }
 },
 "nbformat": 4,
 "nbformat_minor": 5
}
