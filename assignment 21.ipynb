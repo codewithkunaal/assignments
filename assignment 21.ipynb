{
 "cells": [
  {
   "cell_type": "markdown",
   "id": "c3308080",
   "metadata": {},
   "source": [
    "#### 1. Add the current date to the text file today.txt as a string."
   ]
  },
  {
   "cell_type": "code",
   "execution_count": 1,
   "id": "e8e6d1c8",
   "metadata": {},
   "outputs": [],
   "source": [
    "import datetime"
   ]
  },
  {
   "cell_type": "code",
   "execution_count": 2,
   "id": "ee007c9d",
   "metadata": {},
   "outputs": [],
   "source": [
    "time = datetime.datetime.now().strftime(\"%d-%m-%Y\")\n",
    "with open(\"today.txt\",\"w\") as f:\n",
    "    f.write(time)"
   ]
  },
  {
   "cell_type": "code",
   "execution_count": 4,
   "id": "1122ad8e",
   "metadata": {},
   "outputs": [
    {
     "name": "stdout",
     "output_type": "stream",
     "text": [
      "04-02-2022\n"
     ]
    }
   ],
   "source": [
    "with open('today.txt','r') as f:\n",
    "    print(f.read())"
   ]
  },
  {
   "cell_type": "markdown",
   "id": "4d9d6251",
   "metadata": {},
   "source": [
    "#### 2. Read the text file today.txt into the string today_string"
   ]
  },
  {
   "cell_type": "code",
   "execution_count": 5,
   "id": "04d24b5a",
   "metadata": {},
   "outputs": [],
   "source": [
    "with open(\"today.txt\",\"r\") as f:\n",
    "    today_string = f.read()"
   ]
  },
  {
   "cell_type": "code",
   "execution_count": 6,
   "id": "2a08db17",
   "metadata": {},
   "outputs": [
    {
     "data": {
      "text/plain": [
       "'04-02-2022'"
      ]
     },
     "execution_count": 6,
     "metadata": {},
     "output_type": "execute_result"
    }
   ],
   "source": [
    "today_string"
   ]
  },
  {
   "cell_type": "markdown",
   "id": "2f4adfb6",
   "metadata": {},
   "source": [
    "#### 3. Parse the date from today_string.\n"
   ]
  },
  {
   "cell_type": "code",
   "execution_count": 11,
   "id": "8e04f86b",
   "metadata": {},
   "outputs": [
    {
     "data": {
      "text/plain": [
       "datetime.datetime(2022, 2, 4, 0, 0)"
      ]
     },
     "execution_count": 11,
     "metadata": {},
     "output_type": "execute_result"
    }
   ],
   "source": [
    "from datetime import datetime\n",
    "ParsedDate = datetime.strptime(today_string, '%d-%m-%Y')\n",
    "ParsedDate"
   ]
  },
  {
   "cell_type": "markdown",
   "id": "ca2ca473",
   "metadata": {},
   "source": [
    "##### 4. List the files in your current directory\n"
   ]
  },
  {
   "cell_type": "code",
   "execution_count": 12,
   "id": "2790a119",
   "metadata": {},
   "outputs": [
    {
     "name": "stdout",
     "output_type": "stream",
     "text": [
      " assignment 18.ipynb\n",
      "assignment 1.ipynb\n",
      "assignment 10.ipynb\n",
      "assignment 11.ipynb\n",
      "assignment 12.ipynb\n",
      "assignment 13.ipynb\n",
      "assignment 14.ipynb\n",
      "assignment 15.ipynb\n",
      "assignment 16.ipynb\n",
      "assignment 17.ipynb\n",
      "assignment 19.ipynb\n",
      "assignment 2.ipynb\n",
      "assignment 20.ipynb\n",
      "assignment 21.ipynb\n",
      "assignment 22.ipynb\n",
      "assignment 23.ipynb\n",
      "assignment 24.ipynb\n",
      "assignment 25.ipynb\n",
      "assignment 3.ipynb\n",
      "assignment 4.ipynb\n",
      "assignment 5.ipynb\n",
      "assignment 6.ipynb\n",
      "assignment 7.ipynb\n",
      "assignment 8.ipynb\n",
      "assignment 9.ipynb\n",
      "books.csv\n",
      "books.db\n",
      "do not upload.ipynb\n",
      "imageSasha.jpg\n",
      "sample.docx\n",
      "Sasha2.jpg\n",
      "test.txt\n",
      "text.csv\n",
      "today.txt\n",
      "zoo.py\n",
      " assignment 18-checkpoint.ipynb\n",
      "assignment 1-checkpoint.ipynb\n",
      "assignment 10-checkpoint.ipynb\n",
      "assignment 11-checkpoint.ipynb\n",
      "assignment 12-checkpoint.ipynb\n",
      "assignment 13-checkpoint.ipynb\n",
      "assignment 14-checkpoint.ipynb\n",
      "assignment 15-checkpoint.ipynb\n",
      "assignment 16-checkpoint.ipynb\n",
      "assignment 17-checkpoint.ipynb\n",
      "assignment 19-checkpoint.ipynb\n",
      "assignment 2-checkpoint.ipynb\n",
      "assignment 20-checkpoint.ipynb\n",
      "assignment 21-checkpoint.ipynb\n",
      "assignment 22-checkpoint.ipynb\n",
      "assignment 23-checkpoint.ipynb\n",
      "assignment 24-checkpoint.ipynb\n",
      "assignment 25-checkpoint.ipynb\n",
      "assignment 3-checkpoint.ipynb\n",
      "assignment 4-checkpoint.ipynb\n",
      "assignment 5-checkpoint.ipynb\n",
      "assignment 6-checkpoint.ipynb\n",
      "assignment 7-checkpoint.ipynb\n",
      "assignment 8-checkpoint.ipynb\n",
      "assignment 9-checkpoint.ipynb\n",
      "do not upload-checkpoint.ipynb\n",
      "zoo.cpython-39.pyc\n"
     ]
    }
   ],
   "source": [
    "import os\n",
    "for folders, subfolders, files in os.walk(os.getcwd()):\n",
    "    for i in files:\n",
    "        print(i)"
   ]
  },
  {
   "cell_type": "markdown",
   "id": "299afe87",
   "metadata": {},
   "source": [
    "#### 5. Create a list of all of the files in your parent directory (minimum five files should be available)."
   ]
  },
  {
   "cell_type": "code",
   "execution_count": 13,
   "id": "98ac9c2f",
   "metadata": {},
   "outputs": [
    {
     "data": {
      "text/plain": [
       "[' assignment 18.ipynb',\n",
       " '.ipynb_checkpoints',\n",
       " 'advanced assignments',\n",
       " 'assignment 1.ipynb',\n",
       " 'assignment 10.ipynb',\n",
       " 'assignment 11.ipynb',\n",
       " 'assignment 12.ipynb',\n",
       " 'assignment 13.ipynb',\n",
       " 'assignment 14.ipynb',\n",
       " 'assignment 15.ipynb',\n",
       " 'assignment 16.ipynb',\n",
       " 'assignment 17.ipynb',\n",
       " 'assignment 19.ipynb',\n",
       " 'assignment 2.ipynb',\n",
       " 'assignment 20.ipynb',\n",
       " 'assignment 21.ipynb',\n",
       " 'assignment 22.ipynb',\n",
       " 'assignment 23.ipynb',\n",
       " 'assignment 24.ipynb',\n",
       " 'assignment 25.ipynb',\n",
       " 'assignment 3.ipynb',\n",
       " 'assignment 4.ipynb',\n",
       " 'assignment 5.ipynb',\n",
       " 'assignment 6.ipynb',\n",
       " 'assignment 7.ipynb',\n",
       " 'assignment 8.ipynb',\n",
       " 'assignment 9.ipynb',\n",
       " 'books.csv',\n",
       " 'books.db',\n",
       " 'do not upload.ipynb',\n",
       " 'imageSasha.jpg',\n",
       " 'sample.docx',\n",
       " 'Sasha2.jpg',\n",
       " 'test.txt',\n",
       " 'text.csv',\n",
       " 'today.txt',\n",
       " 'zoo.py',\n",
       " '__pycache__']"
      ]
     },
     "execution_count": 13,
     "metadata": {},
     "output_type": "execute_result"
    }
   ],
   "source": [
    "os.listdir()"
   ]
  },
  {
   "cell_type": "markdown",
   "id": "3ff7e4fb",
   "metadata": {},
   "source": [
    "##### 6. Use multiprocessing to create three separate processes. Make each one wait a random number of seconds between one and five, print the current time, and then exit."
   ]
  },
  {
   "cell_type": "code",
   "execution_count": 16,
   "id": "9f592b8b",
   "metadata": {},
   "outputs": [],
   "source": [
    "import multiprocessing\n",
    "import time \n",
    "import random\n",
    "import datetime\n",
    "\n",
    "def process_One():\n",
    "    print(f'Process_one_Starttime : {datetime.datetime.now()}')\n",
    "    time.sleep(random.randint(1,5))\n",
    "    print(f'Process_one_Endtime : {datetime.datetime.now()}')\n",
    "    \n",
    "def process_Two():\n",
    "    print(f'Process_two_Starttime : {datetime.datetime.now()}')\n",
    "    time.sleep(random.randint(1,5))\n",
    "    print(f'Process_two_Endtime :{datetime.datetime.now()}')\n",
    "\n",
    "def process_Three():\n",
    "    print(f'Process_three_Starttime : {datetime.datetime.now()}')\n",
    "    time.sleep(random.randint(1,5))\n",
    "    print(f'Process_three_Endtime : {datetime.datetime.now()}')\n",
    "    \n",
    "if __name__ == \"__main__\":    \n",
    "    p1 = multiprocessing.Process(target=process_One)\n",
    "    p2 = multiprocessing.Process(target=process_Two)\n",
    "    p3 = multiprocessing.Process(target=process_Three)\n",
    "\n",
    "    p1.start()\n",
    "    p2.start()\n",
    "    p3.start()\n",
    "\n",
    "    p1.join()\n",
    "    p2.join()\n",
    "    p3.join()"
   ]
  },
  {
   "cell_type": "markdown",
   "id": "3319949b",
   "metadata": {},
   "source": [
    "###### output of this is copied from vs code as the output wasnt showing here\n",
    "PS A:\\assignments> python -u \"a:\\assignments\\zoo.py\"                 \n",
    "Process_one_Starttime : 2022-02-04 14:42:00.469635                       \n",
    "Process_two_Starttime : 2022-02-04 14:42:00.474635                      \n",
    "Process_three_Starttime : 2022-02-04 14:42:00.475631                     \n",
    "Process_two_Endtime :2022-02-04 14:42:01.483912                        \n",
    "Process_one_Endtime : 2022-02-04 14:42:04.470278                     \n",
    "Process_three_Endtime : 2022-02-04 14:42:04.485795                        \n",
    "PS A:\\assignments>                        "
   ]
  },
  {
   "cell_type": "code",
   "execution_count": 20,
   "id": "d76c70f0",
   "metadata": {},
   "outputs": [
    {
     "name": "stdout",
     "output_type": "stream",
     "text": [
      "A:\\assignments\n",
      "A:\\assignments\\.ipynb_checkpoints\n",
      "A:\\assignments\\advanced assignments\n",
      "A:\\assignments\\__pycache__\n"
     ]
    }
   ],
   "source": [
    "import os\n",
    "for folders, subfolders, files in os.walk(os.getcwd()):\n",
    "        print(folders)"
   ]
  },
  {
   "cell_type": "markdown",
   "id": "c15b4992",
   "metadata": {},
   "source": [
    "##### 7. Create a date object of your day of birth."
   ]
  },
  {
   "cell_type": "code",
   "execution_count": 27,
   "id": "4c9bc01c",
   "metadata": {},
   "outputs": [
    {
     "data": {
      "text/plain": [
       "datetime.datetime(1999, 9, 4, 0, 0)"
      ]
     },
     "execution_count": 27,
     "metadata": {},
     "output_type": "execute_result"
    }
   ],
   "source": [
    "from datetime import datetime\n",
    "birth = datetime.strptime('04/09/1999','%d/%m/%Y')\n",
    "birth"
   ]
  },
  {
   "cell_type": "markdown",
   "id": "e86e5954",
   "metadata": {},
   "source": [
    "##### 8. What day of the week was your day of birth?"
   ]
  },
  {
   "cell_type": "code",
   "execution_count": 35,
   "id": "fe3fc58c",
   "metadata": {},
   "outputs": [
    {
     "data": {
      "text/plain": [
       "'Saturday'"
      ]
     },
     "execution_count": 35,
     "metadata": {},
     "output_type": "execute_result"
    }
   ],
   "source": [
    "from datetime import datetime\n",
    "day = datetime(1999,9,4)\n",
    "day.strftime(\"%A\")"
   ]
  },
  {
   "cell_type": "code",
   "execution_count": 36,
   "id": "da2520eb",
   "metadata": {},
   "outputs": [
    {
     "data": {
      "text/plain": [
       "'Saturday'"
      ]
     },
     "execution_count": 36,
     "metadata": {},
     "output_type": "execute_result"
    }
   ],
   "source": [
    "import pandas as pd\n",
    "\n",
    "temp = pd.Timestamp('1999-09-04')\n",
    "temp.day_name()"
   ]
  },
  {
   "cell_type": "markdown",
   "id": "15be9cfd",
   "metadata": {},
   "source": [
    "#### 9. When will you be (or when were you) 10,000 days old?"
   ]
  },
  {
   "cell_type": "code",
   "execution_count": 40,
   "id": "927b9885",
   "metadata": {},
   "outputs": [
    {
     "data": {
      "text/plain": [
       "datetime.datetime(2027, 1, 20, 0, 0)"
      ]
     },
     "execution_count": 40,
     "metadata": {},
     "output_type": "execute_result"
    }
   ],
   "source": [
    "from datetime import timedelta\n",
    "dob = datetime.strptime(\"04/09/1999\",'%d/%m/%Y')\n",
    "tf = timedelta(days=10000)\n",
    "dob+tf"
   ]
  },
  {
   "cell_type": "code",
   "execution_count": null,
   "id": "de4e1056",
   "metadata": {},
   "outputs": [],
   "source": []
  },
  {
   "cell_type": "code",
   "execution_count": null,
   "id": "3a171a2f",
   "metadata": {},
   "outputs": [],
   "source": []
  }
 ],
 "metadata": {
  "kernelspec": {
   "display_name": "Python 3 (ipykernel)",
   "language": "python",
   "name": "python3"
  },
  "language_info": {
   "codemirror_mode": {
    "name": "ipython",
    "version": 3
   },
   "file_extension": ".py",
   "mimetype": "text/x-python",
   "name": "python",
   "nbconvert_exporter": "python",
   "pygments_lexer": "ipython3",
   "version": "3.9.6"
  }
 },
 "nbformat": 4,
 "nbformat_minor": 5
}
