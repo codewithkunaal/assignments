{
 "cells": [
  {
   "cell_type": "markdown",
   "id": "9406c7da",
   "metadata": {},
   "source": [
    "Q1. What is the purpose of Python&#39;s OOP?\n",
    "\n",
    "Q2. Where does an inheritance search look for an attribute?\n",
    "\n",
    "Q3. How do you distinguish between a class object and an instance object?\n",
    "\n",
    "Q4. What makes the first argument in a class’s method function special?\n",
    "\n",
    "Q5. What is the purpose of the __init__ method?\n",
    "\n",
    "Q6. What is the process for creating a class instance?\n",
    "\n",
    "Q7. What is the process for creating a class?\n",
    "\n",
    "Q8. How would you define the superclasses of a class?"
   ]
  },
  {
   "cell_type": "markdown",
   "id": "e79c4191",
   "metadata": {},
   "source": [
    "Ans- 1. OOP's stands for object oriented programming which mainly include classes, functions , enumeration abstraction etc.                            \n",
    "        oops allow us to write code more efficiently. function allow us to use specific tasks at any point in code without             having to write the entire code again and again                 "
   ]
  },
  {
   "cell_type": "markdown",
   "id": "0a356765",
   "metadata": {},
   "source": [
    "Ans - 2. inheritance uses bottom to top approach to  search so it first check lowest occurrence of an attribute name."
   ]
  },
  {
   "cell_type": "markdown",
   "id": "a8a2f2c7",
   "metadata": {},
   "source": [
    "Ans - 3 To distinguish between class object and a instance object  is that every object has a \n",
    "type and the object types are created using classes. Instance is an object that belongs to a class.An instance is created inside aclass\n",
    "and can be set an attribute outside of class\n",
    "\n",
    "    \n",
    "    \n",
    "    \n",
    "    \n",
    "    \n",
    "    \n",
    "    \n",
    "    \n",
    " "
   ]
  },
  {
   "cell_type": "markdown",
   "id": "9722d15d",
   "metadata": {},
   "source": [
    "Ans - 4 first argument in the class function is `self` parameter it acts as a pointer in C or a reference in java\n",
    "        self refer to the current instance of class."
   ]
  },
  {
   "cell_type": "markdown",
   "id": "0be4bbd5",
   "metadata": {},
   "source": [
    "Ans - 5 `__init__` it is a constructor which is passed as a first argument to classes.\n",
    "        it allows class to initialize attributes in a class"
   ]
  },
  {
   "cell_type": "markdown",
   "id": "93ff283d",
   "metadata": {},
   "source": [
    "Ans - 6 process to create a new class instance is to call the class name and pass the arguments that are defined in a \n",
    "        constructor object.\n",
    "        \n",
    "to call the specific instance in a class we can use `classname.instanceObject(\"argumentForTheInstance\")`\n",
    "it will return the attribute of that instance "
   ]
  },
  {
   "cell_type": "markdown",
   "id": "a549e109",
   "metadata": {},
   "source": [
    "Ans 7 - process to create a class is to define a class name e.g. - `class pet:`                                           \n",
    "    then pass a constructor with the attributes that will define that class                \n",
    "    e.g. - `def __init__(self,breed)`                         \n",
    "    then define any other objects in a class for specific attributes       "
   ]
  },
  {
   "cell_type": "markdown",
   "id": "64b9b754",
   "metadata": {},
   "source": [
    "Ans - 8 a superclass is a  class from which many subclasses can be created.it is done through inheritance\n",
    "\n",
    "\n",
    "eg. `class pet:`\n",
    " `class dog(pet):`\n",
    " `class cat(pet):`\n",
    "        \n",
    "        \n",
    "        \n",
    "the class dog is inherited from pet and class pet is a super class"
   ]
  },
  {
   "cell_type": "code",
   "execution_count": null,
   "id": "79e53c0f",
   "metadata": {},
   "outputs": [],
   "source": []
  }
 ],
 "metadata": {
  "kernelspec": {
   "display_name": "Python 3 (ipykernel)",
   "language": "python",
   "name": "python3"
  },
  "language_info": {
   "codemirror_mode": {
    "name": "ipython",
    "version": 3
   },
   "file_extension": ".py",
   "mimetype": "text/x-python",
   "name": "python",
   "nbconvert_exporter": "python",
   "pygments_lexer": "ipython3",
   "version": "3.9.6"
  }
 },
 "nbformat": 4,
 "nbformat_minor": 5
}
