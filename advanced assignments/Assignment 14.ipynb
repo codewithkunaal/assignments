{
 "cells": [
  {
   "cell_type": "markdown",
   "id": "96f300b7",
   "metadata": {},
   "source": [
    "Q1. Is an assignment operator like += only for show? Is it possible that it would lead to faster results\n",
    "at the runtime?\n",
    "\n",
    "ans - A=A+1 evaluates to finding A, adding 1 to it. Then storing the value again in variable A. \n",
    "This expression makes Python to look for memory holder of a twice. But A+=1 simply means value of A is to \n",
    "incremented by 1. As memory address has to be identified once, += leads to faster operation.\n",
    "\n",
    "Q2. What is the smallest number of statements you&#39;d have to write in most programming languages to\n",
    "replace the Python expression a, b = a + b, a?\n",
    "\n",
    "\n",
    "ans - Minimum number of lines required to write above code in languages other Python will be 4, two for assigning initial values for variables a and b, and two for reassignment i.e. a=a+b and b=a.\n",
    "\n",
    "\n",
    "\n",
    "Q3. In Python, what is the most effective way to set a list of 100 integers to 0?\n",
    "\n",
    "ans - The Most effective way to set a list of 100 integers to 0 in python is by using repition operator(*) or by using list comprehension.\n",
    "\n",
    "\n"
   ]
  },
  {
   "cell_type": "markdown",
   "id": "0bbde5e1",
   "metadata": {},
   "source": [
    "Q4. What is the most effective way to initialise a list of 99 integers that repeats the sequence 1, 2, 3?\n",
    "S If necessary, show step-by-step instructions on how to accomplish this.\n"
   ]
  },
  {
   "cell_type": "code",
   "execution_count": 1,
   "id": "3ffb5b09",
   "metadata": {},
   "outputs": [
    {
     "name": "stdout",
     "output_type": "stream",
     "text": [
      "[1, 2, 3, 1, 2, 3, 1, 2, 3, 1, 2, 3, 1, 2, 3, 1, 2, 3, 1, 2, 3, 1, 2, 3, 1, 2, 3, 1, 2, 3, 1, 2, 3, 1, 2, 3, 1, 2, 3, 1, 2, 3, 1, 2, 3, 1, 2, 3, 1, 2, 3, 1, 2, 3, 1, 2, 3, 1, 2, 3, 1, 2, 3, 1, 2, 3, 1, 2, 3, 1, 2, 3, 1, 2, 3, 1, 2, 3, 1, 2, 3, 1, 2, 3, 1, 2, 3, 1, 2, 3, 1, 2, 3, 1, 2, 3, 1, 2, 3]\n"
     ]
    }
   ],
   "source": [
    "my_list = [1,2,3]*33\n",
    "print(my_list)"
   ]
  },
  {
   "cell_type": "markdown",
   "id": "fa506f77",
   "metadata": {},
   "source": [
    "\n",
    "Q5. If you&#39;re using IDLE to run a Python application, explain how to print a multidimensional list as\n",
    "efficiently?\n"
   ]
  },
  {
   "cell_type": "code",
   "execution_count": 2,
   "id": "b8c1232e",
   "metadata": {},
   "outputs": [
    {
     "name": "stdout",
     "output_type": "stream",
     "text": [
      "1 1 2 2 3 3 4 4 5 5 "
     ]
    }
   ],
   "source": [
    "my_list = [[1,1],[2,2],[3,3],[4,4],[5,5]] # 2 dimensional List\n",
    "for x in range(len(my_list)):\n",
    "    for y in range(len(my_list[x])):\n",
    "        print(my_list[x][y],end=\" \")\n"
   ]
  },
  {
   "cell_type": "markdown",
   "id": "c03f22c1",
   "metadata": {},
   "source": [
    "\n",
    "Q6. Is it possible to use list comprehension with a string? If so, how can you go about doing it?\n"
   ]
  },
  {
   "cell_type": "code",
   "execution_count": 3,
   "id": "b009a9e2",
   "metadata": {},
   "outputs": [
    {
     "name": "stdout",
     "output_type": "stream",
     "text": [
      "['i', 'N', 'e', 'u', 'r', 'o', 'n']\n"
     ]
    }
   ],
   "source": [
    "my_list = [ele for ele in 'iNeuron']\n",
    "print(my_list)"
   ]
  },
  {
   "cell_type": "markdown",
   "id": "5d12701e",
   "metadata": {},
   "source": [
    "Q7. From the command line, how do you get support with a user-written Python programme? Is this\n",
    "possible from inside IDLE?"
   ]
  },
  {
   "cell_type": "markdown",
   "id": "d1187334",
   "metadata": {},
   "source": [
    " Get support with a user-written Python Programme: Start a command prompt (Windows) or terminal window (Linux/Mac). If the current working directory is the same as the location in which you saved the file, you can simply\n",
    "        specify the filename as a command-line argument to the Python interpreter.\n",
    "        \n",
    "   Get support with a User-written Python Program from IDLE: You can also create script files and run them in IDLE. From the Shell window menu, select File → New File. That should open an additional editing window. Type in the code to be executed. From the menu in that window, select File → Save or File → Save As… and save the file to disk. Then select Run → Run Module. The output should appear back in the interpreter"
   ]
  },
  {
   "cell_type": "markdown",
   "id": "de31fa2d",
   "metadata": {},
   "source": [
    "\n",
    "\n",
    "\n",
    "Q8. Functions are said to be “first-class objects” in Python but not in most other languages, such as\n",
    "C++ or Java. What can you do in Python with a function (callable object) that you can&#39;t do in C or\n",
    "C++?\n",
    "\n"
   ]
  },
  {
   "cell_type": "markdown",
   "id": "4674c397",
   "metadata": {},
   "source": [
    "The tasks which can be performed with the functions in python are:\n",
    "\n",
    "A function is an instance of the Object type.         \n",
    "You can store the function in a variable.                          \n",
    "You can pass the function as a parameter to another function.                            \n",
    "You can return the function from a function.                         \n",
    "You can store them in data structures such as hash tables, lists.                     "
   ]
  },
  {
   "cell_type": "markdown",
   "id": "17372fc4",
   "metadata": {},
   "source": [
    "Q9. How do you distinguish between a wrapper, a wrapped feature, and a decorator?\n",
    "\n",
    "Ans: Wrappers Around the functions are known as Decrators.\n",
    "\n",
    "\n",
    "\n",
    "Q10. If a function is a generator function, what does it return?\n",
    "\n",
    "ans - Generator functions are a special kind of function that return a lazy iterator. These are objects that you can loop over like a list. However, unlike lists, lazy iterators do not store their contents in memory.\n",
    "\n",
    "\n",
    "\n",
    "Q11. What is the one improvement that must be made to a function in order for it to become a\n",
    "generator function in the Python language?\n",
    "\n",
    "ans -  Generator is a written as normal function but uses yield keyword to return values instead of return keyword.\n",
    "\n",
    "Q12. Identify at least one benefit of generators.\n",
    "\n",
    "ans- return statement sends a specified value back to its caller whereas yield statment can produce a sequence of values. We should use generator when we want to iterate over a sequence, but don’t want to store the entire sequence in memory."
   ]
  },
  {
   "cell_type": "code",
   "execution_count": null,
   "id": "92f0093b",
   "metadata": {},
   "outputs": [],
   "source": []
  }
 ],
 "metadata": {
  "kernelspec": {
   "display_name": "Python 3 (ipykernel)",
   "language": "python",
   "name": "python3"
  },
  "language_info": {
   "codemirror_mode": {
    "name": "ipython",
    "version": 3
   },
   "file_extension": ".py",
   "mimetype": "text/x-python",
   "name": "python",
   "nbconvert_exporter": "python",
   "pygments_lexer": "ipython3",
   "version": "3.9.6"
  }
 },
 "nbformat": 4,
 "nbformat_minor": 5
}
