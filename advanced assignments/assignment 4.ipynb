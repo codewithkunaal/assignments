{
 "cells": [
  {
   "cell_type": "markdown",
   "id": "270c5c86",
   "metadata": {},
   "source": [
    "Q1. Which two operator overloading methods can you use in your classes to support iteration?\n",
    "\n",
    "Ans - `__iter__` and `__next__` are the operator overloading methods in python that support iteration and are collectively called iterator protocol.\n",
    "\n",
    "`__iter__ ` returns the iterator object and is called at the start of loop in our respective class.\n",
    "`__next__ ` is called at each loop increment, it returns the incremented value. Also Stopiteration is raised when there is no value to return.\n",
    "\n",
    "\n",
    "Q2. In what contexts do the two operator overloading methods manage printing?\n",
    "\n",
    "ans - `__str__ `and `__repr__` are two operator overloading methods that manage printing.\n",
    "\n",
    "In Short, the difference between both these operators is the goal of `__repr__` is to be unambiguous and `__str__` is to be readable.\n",
    "Whenever we are printing any object reference internally __str__ method will be called by default.\n",
    "The main purpose of` __str__` is for readability. it prints the informal string representation of an object, one that is useful for printing the object. it may not be possible to convert result string to original object.\n",
    "`__repr__` is used to print official string representation of an object, so it includes all information and development.\n",
    "\n",
    "\n",
    "\n",
    "Q3. In a class, how do you intercept slice operations?\n",
    "\n",
    "ans -  In a class use of slice() in `__getitem__` method is used for intercept slice operation. This slice method is provided with start integer number, stop integer number and step integer number.\n",
    "\n",
    "Q4. In a class, how do you capture in-place addition?\n",
    "\n",
    "ans - a+b is normal addition. Whereas a+=b is inplace addition operation. In this in-place addition a itself will store the value of addition. In a class `__iadd__` method is used for this in-place operation\n",
    "\n",
    "Q5. When is it appropriate to use operator overloading?\n",
    "\n",
    "ans - Operator overloading is used when we want to use an operator other than its normal operation to have different meaning according to the context required in user defined function.\n",
    "\n"
   ]
  },
  {
   "cell_type": "code",
   "execution_count": null,
   "id": "6546d00c",
   "metadata": {},
   "outputs": [],
   "source": []
  }
 ],
 "metadata": {
  "kernelspec": {
   "display_name": "Python 3 (ipykernel)",
   "language": "python",
   "name": "python3"
  },
  "language_info": {
   "codemirror_mode": {
    "name": "ipython",
    "version": 3
   },
   "file_extension": ".py",
   "mimetype": "text/x-python",
   "name": "python",
   "nbconvert_exporter": "python",
   "pygments_lexer": "ipython3",
   "version": "3.9.6"
  }
 },
 "nbformat": 4,
 "nbformat_minor": 5
}
