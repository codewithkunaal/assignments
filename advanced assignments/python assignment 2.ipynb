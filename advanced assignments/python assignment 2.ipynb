{
 "cells": [
  {
   "cell_type": "markdown",
   "id": "bbd925b6",
   "metadata": {},
   "source": [
    "##### Q1. What is the relationship between classes and modules?"
   ]
  },
  {
   "cell_type": "markdown",
   "id": "362e4110",
   "metadata": {},
   "source": [
    "Ans : Modules are files present inside a package, whereas a class is used to encapsulate data and functions together inside the same unit."
   ]
  },
  {
   "cell_type": "markdown",
   "id": "c5d14289",
   "metadata": {},
   "source": [
    "#### Q2. How do you make instances and classes?"
   ]
  },
  {
   "cell_type": "markdown",
   "id": "91c8a3c5",
   "metadata": {},
   "source": [
    "syntax to create a class is class className:\n",
    "\n",
    " and To create instances of a class, you call the class using class name and pass in whatever arguments its `__init__` method accepts."
   ]
  },
  {
   "cell_type": "markdown",
   "id": "f3a28698",
   "metadata": {},
   "source": [
    "#### Q3. Where and how should be class attributes created?"
   ]
  },
  {
   "cell_type": "markdown",
   "id": "1b8df54a",
   "metadata": {},
   "source": [
    "Ans - Class attributes are attributes which are owned by the class itself. They will be shared by all the instances of the class. Therefore they have the same value for every instance. We define class attributes outside all the methods, usually they are placed at the top, right below the class header."
   ]
  },
  {
   "cell_type": "markdown",
   "id": "6c2f885e",
   "metadata": {},
   "source": [
    "#### Q4.Where and how are instance attributes created?"
   ]
  },
  {
   "cell_type": "markdown",
   "id": "0a306d0f",
   "metadata": {},
   "source": [
    "Ans - Instance attributes are defined in the constructor. Defined directly inside a class. Defined inside a constructor using the self parameter"
   ]
  },
  {
   "cell_type": "markdown",
   "id": "313f6793",
   "metadata": {},
   "source": [
    "#### Q5. What does the term \"self\" in a Python class mean?"
   ]
  },
  {
   "cell_type": "markdown",
   "id": "d40dd9ec",
   "metadata": {},
   "source": [
    "ans = The self parameter is a reference to the current instance of the class, and is used to access variables that belongs to the class"
   ]
  },
  {
   "cell_type": "markdown",
   "id": "cd64ad54",
   "metadata": {},
   "source": [
    "#### Q6. How does a Python class handle operator overloading?"
   ]
  },
  {
   "cell_type": "markdown",
   "id": "59dfb233",
   "metadata": {},
   "source": [
    "ANS = Python operators work for built-in classes. But the same operator behaves differently with different types. For example, the + operator will perform arithmetic addition on two numbers, merge two lists, or concatenate two strings."
   ]
  },
  {
   "cell_type": "markdown",
   "id": "04d422d3",
   "metadata": {},
   "source": [
    "#### Q7. When do you consider allowing operator overloading of your classes?"
   ]
  },
  {
   "cell_type": "markdown",
   "id": "e7bc41d2",
   "metadata": {},
   "source": [
    "Ans - When we want to have different meaning for the same operator accroding to the context we use operator overloading."
   ]
  },
  {
   "cell_type": "markdown",
   "id": "b58fed84",
   "metadata": {},
   "source": [
    "#### Q8. What is the most popular form of operator overloading?"
   ]
  },
  {
   "cell_type": "markdown",
   "id": "3704232a",
   "metadata": {},
   "source": [
    "Ans =  The most popular form of operator overloading in python is by special methods called <b>Magic methods</b>. Which usually beign and end with double underscore` __<method name>__`."
   ]
  },
  {
   "cell_type": "markdown",
   "id": "e2df699e",
   "metadata": {},
   "source": [
    "#### Q9. What are the two most important concepts to grasp in order to comprehend Python OOP code?"
   ]
  },
  {
   "cell_type": "markdown",
   "id": "151898e1",
   "metadata": {},
   "source": [
    "Ans = Classes and objects are the two concepts to comprehend python OOP code as more formally objects are entities that represent instances of general abstract concept called class"
   ]
  },
  {
   "cell_type": "code",
   "execution_count": null,
   "id": "1eabf84f",
   "metadata": {},
   "outputs": [],
   "source": []
  }
 ],
 "metadata": {
  "kernelspec": {
   "display_name": "Python 3 (ipykernel)",
   "language": "python",
   "name": "python3"
  },
  "language_info": {
   "codemirror_mode": {
    "name": "ipython",
    "version": 3
   },
   "file_extension": ".py",
   "mimetype": "text/x-python",
   "name": "python",
   "nbconvert_exporter": "python",
   "pygments_lexer": "ipython3",
   "version": "3.9.6"
  }
 },
 "nbformat": 4,
 "nbformat_minor": 5
}
