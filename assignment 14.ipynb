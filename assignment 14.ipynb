{
 "cells": [
  {
   "cell_type": "markdown",
   "id": "9cd58220",
   "metadata": {},
   "source": [
    "### 1.What does RGBA stand for?\n"
   ]
  },
  {
   "cell_type": "markdown",
   "id": "811ff76c",
   "metadata": {},
   "source": [
    "RGBA which stands for red,green,blue, and alpha. which are primary colors and opacity value"
   ]
  },
  {
   "cell_type": "markdown",
   "id": "2b804e89",
   "metadata": {},
   "source": [
    "### 2.From the Pillow module, how do you get the RGBA value of any images?\n"
   ]
  },
  {
   "cell_type": "markdown",
   "id": "bb0043ea",
   "metadata": {},
   "source": [
    "ImageColor.getcolor() returns rgba value of any image\n",
    "\n"
   ]
  },
  {
   "cell_type": "markdown",
   "id": "d9cf8a19",
   "metadata": {},
   "source": [
    "### 3.What is a box tuple, and how does it work?\n"
   ]
  },
  {
   "cell_type": "markdown",
   "id": "b9813224",
   "metadata": {},
   "source": [
    "A box tuple is a tuple value of four integers: the left-edge x-coordinate, the top-edge y-coordinate,the width, and the height, respectively."
   ]
  },
  {
   "cell_type": "markdown",
   "id": "cc8d0818",
   "metadata": {},
   "source": [
    "### 4.Use your image and load in notebook then, How can you find out the width and height of an  Image object?"
   ]
  },
  {
   "cell_type": "code",
   "execution_count": 6,
   "id": "395a0d97",
   "metadata": {},
   "outputs": [
    {
     "name": "stdout",
     "output_type": "stream",
     "text": [
      "Width, Height: (940, 550)\n"
     ]
    }
   ],
   "source": [
    "#Example\n",
    "from PIL import Image\n",
    "pic = Image.open(\"imageSasha.jpg\")\n",
    "print(f\"Width, Height: {pic.size}\")"
   ]
  },
  {
   "cell_type": "markdown",
   "id": "78657279",
   "metadata": {},
   "source": [
    "### 5.what method would you call to get Image object for a 100×100 image, excluding the lower-left quarter of it?"
   ]
  },
  {
   "cell_type": "code",
   "execution_count": 11,
   "id": "944bb628",
   "metadata": {},
   "outputs": [
    {
     "data": {
      "text/plain": [
       "(100, 0)"
      ]
     },
     "execution_count": 11,
     "metadata": {},
     "output_type": "execute_result"
    }
   ],
   "source": [
    "img = Image.open(\"imageSasha.jpg\")\n",
    "img_cr = img.crop((0,100,100,100))\n",
    "# img_cr\n",
    "img_cr.size"
   ]
  },
  {
   "cell_type": "markdown",
   "id": "84f59a6d",
   "metadata": {},
   "source": [
    "### 6.After making changes to an Image object, how could you save it as an image file?\n"
   ]
  },
  {
   "cell_type": "code",
   "execution_count": 15,
   "id": "a4ffcb58",
   "metadata": {},
   "outputs": [],
   "source": [
    "img = Image.open('imageSasha.jpg')\n",
    "img.save(\"Sasha2.jpg\")\n",
    "# img"
   ]
  },
  {
   "cell_type": "markdown",
   "id": "2d198b6b",
   "metadata": {},
   "source": [
    "### 7.What module contains Pillow’s shape-drawing code?\n"
   ]
  },
  {
   "cell_type": "markdown",
   "id": "915573ad",
   "metadata": {},
   "source": [
    "Pillows \"ImageDraw\" module contains Shape drawing methods"
   ]
  },
  {
   "cell_type": "markdown",
   "id": "80ff3fbc",
   "metadata": {},
   "source": [
    "### 8.Image objects do not have drawing methods. What kind of object does? How do you get this kind of object"
   ]
  },
  {
   "cell_type": "markdown",
   "id": "2219a1a0",
   "metadata": {},
   "source": [
    "ImageDraw objects have shape-drawing methods such as point(), line(), or rectangle().\n",
    "    \n",
    "They are returned by passing the Image object to the ImageDraw.Draw() function."
   ]
  },
  {
   "cell_type": "code",
   "execution_count": null,
   "id": "0d804e86",
   "metadata": {},
   "outputs": [],
   "source": []
  }
 ],
 "metadata": {
  "kernelspec": {
   "display_name": "Python 3 (ipykernel)",
   "language": "python",
   "name": "python3"
  },
  "language_info": {
   "codemirror_mode": {
    "name": "ipython",
    "version": 3
   },
   "file_extension": ".py",
   "mimetype": "text/x-python",
   "name": "python",
   "nbconvert_exporter": "python",
   "pygments_lexer": "ipython3",
   "version": "3.9.6"
  }
 },
 "nbformat": 4,
 "nbformat_minor": 5
}
