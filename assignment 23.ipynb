{
 "cells": [
  {
   "cell_type": "markdown",
   "id": "492c6235",
   "metadata": {},
   "source": [
    "#### 1.What is the result of the code, and why?\n",
    "&gt;&gt;&gt; def func(a, b=6, c=8):                                       \n",
    "print(a, b, c)                                \n",
    "&gt;&gt;&gt; func(1, 2)                                            "
   ]
  },
  {
   "cell_type": "code",
   "execution_count": 2,
   "id": "f6a69821",
   "metadata": {},
   "outputs": [],
   "source": [
    "def func(a,b=6,c=8):\n",
    "    print(a,b,c)"
   ]
  },
  {
   "cell_type": "code",
   "execution_count": 3,
   "id": "a8e5bceb",
   "metadata": {},
   "outputs": [
    {
     "name": "stdout",
     "output_type": "stream",
     "text": [
      "1 2 8\n"
     ]
    }
   ],
   "source": [
    "func(1,2)"
   ]
  },
  {
   "cell_type": "markdown",
   "id": "a126e3c7",
   "metadata": {},
   "source": [
    "reason : we defined values abc in function and values for b and c in function,\n",
    "    but when we called the function  we gave values as 1,2 so the function considers these new values for variable in function which repaced b as 2 and set a as 1"
   ]
  },
  {
   "cell_type": "markdown",
   "id": "75a208d6",
   "metadata": {},
   "source": [
    "\n",
    "#### 2.What is the result of this code, and why?\n",
    "&gt;&gt;&gt; def func(a, b, c=5):               \n",
    "print(a, b, c)                        \n",
    "&gt;&gt;&gt; func(1, c=3, b=2)                        "
   ]
  },
  {
   "cell_type": "code",
   "execution_count": 5,
   "id": "924fba43",
   "metadata": {},
   "outputs": [
    {
     "name": "stdout",
     "output_type": "stream",
     "text": [
      "1 3 3\n"
     ]
    }
   ],
   "source": [
    "def func(a,b,c=5):\n",
    "    print(a,b,c)\n",
    "func(1,c=3,b=3)"
   ]
  },
  {
   "cell_type": "markdown",
   "id": "843d1dcf",
   "metadata": {},
   "source": [
    "reason : we defined values in function but when we are calling the function we are overwritting the function with new values so in output we will get the latest values"
   ]
  },
  {
   "cell_type": "markdown",
   "id": "8dee130e",
   "metadata": {},
   "source": [
    "##### 3.How about this code: what is its result, and why?\n",
    "&gt;&gt;&gt; def func(a, *pargs):                      \n",
    "print(a, pargs)                             \n",
    "&gt;&gt;&gt; func(1, 2, 3)                            "
   ]
  },
  {
   "cell_type": "code",
   "execution_count": 9,
   "id": "56473895",
   "metadata": {},
   "outputs": [],
   "source": [
    "def func (a,*pargs):\n",
    "    print(a,*pargs)"
   ]
  },
  {
   "cell_type": "code",
   "execution_count": 8,
   "id": "aa13a5c9",
   "metadata": {},
   "outputs": [
    {
     "name": "stdout",
     "output_type": "stream",
     "text": [
      "1 2 3\n"
     ]
    }
   ],
   "source": [
    "func(1,2,3)"
   ]
  },
  {
   "cell_type": "markdown",
   "id": "727961b7",
   "metadata": {},
   "source": [
    "The result of the code is 1,2,3.\n",
    "*pargs stands for variable length arguments.\n",
    "this format is used when we are not sure about the no of arguments to be passed to a function."
   ]
  },
  {
   "cell_type": "markdown",
   "id": "6622808d",
   "metadata": {},
   "source": [
    "#### 4.What does this code print, and why?\n",
    "&gt;&gt;&gt; def func(a, **kargs):                      \n",
    "print(a, kargs)             \n",
    "&gt;&gt;&gt; func(a=1, c=3, b=2)                        "
   ]
  },
  {
   "cell_type": "code",
   "execution_count": 12,
   "id": "a64e36b2",
   "metadata": {},
   "outputs": [
    {
     "name": "stdout",
     "output_type": "stream",
     "text": [
      "1 {'c': 3, 'b': 2}\n"
     ]
    }
   ],
   "source": [
    "def func(a,**kargs):\n",
    "    print(a,kargs)\n",
    "func(a=1,c=3,b=2)"
   ]
  },
  {
   "cell_type": "markdown",
   "id": "772602b9",
   "metadata": {},
   "source": [
    "`**args` are used to pass variable lenght arguments in a function.this argument store the value in form of dictioinary(key value pairs)"
   ]
  },
  {
   "cell_type": "markdown",
   "id": "b6a8e1a2",
   "metadata": {},
   "source": [
    "\n",
    "\n",
    "#### 5. What gets printed by this, and explain? \n",
    "&gt;&gt;&gt; def func(a, b, c=8, d=5): print(a, b, c, d)                                          \n",
    "&gt;&gt;&gt; func(1, *(5, 6))                           "
   ]
  },
  {
   "cell_type": "code",
   "execution_count": 13,
   "id": "4b5d5686",
   "metadata": {},
   "outputs": [
    {
     "name": "stdout",
     "output_type": "stream",
     "text": [
      "1 5 6 5\n"
     ]
    }
   ],
   "source": [
    "def func(a,b,c=8,d=5):\n",
    "    print(a,b,c,d)\n",
    "func(1,*(5,6))"
   ]
  },
  {
   "cell_type": "markdown",
   "id": "5eb9de51",
   "metadata": {},
   "source": [
    "we are getting this o/p because this fuction take 4 arguments while we are passing values for a as 1 while we passed `*(5,6)` as variable argument\n",
    "so function consider this values for b and c resp. while value for d is defined already "
   ]
  },
  {
   "cell_type": "markdown",
   "id": "0b886368",
   "metadata": {},
   "source": [
    "\n",
    "#### 6.what is the result of this, and explain?\n",
    "&gt;&gt;&gt; def func(a, b, c): a = 2; b[0] = &#39;x&#39;; c[&#39;a&#39;] = &#39;y&#39;                                \n",
    "&gt;&gt;&gt; l=1; m=[1]; n={&#39;a&#39;:0}                        \n",
    "&gt;&gt;&gt; func(l, m, n)                           \n",
    "\n",
    "&gt;&gt;&gt; l, m, n                                 "
   ]
  },
  {
   "cell_type": "code",
   "execution_count": 14,
   "id": "814cdb9e",
   "metadata": {},
   "outputs": [
    {
     "data": {
      "text/plain": [
       "(1, ['x'], {'a': 'y'})"
      ]
     },
     "execution_count": 14,
     "metadata": {},
     "output_type": "execute_result"
    }
   ],
   "source": [
    "def func(a, b, c): a = 2; b[0] = 'x'; c['a'] = 'y'\n",
    "l=1; m=[1]; n={'a':0}\n",
    "func(l, m, n)\n",
    "l,m,n"
   ]
  },
  {
   "cell_type": "markdown",
   "id": "7e57978e",
   "metadata": {},
   "source": [
    "Python require indentation. but it has facility to declare an entire function in one single line. where statements in a function body are sepereated by ;                                                                       \n",
    "When l,m,n are provided as inputs to the function. its modifies the values of l,m,n and sets the value of l=2 ,m=['x'] and n={'a':'y'}"
   ]
  },
  {
   "cell_type": "markdown",
   "id": "8f93e27d",
   "metadata": {},
   "source": [
    "#### with identation it would be like this "
   ]
  },
  {
   "cell_type": "code",
   "execution_count": 15,
   "id": "0685c74d",
   "metadata": {},
   "outputs": [],
   "source": [
    "def func(a,b,c):\n",
    "    a = 2\n",
    "    b[0] = \"x\"\n",
    "    c[\"a\"]=\"y\"\n",
    "    l=1\n",
    "    m=[1]\n",
    "    n={\"a\":0}\n",
    "    \n",
    "func(l,m,n)\n",
    "    "
   ]
  },
  {
   "cell_type": "code",
   "execution_count": 16,
   "id": "72c95e74",
   "metadata": {},
   "outputs": [
    {
     "data": {
      "text/plain": [
       "(1, ['x'], {'a': 'y'})"
      ]
     },
     "execution_count": 16,
     "metadata": {},
     "output_type": "execute_result"
    }
   ],
   "source": [
    "l,m,n"
   ]
  },
  {
   "cell_type": "code",
   "execution_count": null,
   "id": "967fe21b",
   "metadata": {},
   "outputs": [],
   "source": []
  }
 ],
 "metadata": {
  "kernelspec": {
   "display_name": "Python 3 (ipykernel)",
   "language": "python",
   "name": "python3"
  },
  "language_info": {
   "codemirror_mode": {
    "name": "ipython",
    "version": 3
   },
   "file_extension": ".py",
   "mimetype": "text/x-python",
   "name": "python",
   "nbconvert_exporter": "python",
   "pygments_lexer": "ipython3",
   "version": "3.9.6"
  }
 },
 "nbformat": 4,
 "nbformat_minor": 5
}
