{
 "cells": [
  {
   "cell_type": "markdown",
   "id": "6c38f546",
   "metadata": {},
   "source": [
    "#### 1. What is the relationship between def statements and lambda expressions ?\n"
   ]
  },
  {
   "cell_type": "markdown",
   "id": "dfe0efec",
   "metadata": {},
   "source": [
    "lambda is used to pass function as argument in single line of code. def statement is used to create a normal function. lambda can be assigned to a variable and can be called using the variable later in function.\n",
    "\n",
    "Lambda's body is a single expression and not a block of statements like def statement. The lambda expression's body is similar to what we'd put in a def body's return statement."
   ]
  },
  {
   "cell_type": "markdown",
   "id": "12bf0229",
   "metadata": {},
   "source": [
    "#### 2. What is the benefit of lambda?\n"
   ]
  },
  {
   "cell_type": "markdown",
   "id": "f316a6a4",
   "metadata": {},
   "source": [
    "1. Can be used to create Anonymous functions inside some complex functions if we are planning to use it only once.\n",
    "2.Moderate to small functions can be created in a single line\n",
    "3.Fuctions created using lambda expressions can be assigned to a variable and can be used by simply calling the variable"
   ]
  },
  {
   "cell_type": "markdown",
   "id": "cde2bf26",
   "metadata": {},
   "source": [
    "##### 3. Compare and contrast map, filter, and reduce.\n"
   ]
  },
  {
   "cell_type": "markdown",
   "id": "27a252be",
   "metadata": {},
   "source": [
    "`map()`:map function takes another function as a parameter along with a sequence of iterables and returns an output after applying the function to each iterable present in the sequence. output is mostly whole list that is passed  \n",
    "\n",
    "`filter()`: The filter() function is used to create an output list consisting of values for which the function returns true.   output is only those value that satistfies the function                 \n",
    "\n",
    "`reduce()`: The reduce() function, as the name describes, applies a given function to the iterables and output is a single value"
   ]
  },
  {
   "cell_type": "markdown",
   "id": "1ce5bd49",
   "metadata": {},
   "source": [
    "#### 4. What are function annotations, and how are they used?\n"
   ]
  },
  {
   "cell_type": "markdown",
   "id": "8cac1263",
   "metadata": {},
   "source": [
    "Function annotations provide a way of associating various parts of a function with arbitrary python expressions during run time.\n",
    "Annotations of simple parameters `def func(x: exp, y: exp = 20):`\n",
    "Whereas the annotations for excess parameters are :`def func (**args: exp, **kwargs: exp):`"
   ]
  },
  {
   "cell_type": "markdown",
   "id": "0cc20168",
   "metadata": {},
   "source": [
    "#### 5. What are recursive functions, and how are they used?"
   ]
  },
  {
   "cell_type": "markdown",
   "id": "b2ca26f6",
   "metadata": {},
   "source": [
    "recursive function is a function that calls itself during its execution. \n",
    "The process may repeat several times, outputting the result and the end of each iteration."
   ]
  },
  {
   "cell_type": "code",
   "execution_count": 6,
   "id": "531e11b5",
   "metadata": {},
   "outputs": [
    {
     "name": "stdout",
     "output_type": "stream",
     "text": [
      "recursion o/p:\n",
      "1\n",
      "3\n",
      "6\n",
      "10\n",
      "15\n",
      "21\n",
      "28\n",
      "36\n",
      "45\n",
      "55\n"
     ]
    },
    {
     "data": {
      "text/plain": [
       "55"
      ]
     },
     "execution_count": 6,
     "metadata": {},
     "output_type": "execute_result"
    }
   ],
   "source": [
    "def rec(i):\n",
    "    if(i>0):\n",
    "        r = i+rec(i-1)\n",
    "        print(r)\n",
    "    else:\n",
    "        r = 0\n",
    "    return r\n",
    "\n",
    "\n",
    "print(\"recursion o/p:\")\n",
    "rec(10)"
   ]
  },
  {
   "cell_type": "markdown",
   "id": "b396e4f3",
   "metadata": {},
   "source": [
    "##### 6. What are some general design guidelines for coding functions?\n"
   ]
  },
  {
   "cell_type": "markdown",
   "id": "d1b36acf",
   "metadata": {},
   "source": [
    "1.use a comments to explain the functionality of the function.               \n",
    "2.using less global variables.                    \n",
    "3.Proper Identation.                                    \n",
    "4.stick to single type of naming convention while giving function names :PascalCase or camelCase.                                                      \n",
    "5.not to use digits while giving variable name.            \n",
    "6.try to use a name for the function which conveys the purpose of the function                             \n",
    "7.Local variables should be named using camelCase format.use PascalCase for naming global variables              "
   ]
  },
  {
   "cell_type": "markdown",
   "id": "ec5f52a8",
   "metadata": {},
   "source": [
    "#### 7 Name three or more ways that functions can communicate results to a caller."
   ]
  },
  {
   "cell_type": "markdown",
   "id": "23931b8f",
   "metadata": {},
   "source": [
    "return statement                            \n",
    "print statement             \n",
    "yield statement"
   ]
  },
  {
   "cell_type": "code",
   "execution_count": null,
   "id": "ea2c0bbe",
   "metadata": {},
   "outputs": [],
   "source": []
  }
 ],
 "metadata": {
  "kernelspec": {
   "display_name": "Python 3 (ipykernel)",
   "language": "python",
   "name": "python3"
  },
  "language_info": {
   "codemirror_mode": {
    "name": "ipython",
    "version": 3
   },
   "file_extension": ".py",
   "mimetype": "text/x-python",
   "name": "python",
   "nbconvert_exporter": "python",
   "pygments_lexer": "ipython3",
   "version": "3.9.6"
  }
 },
 "nbformat": 4,
 "nbformat_minor": 5
}
