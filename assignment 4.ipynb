{
 "cells": [
  {
   "cell_type": "markdown",
   "id": "2eecb046",
   "metadata": {},
   "source": [
    "1.What exactly is []?                                           \n",
    "2.In a list of values stored in a variable called spam, how would you assign the value &#39;hello&#39; as the\n",
    "third value? (Assume [2, 4, 6, 8, 10] are in spam.)\n",
    "\n",
    "                                                                          \n",
    "Let&#39;s pretend the spam includes the list [&#39;a&#39;, &#39;b&#39;, &#39;c&#39;, &#39;d&#39;] for the next three queries.                              \n",
    "3.What is the value of spam[int(int(&#39;3&#39; * 2) / 11)]?                                            \n",
    "4.What is the value of spam[-1]?                                        \n",
    "5.What is the value of spam[:2]?                                             \n",
    "Let&#39;s pretend bacon has the list [3.14, &#39;cat,&#39; 11, &#39;cat,&#39; True] for the next three questions.                               \n",
    "6.What is the value of bacon.index(&#39;cat&#39;)?                               \n",
    "7.How does bacon.append(99) change the look of the list value in bacon?                                  \n",
    "8.How does bacon.remove(&#39;cat&#39;) change the look of the list in bacon?                                 \n",
    "9.What are the list concatenation and list replication operators?                                 \n",
    "10.What is difference between the list methods append() and insert()?                                   \n",
    "11.What are the two methods for removing items from a list?                                                 \n",
    "12.Describe how list values and string values are identical.                                          \n",
    "13.What&#39;s the difference between tuples and lists?                                           \n",
    "14.How do you type a tuple value that only contains the integer 42?                                            \n",
    "15.How do you get a list value&#39;s tuple form? How do you get a tuple value&#39;s list form?                                                            \n",
    "16.Variables that &quot;contain&quot; list values are not necessarily lists themselves. Instead, what do they contain?                        \n",
    "17.How do you distinguish between copy.copy() and copy.deepcopy()?                                   "
   ]
  },
  {
   "cell_type": "markdown",
   "id": "04cfbb87",
   "metadata": {},
   "source": [
    ">ans 1 =  used to initialize empty list value, which is a list value that contains no items or value."
   ]
  },
  {
   "cell_type": "code",
   "execution_count": 1,
   "id": "9bfe3d82",
   "metadata": {},
   "outputs": [],
   "source": [
    "spam = [2, 4, 6, 8, 10]"
   ]
  },
  {
   "cell_type": "code",
   "execution_count": 2,
   "id": "02c0523f",
   "metadata": {},
   "outputs": [],
   "source": [
    "spam[2] = 'hello'"
   ]
  },
  {
   "cell_type": "code",
   "execution_count": 3,
   "id": "2a49c9ed",
   "metadata": {},
   "outputs": [
    {
     "data": {
      "text/plain": [
       "[2, 4, 'hello', 8, 10]"
      ]
     },
     "execution_count": 3,
     "metadata": {},
     "output_type": "execute_result"
    }
   ],
   "source": [
    "spam"
   ]
  },
  {
   "cell_type": "code",
   "execution_count": 6,
   "id": "cb7529b6",
   "metadata": {},
   "outputs": [],
   "source": [
    "spam=['a', 'b', 'c', 'd']"
   ]
  },
  {
   "cell_type": "markdown",
   "id": "809a9107",
   "metadata": {},
   "source": [
    "ans 3 = 'd'"
   ]
  },
  {
   "cell_type": "code",
   "execution_count": 7,
   "id": "59495756",
   "metadata": {},
   "outputs": [
    {
     "data": {
      "text/plain": [
       "'d'"
      ]
     },
     "execution_count": 7,
     "metadata": {},
     "output_type": "execute_result"
    }
   ],
   "source": [
    "spam[int(int('3' * 2) / 11)]"
   ]
  },
  {
   "cell_type": "code",
   "execution_count": 8,
   "id": "ab4bb876",
   "metadata": {},
   "outputs": [
    {
     "data": {
      "text/plain": [
       "'d'"
      ]
     },
     "execution_count": 8,
     "metadata": {},
     "output_type": "execute_result"
    }
   ],
   "source": [
    "spam[-1]"
   ]
  },
  {
   "cell_type": "code",
   "execution_count": 9,
   "id": "36e054cf",
   "metadata": {},
   "outputs": [
    {
     "data": {
      "text/plain": [
       "['a', 'b']"
      ]
     },
     "execution_count": 9,
     "metadata": {},
     "output_type": "execute_result"
    }
   ],
   "source": [
    "spam[:2]"
   ]
  },
  {
   "cell_type": "code",
   "execution_count": 19,
   "id": "968faf82",
   "metadata": {},
   "outputs": [],
   "source": [
    "bacon = [3.14, 'cat', 11, 'cat', True]"
   ]
  },
  {
   "cell_type": "code",
   "execution_count": 20,
   "id": "7ccbd2fe",
   "metadata": {},
   "outputs": [
    {
     "data": {
      "text/plain": [
       "1"
      ]
     },
     "execution_count": 20,
     "metadata": {},
     "output_type": "execute_result"
    }
   ],
   "source": [
    "bacon.index(\"cat\")"
   ]
  },
  {
   "cell_type": "code",
   "execution_count": 21,
   "id": "2a454ed8",
   "metadata": {},
   "outputs": [],
   "source": [
    "bacon.append(99) "
   ]
  },
  {
   "cell_type": "code",
   "execution_count": 22,
   "id": "df796995",
   "metadata": {},
   "outputs": [
    {
     "data": {
      "text/plain": [
       "[3.14, 'cat', 11, 'cat', True, 99]"
      ]
     },
     "execution_count": 22,
     "metadata": {},
     "output_type": "execute_result"
    }
   ],
   "source": [
    "bacon"
   ]
  },
  {
   "cell_type": "code",
   "execution_count": 23,
   "id": "021b5c69",
   "metadata": {},
   "outputs": [],
   "source": [
    "bacon.remove('cat')"
   ]
  },
  {
   "cell_type": "code",
   "execution_count": 24,
   "id": "03a3ba21",
   "metadata": {},
   "outputs": [
    {
     "data": {
      "text/plain": [
       "[3.14, 11, 'cat', True, 99]"
      ]
     },
     "execution_count": 24,
     "metadata": {},
     "output_type": "execute_result"
    }
   ],
   "source": [
    "bacon"
   ]
  },
  {
   "cell_type": "markdown",
   "id": "138b6724",
   "metadata": {},
   "source": [
    "9. ans = The operator for list concatenation is +, while the operator for replication is *."
   ]
  },
  {
   "cell_type": "markdown",
   "id": "e0d11045",
   "metadata": {},
   "source": [
    "10. ans = While append() will add values only to the end of a list, insert() can add them anywhere in the list"
   ]
  },
  {
   "cell_type": "markdown",
   "id": "48ee5e0c",
   "metadata": {},
   "source": [
    "11. ans = The del statement and the remove() list method are two ways to remove values from a list."
   ]
  },
  {
   "cell_type": "markdown",
   "id": "1a3a3b64",
   "metadata": {},
   "source": [
    "12. ans = Both lists and strings can be passed to len(), have indexes and slices, be used in for loops, be concatenated or replicated, and be used with the in and not in operators."
   ]
  },
  {
   "cell_type": "markdown",
   "id": "ac9669cb",
   "metadata": {},
   "source": [
    "13. ans = Lists are mutable; they can have values added, removed, or changed. \n",
    "Tuples are immutable; they cannot be changed at all. Also, tuples are written using parentheses (), while lists use the square brackets[]."
   ]
  },
  {
   "cell_type": "code",
   "execution_count": 29,
   "id": "50bd8527",
   "metadata": {},
   "outputs": [],
   "source": [
    "#14 \n",
    "tup =(42,)"
   ]
  },
  {
   "cell_type": "code",
   "execution_count": 30,
   "id": "497b9f6a",
   "metadata": {},
   "outputs": [
    {
     "data": {
      "text/plain": [
       "tuple"
      ]
     },
     "execution_count": 30,
     "metadata": {},
     "output_type": "execute_result"
    }
   ],
   "source": [
    "type(tup)"
   ]
  },
  {
   "cell_type": "markdown",
   "id": "63285222",
   "metadata": {},
   "source": [
    "#15\n",
    "The tuple() and list() functions, respectively"
   ]
  },
  {
   "cell_type": "markdown",
   "id": "72bab679",
   "metadata": {},
   "source": [
    "#16  They contain references to list values."
   ]
  },
  {
   "cell_type": "markdown",
   "id": "c30e76dd",
   "metadata": {},
   "source": [
    "#17\n",
    "The copy.copy() function will do a shallow copy of a list, while the copy.deepcopy() function will do a deep copy of a list. copy.deepcopy() will duplicate any lists inside the list."
   ]
  },
  {
   "cell_type": "code",
   "execution_count": null,
   "id": "e8016545",
   "metadata": {},
   "outputs": [],
   "source": []
  }
 ],
 "metadata": {
  "kernelspec": {
   "display_name": "Python 3 (ipykernel)",
   "language": "python",
   "name": "python3"
  },
  "language_info": {
   "codemirror_mode": {
    "name": "ipython",
    "version": 3
   },
   "file_extension": ".py",
   "mimetype": "text/x-python",
   "name": "python",
   "nbconvert_exporter": "python",
   "pygments_lexer": "ipython3",
   "version": "3.9.6"
  }
 },
 "nbformat": 4,
 "nbformat_minor": 5
}
