{
 "cells": [
  {
   "cell_type": "markdown",
   "id": "0aa13046",
   "metadata": {},
   "source": [
    "## assignment 6"
   ]
  },
  {
   "cell_type": "markdown",
   "id": "041003bd",
   "metadata": {},
   "source": [
    "1.What are escape characters, and how do you use them?\n",
    "> \\n and \\t are escape characters.Escape characters represent characters in string values that would otherwise be difficult or impossible to type into code \n",
    "\n",
    "2.What do the escape characters n and t stand for?\n",
    ">\\n creates a newline and \\t creates a tab (space)                                                \n",
    "\n",
    "3.What is the way to include backslash characters in a string?\n",
    ">The \\\\ escape character will represent a backslash character                                            \n",
    "\n",
    "4.The string &quot;Howl&#39;s Moving Castle&quot; is a correct value. Why isn&#39;t the single quote character in the\n",
    "word Howl&#39;s not escaped a problem?\n",
    ">The single quote in Howl's is fine because we've used double quotes to mark the beginning and end of the string\n",
    "                                                   \n",
    "5.How do you write a string of newlines if you don&#39;t want to use the n character?\n",
    "> Multiline strings allow you to use newlines in strings without the \\n escape character.                                           \n"
   ]
  },
  {
   "cell_type": "markdown",
   "id": "b13a87bc",
   "metadata": {},
   "source": [
    "6.What are the values of the given expressions?\n",
    "\n",
    "&#39;Hello, world!&#39;[1]\n",
    "&#39;Hello, world!&#39;[0:5]\n",
    "&#39;Hello, world!&#39;[:5]\n",
    "&#39;Hello, world!&#39;[3:]\n",
    "\n",
    ">'e'                                          \n",
    ">'Hello'\n",
    "\n",
    ">'Hello'\n",
    "\n",
    ">'lo world!"
   ]
  },
  {
   "cell_type": "markdown",
   "id": "62e3606e",
   "metadata": {},
   "source": [
    "7. What are the values of the following expressions?\n",
    "&#39;Hello&#39;.upper()\n",
    "&#39;Hello&#39;.upper().isupper()\n",
    "&#39;Hello&#39;.upper().lower()\n",
    "\n",
    ">\"HELLO\"\n",
    "\n",
    ">\"True\"\n",
    "\n",
    ">\"hello\"\n",
    "\n"
   ]
  },
  {
   "cell_type": "markdown",
   "id": "b0c60000",
   "metadata": {},
   "source": [
    "8. What are the values of the following expressions?\n",
    "&#39;Remember, remember, the fifth of July.&#39;.split()\n",
    "&#39;-&#39;.join(&#39;There can only one.&#39;.split())\n",
    ">\n"
   ]
  },
  {
   "cell_type": "code",
   "execution_count": 3,
   "id": "145af690",
   "metadata": {},
   "outputs": [
    {
     "data": {
      "text/plain": [
       "['Remember,', 'remember,', 'the', 'fifth', 'of', 'July']"
      ]
     },
     "execution_count": 3,
     "metadata": {},
     "output_type": "execute_result"
    }
   ],
   "source": [
    "\"Remember, remember, the fifth of July\".split()"
   ]
  },
  {
   "cell_type": "code",
   "execution_count": 5,
   "id": "db185094",
   "metadata": {},
   "outputs": [
    {
     "data": {
      "text/plain": [
       "'There-can-only-one.'"
      ]
     },
     "execution_count": 5,
     "metadata": {},
     "output_type": "execute_result"
    }
   ],
   "source": [
    "\"-\".join(\"There can only one.\".split())"
   ]
  },
  {
   "cell_type": "markdown",
   "id": "e882aa09",
   "metadata": {},
   "source": [
    "9.What are the methods for right-justifying, left-justifying, and centering a string?\n",
    ">The rjust(), ljust(), and center() string methods, respectively\n",
    "                                                \n",
    "\n",
    "10. What is the best way to remove whitespace characters from the start or end?\n",
    ">strip()                                    \n",
    "The lstrip() and rstrip() methods remove whitespace from the left and right ends of a string, respectively.\n",
    "\n",
    "                    "
   ]
  },
  {
   "cell_type": "code",
   "execution_count": null,
   "id": "a2e5c74a",
   "metadata": {},
   "outputs": [],
   "source": []
  }
 ],
 "metadata": {
  "kernelspec": {
   "display_name": "Python 3 (ipykernel)",
   "language": "python",
   "name": "python3"
  },
  "language_info": {
   "codemirror_mode": {
    "name": "ipython",
    "version": 3
   },
   "file_extension": ".py",
   "mimetype": "text/x-python",
   "name": "python",
   "nbconvert_exporter": "python",
   "pygments_lexer": "ipython3",
   "version": "3.9.6"
  }
 },
 "nbformat": 4,
 "nbformat_minor": 5
}
