{
 "cells": [
  {
   "cell_type": "markdown",
   "id": "3a495dca",
   "metadata": {},
   "source": [
    "#### 1.What is the result of the code, and explain?                        \n",
    "\n",
    "&gt;&gt;&gt; X = &#39;iNeuron&#39;                     \n",
    "&gt;&gt;&gt; def func():                                \n",
    "print(X)                      \n",
    "\n",
    "&gt;&gt;&gt; func()                  "
   ]
  },
  {
   "cell_type": "code",
   "execution_count": 1,
   "id": "cebdac11",
   "metadata": {},
   "outputs": [
    {
     "name": "stdout",
     "output_type": "stream",
     "text": [
      "iNeuron\n"
     ]
    }
   ],
   "source": [
    "x = \"iNeuron\"\n",
    "def func():\n",
    "    print(x)\n",
    "    \n",
    "func()"
   ]
  },
  {
   "cell_type": "markdown",
   "id": "1a84333d",
   "metadata": {},
   "source": [
    "we initialized a string to variable called x and then made a function to print that string and finally we called the fuction which is now printing the value of x"
   ]
  },
  {
   "cell_type": "markdown",
   "id": "a5ca1b2a",
   "metadata": {},
   "source": [
    "\n",
    "##### 2. What is the result of the code, and explain?\n",
    "\n",
    "&gt;&gt;&gt; X = &#39;iNeuron&#39;                                \n",
    "&gt;&gt;&gt; def func():                    \n",
    "X = &#39;NI!&#39;                \n",
    "\n",
    "&gt;&gt;&gt; func()                  \n",
    "&gt;&gt;&gt; print(X)                \n",
    "                        "
   ]
  },
  {
   "cell_type": "code",
   "execution_count": 2,
   "id": "1c658a1a",
   "metadata": {},
   "outputs": [
    {
     "name": "stdout",
     "output_type": "stream",
     "text": [
      "n!\n"
     ]
    }
   ],
   "source": [
    "x = \"ineuron\"\n",
    "def func():\n",
    "    x=\"n!\"\n",
    "    print(x)\n",
    "    \n",
    "func()"
   ]
  },
  {
   "cell_type": "code",
   "execution_count": 3,
   "id": "f7610eae",
   "metadata": {},
   "outputs": [
    {
     "name": "stdout",
     "output_type": "stream",
     "text": [
      "ineuron\n"
     ]
    }
   ],
   "source": [
    "print(x)"
   ]
  },
  {
   "cell_type": "markdown",
   "id": "3f0ed8c5",
   "metadata": {},
   "source": [
    "so here we defined a global variable and a local variable which are x = \"ineuron\" ,and x=\"n!\" when we call function it will \n",
    "print local variable x= \"n!\" but if we called variable specifically it will print global variable x=\"ineuron\""
   ]
  },
  {
   "cell_type": "markdown",
   "id": "de2ecdff",
   "metadata": {},
   "source": [
    "#### 3.What does this code print, and why?\n",
    "\n",
    "&gt;&gt;&gt; X = &#39;iNeuron&#39;                        \n",
    "&gt;&gt;&gt; def func():                 \n",
    "X = &#39;NI&#39;                      \n",
    "print(X)                   \n",
    "\n",
    "&gt;&gt;&gt; func()                   \n",
    "&gt;&gt;&gt; print(X)                    "
   ]
  },
  {
   "cell_type": "code",
   "execution_count": 4,
   "id": "01f52116",
   "metadata": {},
   "outputs": [
    {
     "name": "stdout",
     "output_type": "stream",
     "text": [
      "ni\n"
     ]
    }
   ],
   "source": [
    "x = \"ineuron\"\n",
    "def func():\n",
    "    x=\"ni\"\n",
    "    print(x)\n",
    "func()"
   ]
  },
  {
   "cell_type": "code",
   "execution_count": 5,
   "id": "ed897871",
   "metadata": {},
   "outputs": [
    {
     "name": "stdout",
     "output_type": "stream",
     "text": [
      "ineuron\n"
     ]
    }
   ],
   "source": [
    "print(x)"
   ]
  },
  {
   "cell_type": "markdown",
   "id": "ef5005e8",
   "metadata": {},
   "source": [
    "function is printing local variable but when we print x we will get global variable in result "
   ]
  },
  {
   "cell_type": "markdown",
   "id": "0023d42d",
   "metadata": {},
   "source": [
    "\n",
    "#### 4.What output does this code produce? Why?\n",
    "\n",
    "&gt;&gt;&gt; X = &#39;iNeuron&#39;              \n",
    "&gt;&gt;&gt; def func():                                    \n",
    "global X                         \n",
    "X = &#39;NI&#39;                       \n",
    "\n",
    "&gt;&gt;&gt; func()                  \n",
    "&gt;&gt;&gt; print(X)                "
   ]
  },
  {
   "cell_type": "code",
   "execution_count": 6,
   "id": "d831651f",
   "metadata": {},
   "outputs": [
    {
     "name": "stdout",
     "output_type": "stream",
     "text": [
      "None\n"
     ]
    }
   ],
   "source": [
    "x = \"ineuron\"\n",
    "def func():\n",
    "    global x\n",
    "    x=\"ni\"\n",
    "    \n",
    "print(func())"
   ]
  },
  {
   "cell_type": "code",
   "execution_count": 7,
   "id": "f0d08106",
   "metadata": {},
   "outputs": [
    {
     "name": "stdout",
     "output_type": "stream",
     "text": [
      "ni\n"
     ]
    }
   ],
   "source": [
    "print(x)"
   ]
  },
  {
   "cell_type": "markdown",
   "id": "c7b037fb",
   "metadata": {},
   "source": [
    "The output of the code is NI. \n",
    "the global keyword is accessible in func and \n",
    "since we are using global keyword inside the  func it directly access the variable in X in global scope then  changes its value to NI."
   ]
  },
  {
   "cell_type": "markdown",
   "id": "b5980017",
   "metadata": {},
   "source": [
    "\n",
    "\n",
    "\n",
    "##### 5.What about this code—what’s the output, and why?\n",
    "\n",
    "&gt;&gt;&gt; X = &#39;iNeuron&#39;            \n",
    "&gt;&gt;&gt; def func():                    \n",
    "X = &#39;NI&#39;                 \n",
    "def nested():                \n",
    "print(X)                                    \n",
    "nested()                          \n",
    "                   \n",
    "&gt;&gt;&gt; func()                \n",
    "&gt;&gt;&gt; X               "
   ]
  },
  {
   "cell_type": "code",
   "execution_count": 8,
   "id": "f535495c",
   "metadata": {},
   "outputs": [],
   "source": [
    "x = \"ineuron\"\n",
    "def func():\n",
    "    x = \"ni\"\n",
    "    def nested():\n",
    "        print(x)\n",
    "\n",
    "    nested()"
   ]
  },
  {
   "cell_type": "code",
   "execution_count": 9,
   "id": "e2078bce",
   "metadata": {},
   "outputs": [
    {
     "name": "stdout",
     "output_type": "stream",
     "text": [
      "ni\n"
     ]
    },
    {
     "data": {
      "text/plain": [
       "'ineuron'"
      ]
     },
     "execution_count": 9,
     "metadata": {},
     "output_type": "execute_result"
    }
   ],
   "source": [
    "func()\n",
    "x"
   ]
  },
  {
   "cell_type": "markdown",
   "id": "32d98f17",
   "metadata": {},
   "source": [
    "The output of the code is NI.                                    \n",
    "  if a function wants to access a variable, if its not available in local,                                 \n",
    "it looks for the variable in global.                                         \n",
    "similarly here also function nested looks for variable X in its global scope. hence the output of the code is NI                   "
   ]
  },
  {
   "cell_type": "markdown",
   "id": "fb8e7c0c",
   "metadata": {},
   "source": [
    "\n",
    "\n",
    "#####  6. How about this code: what is its output in Python 3, and explain?\n",
    "\n",
    "&gt;&gt;&gt; def func():                  \n",
    "X = &#39;NI&#39;                   \n",
    "def nested():                \n",
    "nonlocal X                  \n",
    "X = &#39;Spam&#39;                   \n",
    "nested()             \n",
    "print(X)                      \n",
    "\n",
    "&gt;&gt;&gt; func()                     "
   ]
  },
  {
   "cell_type": "code",
   "execution_count": 10,
   "id": "8d3641c9",
   "metadata": {},
   "outputs": [
    {
     "name": "stdout",
     "output_type": "stream",
     "text": [
      "spam\n"
     ]
    }
   ],
   "source": [
    "def func():\n",
    "    x = \"ni\"\n",
    "    def nested():\n",
    "        nonlocal x\n",
    "        x = \"spam\"\n",
    "    nested()\n",
    "    print(x)\n",
    "func()"
   ]
  },
  {
   "cell_type": "markdown",
   "id": "c22991f1",
   "metadata": {},
   "source": [
    "since we are printing x in \"func()\"  we will get the most recent value for x because non-local fuction is used to set the value for variable not as a local so new'est' value of x will be printed which is spam it changes value of x as global keywords instead of local. "
   ]
  },
  {
   "cell_type": "code",
   "execution_count": null,
   "id": "9eb1dcb9",
   "metadata": {},
   "outputs": [],
   "source": []
  },
  {
   "cell_type": "markdown",
   "id": "78ca9dc5",
   "metadata": {},
   "source": []
  },
  {
   "cell_type": "code",
   "execution_count": null,
   "id": "1862a1f0",
   "metadata": {},
   "outputs": [],
   "source": []
  },
  {
   "cell_type": "code",
   "execution_count": null,
   "id": "c8d64551",
   "metadata": {},
   "outputs": [],
   "source": []
  }
 ],
 "metadata": {
  "kernelspec": {
   "display_name": "Python 3 (ipykernel)",
   "language": "python",
   "name": "python3"
  },
  "language_info": {
   "codemirror_mode": {
    "name": "ipython",
    "version": 3
   },
   "file_extension": ".py",
   "mimetype": "text/x-python",
   "name": "python",
   "nbconvert_exporter": "python",
   "pygments_lexer": "ipython3",
   "version": "3.9.6"
  }
 },
 "nbformat": 4,
 "nbformat_minor": 5
}
