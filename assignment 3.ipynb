{
 "cells": [
  {
   "cell_type": "markdown",
   "id": "5702b6b2",
   "metadata": {},
   "source": [
    "## assignment 3"
   ]
  },
  {
   "cell_type": "markdown",
   "id": "49447cd5",
   "metadata": {},
   "source": [
    "1. Why are functions advantageous to have in your programs?                                 \n",
    "\n",
    ">ans = we dont need to duplicate code. This makes programs shorter, easier to read, and easier to update.                                 \n",
    "\n",
    "2. When does the code in a function run: when it's specified or when it's called?                                   \n",
    "\n",
    ">ans = when a fuction is called \n",
    "\n",
    "3. What statement creates a function?                                                                      \n",
    "\n",
    ">ans = The def statement defines/creates a function                                         \n",
    "\n",
    "4. What is the difference between a function and a function call?                                     \n",
    ">ans = A function consists of the def statement and the code in its def clause.\n",
    "A function call is what moves the program execution into the function, and the function call evaluates to the function’s return value                                                              \n",
    "\n",
    "5. How many global scopes are there in a Python program? How many local scopes?                                                                     \n",
    "\n",
    ">ans = There is one global scope, and a local scope is created whenever a function is called                          \n",
    "\n",
    "6. What happens to variables in a local scope when the function call returns?                                              \n",
    "\n",
    ">ans = When a function call returns, the local scope is destroyed, and all the variables in it are forgotten.                              \n",
    "\n",
    "7. What is the concept of a return value? Is it possible to have a return value in an expression?                     \n",
    ">ans = A return value is the value that a function evaluates to. Like any value, a return value can be used as part of an expression                                                                                                                    \n",
    "8. If a function does not have a return statement, what is the return value of a call to that function?\n",
    ">ans= If there is no return statement for a function, its return value is None                                                                                                                      \n",
    "9. How do you make a function variable refer to the global variable?\n",
    ">ans =  global statement will force a variable in a function to refer to the global variable unless its defined in function itself.                                                                                                                                                                        \n",
    "10. What is the data type of None?                                       \n",
    ">ans = NoneType\n",
    "\n",
    "11. What does the sentence import areallyourpetsnamederic do?\n",
    ">ans = That import statement imports a module named areallyourpetsnamederic.\n",
    "\n",
    "12. If you had a bacon() feature in a spam module, what would you call it after importing spam?\n",
    ">ans = This function can be called with spam.bacon()                                                           \n",
    "13. What can you do to save a programme from crashing if it encounters an error?\n",
    ">ans= using try except method to handle  unexpected errors. Place the line of code that might cause an error in a try clause\n",
    "and handle error with exeptions                                                                              \n",
    "14. What is the purpose of the try clause? What is the purpose of the except clause?\n",
    ">ans = if we run code it will be in the try clause and if there is any kind of error will handle with except  \n",
    "    The code that executes if an error happens goes in the except clause.                                        \n",
    "\n",
    "\n",
    "\n",
    "\n",
    "\n",
    "\n",
    "."
   ]
  },
  {
   "cell_type": "code",
   "execution_count": null,
   "id": "70044d4e",
   "metadata": {},
   "outputs": [],
   "source": []
  }
 ],
 "metadata": {
  "kernelspec": {
   "display_name": "Python 3 (ipykernel)",
   "language": "python",
   "name": "python3"
  },
  "language_info": {
   "codemirror_mode": {
    "name": "ipython",
    "version": 3
   },
   "file_extension": ".py",
   "mimetype": "text/x-python",
   "name": "python",
   "nbconvert_exporter": "python",
   "pygments_lexer": "ipython3",
   "version": "3.9.6"
  }
 },
 "nbformat": 4,
 "nbformat_minor": 5
}
