{
 "cells": [
  {
   "cell_type": "markdown",
   "id": "6d91865c",
   "metadata": {},
   "source": [
    "1. In what modes should the PdfFileReader() and PdfFileWriter() File objects will be opened?"
   ]
  },
  {
   "cell_type": "markdown",
   "id": "aa51b0a6",
   "metadata": {},
   "source": [
    "> For PdfFileReader() file objects should be opened in rb -> read binary mode, Whereas for PdfFileWriter() file objects should be opened in wb -> write binary mode.\n",
    "\n"
   ]
  },
  {
   "cell_type": "markdown",
   "id": "604407c3",
   "metadata": {},
   "source": [
    "2. From a PdfFileReader object, how do you get a Page object for page 5?"
   ]
  },
  {
   "cell_type": "markdown",
   "id": "6062f6ea",
   "metadata": {},
   "source": [
    ">PdfFileReader class provides a method called getPage(page_no) to get a page object.\n"
   ]
  },
  {
   "cell_type": "markdown",
   "id": "fc38351f",
   "metadata": {},
   "source": [
    "3. What PdfFileReader variable stores the number of pages in the PDF document?"
   ]
  },
  {
   "cell_type": "markdown",
   "id": "bb7a3f3e",
   "metadata": {},
   "source": [
    ">Ans: getNumPages() method of PdfFileReader class stores the no pages in a PDF document\n",
    "\n"
   ]
  },
  {
   "cell_type": "markdown",
   "id": "d92d92ba",
   "metadata": {},
   "source": [
    "4. If a PdfFileReader object’s PDF is encrypted with the password swordfish, what must you do\n",
    "before you can obtain Page objects from it?"
   ]
  },
  {
   "cell_type": "markdown",
   "id": "14850fd1",
   "metadata": {},
   "source": [
    "> If a PdfFileReader object’s PDF is encrypted with the password swordfish and you're not aware of it. first read the Pdf using the PdfFileReader Class. PdfFileReader class provides a attribute called isEncrypted to check whether a pdf is encrypted or not. the method returns true if a pdf is encrypted and vice versa.\n",
    "if pdf is encrypted use the decrypt() method provided by PdfFileReader class first then try to read the contents/pages of the pdf, else PyPDF2 will raise the following error\n",
    "\n",
    "\n",
    "\n",
    "              PyPDF2.utils.PdfReadError: file has not been decrypted"
   ]
  },
  {
   "cell_type": "markdown",
   "id": "035fc211",
   "metadata": {},
   "source": [
    "5. What methods do you use to rotate a page?"
   ]
  },
  {
   "cell_type": "markdown",
   "id": "4f1a3461",
   "metadata": {},
   "source": [
    "> PyPDF2 Package provides 2 methods to rotate a page:\n",
    "\n",
    "        rotateClockWise() -> For Clockwise rotation\n",
    "        rotateCounterClockWise() -> For Counter Clockwise rotatio"
   ]
  },
  {
   "cell_type": "markdown",
   "id": "2bc632bb",
   "metadata": {},
   "source": [
    "6. What is the difference between a Run object and a Paragraph object?"
   ]
  },
  {
   "cell_type": "markdown",
   "id": "c03c2b3c",
   "metadata": {},
   "source": [
    ">The structure of a document is represented by three different data types in python-Docx. At the highest level, a Document object represents the entire document. The Document object contains a list of Paragraph objects for the paragraphs in the document. (A new paragraph begins whenever the user presses ENTER or RETURN while typing in a Word document.) Each of these Paragraph objects contains a list of one or more Run objects.\n",
    "\n",
    " \n",
    "\n",
    "            The text in a Word document is more than just a string.\n",
    "            It has font, size, color, and other styling information associated with it.\n",
    "            A style in Word is a collection of these attributes.\n",
    "            A Run object is a contiguous run of text with the same style.\n",
    "            A new Run object is needed whenever the text style changes."
   ]
  },
  {
   "cell_type": "markdown",
   "id": "1e70287f",
   "metadata": {},
   "source": [
    "7. How do you obtain a list of Paragraph objects for a Document object that’s stored in a variable\n",
    "named doc?"
   ]
  },
  {
   "cell_type": "code",
   "execution_count": 6,
   "id": "ff12fd29",
   "metadata": {},
   "outputs": [
    {
     "name": "stdout",
     "output_type": "stream",
     "text": [
      "[<docx.text.paragraph.Paragraph object at 0x000001C99F672CA0>]\n",
      "Enthusiasm\n",
      "\n"
     ]
    }
   ],
   "source": [
    "from docx import Document\n",
    "doc = Document(\"sample.docx\") \n",
    "print(doc.paragraphs)\n",
    "for paragraph in doc.paragraphs:\n",
    "    pass\n",
    "    print(paragraph.text) "
   ]
  },
  {
   "cell_type": "code",
   "execution_count": 7,
   "id": "44afd3a9",
   "metadata": {},
   "outputs": [],
   "source": [
    "# !pip install docx \n",
    "# !pip install python-docx "
   ]
  },
  {
   "cell_type": "markdown",
   "id": "e190f921",
   "metadata": {},
   "source": [
    "8. What type of object has bold, underline, italic, strike, and outline variables?"
   ]
  },
  {
   "cell_type": "markdown",
   "id": "d038c77d",
   "metadata": {},
   "source": [
    "Run object has bold, underline, italic, strike, and outline variables.\n",
    "\n",
    "A style in Word is a collection of these attributes. A Run object is a contiguous run of text with the same style. A new Run object is needed whenever the text style changes."
   ]
  },
  {
   "cell_type": "markdown",
   "id": "0e289a1c",
   "metadata": {},
   "source": [
    "9.What is the difference between False, True, and None for the bold variable?"
   ]
  },
  {
   "cell_type": "markdown",
   "id": "fd18581f",
   "metadata": {},
   "source": [
    "\n",
    "bold = True =  Style Set to Bold                                             \n",
    "bold = False = Style Not Set to Bold                       \n",
    "bold = None  =Style is Not Applicable                          "
   ]
  },
  {
   "cell_type": "markdown",
   "id": "347c4ff6",
   "metadata": {},
   "source": [
    "10.How do you create a Document object for a new Word document?"
   ]
  },
  {
   "cell_type": "code",
   "execution_count": 8,
   "id": "baa924bd",
   "metadata": {},
   "outputs": [],
   "source": [
    "from docx import Document\n",
    "document = Document()\n",
    "document.add_paragraph(\"demo text\")\n",
    "document.save('sample.docx')"
   ]
  },
  {
   "cell_type": "markdown",
   "id": "6431e6e5",
   "metadata": {},
   "source": [
    "11. How do you add a paragraph with the text &#39;Hello, there!&#39; to a Document object stored in a\n",
    "variable named doc?"
   ]
  },
  {
   "cell_type": "code",
   "execution_count": 10,
   "id": "e9202039",
   "metadata": {},
   "outputs": [],
   "source": [
    "from docx import Document\n",
    "doc = Document()\n",
    "doc.add_paragraph('Hello, there!')\n",
    "doc.save('sample.docx')"
   ]
  },
  {
   "cell_type": "markdown",
   "id": "d7ba9bfc",
   "metadata": {},
   "source": [
    "12. What integers represent the levels of headings available in Word documents?"
   ]
  },
  {
   "cell_type": "markdown",
   "id": "106de738",
   "metadata": {},
   "source": [
    "The levels for a heading in a word document can be specified by using the level attribute inside the add_heading method. There are a total of 5 levels statring for 0 to 4. where level 0 makes a headline with the horizontal line below the text, whereas the heading level 1 is the main heading. Similarly, the other headings are sub-heading with their's font-sizes in decreases accordingly"
   ]
  },
  {
   "cell_type": "code",
   "execution_count": null,
   "id": "6f0bee67",
   "metadata": {},
   "outputs": [],
   "source": []
  }
 ],
 "metadata": {
  "kernelspec": {
   "display_name": "Python 3 (ipykernel)",
   "language": "python",
   "name": "python3"
  },
  "language_info": {
   "codemirror_mode": {
    "name": "ipython",
    "version": 3
   },
   "file_extension": ".py",
   "mimetype": "text/x-python",
   "name": "python",
   "nbconvert_exporter": "python",
   "pygments_lexer": "ipython3",
   "version": "3.9.6"
  }
 },
 "nbformat": 4,
 "nbformat_minor": 5
}
